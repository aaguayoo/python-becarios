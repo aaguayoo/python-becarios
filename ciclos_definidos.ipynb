{
 "cells": [
  {
   "cell_type": "markdown",
   "id": "920b9b0f-10ea-4fa0-86ad-63508f95798d",
   "metadata": {},
   "source": [
    "# Ciclos definidos: `for`\n",
    "\n",
    "Dentro de las estructuras de código, se encuentran aquellas que nos permiten realizar ciclos sobre alguna colección, recorriendo los elementos uno a uno y almacenándolo en una variable temporarl. A estos ciclos se les conoce como definidos, ya que en principio no se debe cumplir ninguna condición para finalizar, simplemente acabar de iterar sobre los elementos de la colección. Para definir éste tipo de estructuras de flujo existe la partícula _for_.\n",
    "\n",
    "Cuando decimos una __colección__ nos referimos a cualquier objeto que pueda almacenar otro objetos: `listas`, `tuplas`, `conjuntos`, `diccionarios`"
   ]
  },
  {
   "cell_type": "markdown",
   "id": "37886309-f8b1-4220-8bcb-77b41d918909",
   "metadata": {},
   "source": [
    "## Declaración de un ciclo definido\n",
    "\n",
    "```C++\n",
    "// En C++\n",
    "int variable_local;\n",
    "for ( variable_local; limite; aumento ){\n",
    "    código_a_ejecutar\n",
    "}\n",
    "```\n",
    "\n",
    "```python\n",
    "# En Python\n",
    "for variable_local in coleccion:\n",
    "    código_a_ejecutar\n",
    "```"
   ]
  },
  {
   "cell_type": "code",
   "execution_count": 2,
   "id": "fb76a136-0315-43b9-ba2a-05b1f84535b2",
   "metadata": {
    "tags": []
   },
   "outputs": [
    {
     "name": "stdout",
     "output_type": "stream",
     "text": [
      "2\n",
      "4\n",
      "6\n",
      "8\n",
      "10\n"
     ]
    }
   ],
   "source": [
    "# Ejemplo\n",
    "numeros_pares = [2, 4, 6, 8, 10]\n",
    "\n",
    "for numero in numeros_pares:\n",
    "    print(numero) # La variable `numero` se le conoce como: variable local o variable dummy"
   ]
  },
  {
   "cell_type": "code",
   "execution_count": 5,
   "id": "5eb70c44-df3d-44a3-8d11-2e34bdefa7be",
   "metadata": {
    "tags": []
   },
   "outputs": [
    {
     "data": {
      "text/plain": [
       "10"
      ]
     },
     "execution_count": 5,
     "metadata": {},
     "output_type": "execute_result"
    }
   ],
   "source": [
    "numero # Si la regreso afuera del ciclo, me regresa el último valor de la colección que agarró"
   ]
  },
  {
   "cell_type": "markdown",
   "id": "5f12c38e-43c6-4156-92f8-76396c6aa589",
   "metadata": {},
   "source": [
    "### Estructuras de flujo anidadas\n",
    "\n",
    "Es posible anidar estructuras de flujo, ya sean ciclos dentro de ciclos, condicionales dentro de ciclos, o ciclos dentro de condicionales. "
   ]
  },
  {
   "cell_type": "code",
   "execution_count": 7,
   "id": "b3507b17-c80e-4e9a-84c3-0ce344b32c60",
   "metadata": {
    "tags": []
   },
   "outputs": [
    {
     "name": "stdout",
     "output_type": "stream",
     "text": [
      "El número 2 es menor que 5\n",
      "El número 4 es menor que 5\n",
      "El número 6 es mayor o igual a 5\n",
      "El número 8 es mayor o igual a 5\n",
      "El número 10 es mayor o igual a 5\n"
     ]
    }
   ],
   "source": [
    "for numero in numeros_pares:\n",
    "\tif numero < 5:\n",
    "\t\tprint(f\"El número {numero} es menor que 5\")\n",
    "\telse:\n",
    "\t\tprint(f\"El número {numero} es mayor o igual a 5\") # Tener en cuenta la indentación y listo"
   ]
  },
  {
   "cell_type": "markdown",
   "id": "0a6f7311-b25d-4175-a896-180499f0834d",
   "metadata": {},
   "source": [
    "### Iteración sobre múltiples colecciones"
   ]
  },
  {
   "cell_type": "code",
   "execution_count": 8,
   "id": "488aab92-bcd9-426b-9e2f-a4b1b5774e0e",
   "metadata": {
    "tags": []
   },
   "outputs": [],
   "source": [
    "nombres = [\"Alejandro\", \"Roberto\", \"Lucía\"]\n",
    "apellidos = [\"Ramírez\", \"López\", \"Arriaga\"]"
   ]
  },
  {
   "cell_type": "code",
   "execution_count": 10,
   "id": "16cba2fa-ffe1-4a73-964e-d99176eac79b",
   "metadata": {
    "tags": []
   },
   "outputs": [
    {
     "name": "stdout",
     "output_type": "stream",
     "text": [
      "Alejandro Ramírez\n",
      "Alejandro López\n",
      "Alejandro Arriaga\n",
      "Roberto Ramírez\n",
      "Roberto López\n",
      "Roberto Arriaga\n",
      "Lucía Ramírez\n",
      "Lucía López\n",
      "Lucía Arriaga\n"
     ]
    }
   ],
   "source": [
    "# Doble ciclo\n",
    "for nombre in nombres:\n",
    "    for apellido in apellidos:\n",
    "        print(nombre, apellido) # Creación de matrices NxM"
   ]
  },
  {
   "cell_type": "code",
   "execution_count": 12,
   "id": "bc3a5949-8ede-430a-9b0c-8d724f5d7f10",
   "metadata": {
    "tags": []
   },
   "outputs": [],
   "source": [
    "# Si queremos que cada elemento de la colección corresponda únicamente con un elemento de la otra colección, y el que tiene el mismo índice\n",
    "# Lo que queremos es hacer un cíclo sobre ambas colecciones al mismo tiempo"
   ]
  },
  {
   "cell_type": "code",
   "execution_count": 17,
   "id": "f1f52764-1798-438f-94f1-c01805f14455",
   "metadata": {
    "tags": []
   },
   "outputs": [
    {
     "name": "stdout",
     "output_type": "stream",
     "text": [
      "Alejandro Ramírez\n",
      "Roberto López\n",
      "Lucía Arriaga\n"
     ]
    }
   ],
   "source": [
    "# La forma chafa, o la forma en C\n",
    "for indice in range(len(nombres)): # Voy a obtener los índices de cada elemento de las listas, usando como referencia el largo de `nombres`\n",
    "    print(nombres[indice], apellidos[indice])"
   ]
  },
  {
   "cell_type": "code",
   "execution_count": 24,
   "id": "02aceb29-b1c1-4c46-9336-cf8f2f6998ae",
   "metadata": {
    "tags": []
   },
   "outputs": [
    {
     "name": "stdout",
     "output_type": "stream",
     "text": [
      "Alejandro Ramírez\n",
      "Roberto López\n",
      "Lucía Arriaga\n"
     ]
    }
   ],
   "source": [
    "# La forma Pythonica de hacerlo\n",
    "for nombre, apellido in zip(nombres, apellidos): # La función zip hace una colección de tuplas donde cada elemento es la tupla de los elementos de las colecciones\n",
    "    print(nombre, apellido)\n",
    "    \n",
    "# nombres = [nombre_1, nombre_2, ...]\n",
    "# apellidos = [apellido_1, apellido_2, ...]\n",
    "# zip(nombres, apellidos) -> [(nombre_1, apellido_1), (nombre_2, apellido_2), ...]"
   ]
  },
  {
   "cell_type": "markdown",
   "id": "fb5b9d13-7168-4775-8606-ba3960118326",
   "metadata": {},
   "source": [
    "Nota: podemos hacer _zip_ de cuantas colecciones queramos, siempre que tengan el mismo tamaño todas:\n",
    "```python\n",
    "for x_1, x_2, ..., x_n in zip(colección_1, colección_2, ..., colección_n):\n",
    "\tcódigo a ejecutar\n",
    "```"
   ]
  },
  {
   "cell_type": "code",
   "execution_count": 25,
   "id": "d3ba6970-4d45-4d08-b342-b42b16d4d7ce",
   "metadata": {
    "tags": []
   },
   "outputs": [
    {
     "name": "stdout",
     "output_type": "stream",
     "text": [
      "1 a\n",
      "2 b\n"
     ]
    }
   ],
   "source": [
    "coleccion_1 = [1,2,3]\n",
    "coleccion_2 = [\"a\",\"b\"]\n",
    "\n",
    "for col_1, col_2 in zip(coleccion_1, coleccion_2):\n",
    "    print(col_1, col_2)\n",
    "\n",
    "# Agarra tantos elementos como la colección de menor tamaño"
   ]
  },
  {
   "cell_type": "markdown",
   "id": "f782171f-106c-439d-ae68-0235993f7cfe",
   "metadata": {},
   "source": [
    "### Iteración sobre diccionarios\n",
    "\n",
    "```python\n",
    "for llave, valor in diccionario.items():\n",
    "    codigo_a_ejecutar\n",
    "```"
   ]
  },
  {
   "cell_type": "code",
   "execution_count": 26,
   "id": "36ff56f7-9808-4b0e-ad52-f8f4a2d758e8",
   "metadata": {
    "tags": []
   },
   "outputs": [],
   "source": [
    "diccionario = {\n",
    "    \"a\": 1,\n",
    "    \"b\": 2,\n",
    "    \"c\": 3,\n",
    "}"
   ]
  },
  {
   "cell_type": "code",
   "execution_count": 30,
   "id": "082a8a30-b886-4d07-b657-bcfd0577a95b",
   "metadata": {
    "tags": []
   },
   "outputs": [
    {
     "name": "stdout",
     "output_type": "stream",
     "text": [
      "a 1\n",
      "b 2\n",
      "c 3\n"
     ]
    }
   ],
   "source": [
    "# La mejor forma\n",
    "for llave, valor in diccionario.items():\n",
    "    print(llave, valor)"
   ]
  },
  {
   "cell_type": "code",
   "execution_count": 28,
   "id": "17741b31-10a6-4116-a578-e8c6c2ee8a58",
   "metadata": {
    "tags": []
   },
   "outputs": [
    {
     "name": "stdout",
     "output_type": "stream",
     "text": [
      "a\n",
      "b\n",
      "c\n"
     ]
    }
   ],
   "source": [
    "for llave in diccionario.keys():\n",
    "    print(llave)"
   ]
  },
  {
   "cell_type": "code",
   "execution_count": 29,
   "id": "64cc0239-f518-450e-8ca3-8b740b7754a0",
   "metadata": {
    "tags": []
   },
   "outputs": [
    {
     "name": "stdout",
     "output_type": "stream",
     "text": [
      "1\n",
      "2\n",
      "3\n"
     ]
    }
   ],
   "source": [
    "for valor in diccionario.values():\n",
    "    print(valor)"
   ]
  }
 ],
 "metadata": {
  "kernelspec": {
   "display_name": "Python 3 (ipykernel)",
   "language": "python",
   "name": "python3"
  },
  "language_info": {
   "codemirror_mode": {
    "name": "ipython",
    "version": 3
   },
   "file_extension": ".py",
   "mimetype": "text/x-python",
   "name": "python",
   "nbconvert_exporter": "python",
   "pygments_lexer": "ipython3",
   "version": "3.10.6"
  }
 },
 "nbformat": 4,
 "nbformat_minor": 5
}
