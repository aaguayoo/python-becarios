{
 "cells": [
  {
   "cell_type": "markdown",
   "id": "a12b620f-28b1-4b63-bd24-f6448ddd4bcb",
   "metadata": {},
   "source": [
    "# Herencia"
   ]
  },
  {
   "cell_type": "markdown",
   "id": "1bdd3ba0-6e84-400a-ba68-8626a29544e2",
   "metadata": {},
   "source": [
    "Ya hemos definido clases como abstracción de objetos, que cuentan con argumentos y métodos, sin embargo durante el proceso de abstracción de objetos, podemos encontrarnos casos donde el objeto que estamos trabajando tiene varios niveles de abstracción, es decir, que puede pertenecer a diferentes clases que estén relacionadas enter sí. Por ejemplo, un Oso a su vez es un animal, entonces el objeto Oso, que pertenece a la clase Oso, también pertenece a la calse Animal"
   ]
  },
  {
   "cell_type": "code",
   "execution_count": 10,
   "id": "71ac7b27-9399-4fd2-822e-6f1f82b63d50",
   "metadata": {
    "tags": []
   },
   "outputs": [],
   "source": [
    "# Si declaramos una clase Oso\n",
    "\n",
    "class Oso:\n",
    "    \n",
    "    especie = \"Ursus arctos\"\n",
    "    esDomestico = False\n",
    "    seMueve = True\n",
    "    \n",
    "    def __init__(self, alimentacion: str, tienePelo: bool) -> None:\n",
    "        self.alimentacion = alimentacion\n",
    "        self.tienePelo = tienePelo"
   ]
  },
  {
   "cell_type": "code",
   "execution_count": 11,
   "id": "a0d904d0-cba9-4947-b202-9763f7c7db67",
   "metadata": {
    "tags": []
   },
   "outputs": [],
   "source": [
    "# Si declaramos otro animal, por ejemplo, Gato\n",
    "class Gato:\n",
    "    \n",
    "    especie = \"Felis catus\"\n",
    "    esDomestico = True\n",
    "    seMueve = True\n",
    "    \n",
    "    def __init__(self, alimentacion: str, tienePelo: bool) -> None:\n",
    "        self.alimentacion = alimentacion\n",
    "        self.tienePelo = tienePelo"
   ]
  },
  {
   "cell_type": "code",
   "execution_count": 12,
   "id": "eb91851e-0a21-4348-822a-a04124a63caa",
   "metadata": {
    "tags": []
   },
   "outputs": [],
   "source": [
    "minino = Gato(\"croquetas\", True)\n",
    "osito = Oso(\"peces\", True)"
   ]
  },
  {
   "cell_type": "code",
   "execution_count": null,
   "id": "c6bebb69-d16d-46c0-b21e-7f12d57538d9",
   "metadata": {},
   "outputs": [],
   "source": [
    "minino."
   ]
  },
  {
   "cell_type": "code",
   "execution_count": null,
   "id": "6b55f99e-2df1-4586-8cfb-a917c851ae01",
   "metadata": {},
   "outputs": [],
   "source": [
    "osito."
   ]
  },
  {
   "cell_type": "markdown",
   "id": "8675c09b-cba5-4c9c-a363-9b114bff70d1",
   "metadata": {},
   "source": [
    "Ambos objetos comparten exactamente los mismos atributos, esto se debe a que ambos son animales, y los animales en particular tiene esas propiedades (especia, son o no domésticos, etc). Por lo tanto, existe una clase mas elemental que podemos llamar `Animal` donde podamos definir los atributos que adquieren los animales por el simple hecho de serlo."
   ]
  },
  {
   "cell_type": "code",
   "execution_count": 26,
   "id": "51d23715-e797-467d-bb5b-58b4ac71c569",
   "metadata": {
    "tags": []
   },
   "outputs": [],
   "source": [
    "class Animal:\n",
    "    def __init__(self, seMueve: bool = True) -> None:\n",
    "        self.seMueve = seMueve \n",
    "        \n",
    "    def duerme(self):\n",
    "        print(f\"El animal de especie {self.especie} está durmiendo\")"
   ]
  },
  {
   "cell_type": "markdown",
   "id": "e4423a24-47af-437d-9c57-a2528253dee8",
   "metadata": {},
   "source": [
    "Entonces podemos hacer que la clase Oso y Gato hereden de la clase Animal, sus métodos y atributos"
   ]
  },
  {
   "cell_type": "code",
   "execution_count": 27,
   "id": "8fac6bc6-ae75-458d-9013-aaf898f6582d",
   "metadata": {
    "tags": []
   },
   "outputs": [],
   "source": [
    "# Entre paréntesis se agrega la clase de la cual heredará atributos y métodos\n",
    "class Oso(Animal): \n",
    "    \n",
    "    especie = \"Ursus arctos\"\n",
    "    esDomestico = False\n",
    "    \n",
    "    def __init__(self, alimentacion:str, tienePelo:bool) -> None:\n",
    "        # Antes de la definición de atributos propios de Oso\n",
    "        \n",
    "        super().__init__() # El método interno de Python `super` ayuda a inicializar la clase de la cual\n",
    "                           # se va a heredar\n",
    "        \n",
    "        self.alimentacion = alimentacion\n",
    "        self.tienePelo = tienePelo"
   ]
  },
  {
   "cell_type": "code",
   "execution_count": 28,
   "id": "c4e0085f-72c6-408b-9681-c1b0330c97f4",
   "metadata": {
    "tags": []
   },
   "outputs": [],
   "source": [
    "# Instanciamos objeto de clase con herencia\n",
    "osito = Oso(alimentacion=\"salmón\", tienePelo=True)"
   ]
  },
  {
   "cell_type": "code",
   "execution_count": 29,
   "id": "2d8b80d3-626c-40fa-9044-c3bc3b6c54a8",
   "metadata": {
    "tags": []
   },
   "outputs": [
    {
     "name": "stdout",
     "output_type": "stream",
     "text": [
      "El animal de especie Ursus arctos está durmiendo\n"
     ]
    }
   ],
   "source": [
    "osito.duerme() # Método heredado de Animal"
   ]
  },
  {
   "cell_type": "markdown",
   "id": "e3e11764-ba75-4b1a-b9a5-8e97771b19fb",
   "metadata": {},
   "source": [
    "## Mandar parámetros a la clase madre\n",
    "\n",
    "En este caso, nuestra clase Animal tiene por defecto el valor True en el arguemento `seMueve`. Sin embargo, es posible pasar información a la clase madre por medio de `super`"
   ]
  },
  {
   "cell_type": "code",
   "execution_count": 41,
   "id": "06779b49-68e9-4c00-821f-cd25068010ad",
   "metadata": {
    "tags": []
   },
   "outputs": [],
   "source": [
    "class Animal:\n",
    "    def __init__(self, tienePelo:bool, seMueve: bool = True) -> None:\n",
    "        self.seMueve = seMueve \n",
    "        self.tienePelo = tienePelo\n",
    "        \n",
    "    def duerme(self):\n",
    "        print(f\"El animal está durmiendo\")"
   ]
  },
  {
   "cell_type": "code",
   "execution_count": 48,
   "id": "d22cfada-8dbd-40f0-afa9-08f2f504a199",
   "metadata": {
    "tags": []
   },
   "outputs": [],
   "source": [
    "class Oso(Animal): \n",
    "    \n",
    "    especie = \"Ursus arctos\"\n",
    "    esDomestico = False\n",
    "    \n",
    "    def __init__(self, alimentacion:str, tienePelo: bool) -> None:\n",
    "        # Antes de la definición de atributos propios de Oso\n",
    "        \n",
    "        super().__init__(tienePelo=tienePelo) # El método interno de Python `super` ayuda a inicializar la clase de la cual\n",
    "                           # se va a heredar\n",
    "        \n",
    "        self.alimentacion = alimentacion"
   ]
  },
  {
   "cell_type": "code",
   "execution_count": 43,
   "id": "d63bf0ba-1d80-44f7-b377-35b65146716a",
   "metadata": {
    "tags": []
   },
   "outputs": [],
   "source": [
    "osito = Oso(alimentacion=\"salmón\", tienePelo=True)"
   ]
  },
  {
   "cell_type": "code",
   "execution_count": 44,
   "id": "3064b123-dbbe-42b8-abbb-9a8cecb79eb2",
   "metadata": {
    "tags": []
   },
   "outputs": [
    {
     "data": {
      "text/plain": [
       "True"
      ]
     },
     "execution_count": 44,
     "metadata": {},
     "output_type": "execute_result"
    }
   ],
   "source": [
    "osito.tienePelo"
   ]
  },
  {
   "cell_type": "code",
   "execution_count": 45,
   "id": "43c1ac37-e859-4aa4-b394-d9a416fac40d",
   "metadata": {
    "tags": []
   },
   "outputs": [
    {
     "name": "stdout",
     "output_type": "stream",
     "text": [
      "El animal está durmiendo\n"
     ]
    }
   ],
   "source": [
    "osito.duerme()"
   ]
  },
  {
   "cell_type": "markdown",
   "id": "d9478dd6-773b-4914-8245-e5b9dd577f88",
   "metadata": {},
   "source": [
    "La salida del método duerme no es la más apropiada, ya que no da información de qué animal está durmiendo, por lo que podemos modificar neustra clase madre para obtener información de la clase hija"
   ]
  },
  {
   "cell_type": "code",
   "execution_count": 47,
   "id": "161a1330-cbfc-40f2-ab98-bbf590cc97a8",
   "metadata": {
    "tags": []
   },
   "outputs": [],
   "source": [
    "class Animal:\n",
    "    def __init__(self, tienePelo:bool, seMueve: bool = True) -> None:\n",
    "        self.seMueve = seMueve \n",
    "        self.tienePelo = tienePelo\n",
    "        \n",
    "    def duerme(self):\n",
    "        # Attributo ocutlo __name__ tiene el nombre de la clase\n",
    "        print(f\"El {type(self).__name__} de la especie {self.especie} está durmiendo\")"
   ]
  },
  {
   "cell_type": "code",
   "execution_count": 49,
   "id": "6702e6ac-e60d-4121-920e-45d3bc881be6",
   "metadata": {
    "tags": []
   },
   "outputs": [],
   "source": [
    "osito = Oso(alimentacion=\"salmón\", tienePelo=True)"
   ]
  },
  {
   "cell_type": "code",
   "execution_count": 50,
   "id": "97ff2d6c-afda-4ec8-9e84-a14cbc152431",
   "metadata": {
    "tags": []
   },
   "outputs": [
    {
     "name": "stdout",
     "output_type": "stream",
     "text": [
      "El Oso de la especie Ursus arctos está durmiendo\n"
     ]
    }
   ],
   "source": [
    "osito.duerme()"
   ]
  },
  {
   "cell_type": "code",
   "execution_count": 54,
   "id": "6975af85-bf42-43fc-857d-75f183c199e3",
   "metadata": {
    "tags": []
   },
   "outputs": [],
   "source": [
    "class Gato(Animal):\n",
    "    \n",
    "    especie = \"Felis catus\"\n",
    "    esDomestico = True\n",
    "    \n",
    "    def __init__(self, alimentacion, tienePelo):\n",
    "        super().__init__(tienePelo=tienePelo)\n",
    "        self.alimentacion = alimentacion"
   ]
  },
  {
   "cell_type": "code",
   "execution_count": 55,
   "id": "9750c646-e91a-4255-a810-a872bfe13adb",
   "metadata": {
    "tags": []
   },
   "outputs": [],
   "source": [
    "minino = Gato(alimentacion=\"croquetas\", tienePelo=True)"
   ]
  },
  {
   "cell_type": "code",
   "execution_count": 56,
   "id": "c8fd3ddc-c32a-4820-b08c-5ae948335916",
   "metadata": {
    "tags": []
   },
   "outputs": [
    {
     "name": "stdout",
     "output_type": "stream",
     "text": [
      "El Gato de la especie Felis catus está durmiendo\n"
     ]
    }
   ],
   "source": [
    "minino.duerme()"
   ]
  },
  {
   "cell_type": "code",
   "execution_count": null,
   "id": "82837796-4b91-43d7-8c88-3d67866bc5b5",
   "metadata": {},
   "outputs": [],
   "source": []
  }
 ],
 "metadata": {
  "kernelspec": {
   "display_name": "Python 3 (ipykernel)",
   "language": "python",
   "name": "python3"
  },
  "language_info": {
   "codemirror_mode": {
    "name": "ipython",
    "version": 3
   },
   "file_extension": ".py",
   "mimetype": "text/x-python",
   "name": "python",
   "nbconvert_exporter": "python",
   "pygments_lexer": "ipython3",
   "version": "3.10.6"
  }
 },
 "nbformat": 4,
 "nbformat_minor": 5
}
