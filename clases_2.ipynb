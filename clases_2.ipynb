{
 "cells": [
  {
   "cell_type": "markdown",
   "id": "9d90003c-d4db-4e1f-8acb-4c2b2563913a",
   "metadata": {},
   "source": [
    "# Clases en tiempos modernos\n",
    "\n",
    "Aunque definir clases es uno de los paradigmas más viejos en la programación, no ha perdido vigencia y se ido modernizando poco a poco a través de las versiones más actuales de Python. Uno de los aspectos más destabales es el salto en delcaración de clases, ya que utilizar el método `__init__()` muchas veces resulta confuso, por lo que en versiones modernas se implmenta el uso de `dataclasses`, permitiendo simplificar la construcción de una clase"
   ]
  },
  {
   "cell_type": "markdown",
   "id": "e00d4caa-1e81-4e78-8b2f-2164366eaec6",
   "metadata": {},
   "source": [
    "```python\n",
    "from dataclasses import dataclass\n",
    "\n",
    "@dataclass\n",
    "class NombreClase:\n",
    "    \n",
    "    atributo: anotación\n",
    "    atributo: anotación = valor\n",
    "    \n",
    "    def método (self, argumentos):\n",
    "        sentencias\n",
    "```"
   ]
  },
  {
   "cell_type": "markdown",
   "id": "973dd720-6ceb-4106-aeed-19a2af0b8e07",
   "metadata": {},
   "source": [
    "Nótese que ha desaparecido el uso del méotod mágico `__init__()`, y en su lugar la declaración de atributos queda de una forma directa como si fueran atributos de calse, con la diferencia de que admite valores de entrada, por ejemplo:"
   ]
  },
  {
   "cell_type": "code",
   "execution_count": 1,
   "id": "9af62a13-2e47-463a-a465-a771d5848df1",
   "metadata": {
    "tags": []
   },
   "outputs": [],
   "source": [
    "# Caso anterior\n",
    "class Bicicleta:\n",
    "\n",
    "\tdef __init__(self, color: str, rodada: float, tipo: str):\n",
    "\t\tself.color = color\n",
    "\t\tself.rodada = rodada\n",
    "\t\tself.tipo = tipo"
   ]
  },
  {
   "cell_type": "code",
   "execution_count": 3,
   "id": "df939c2a-85d5-405f-9824-869d0303a910",
   "metadata": {
    "tags": []
   },
   "outputs": [],
   "source": [
    "from dataclasses import dataclass\n",
    "\n",
    "@dataclass\n",
    "class Bicicleta:\n",
    "    \n",
    "    color: str\n",
    "    rodada:float\n",
    "    tipo: str"
   ]
  },
  {
   "cell_type": "markdown",
   "id": "cde7bfea-f2d4-41ee-8557-aee1eb2b88d9",
   "metadata": {},
   "source": [
    "El objeto `dataclass` es un método de la paquetería `dataclasses`, y es llamado como decorador de nuestra clase (`Bicicleta` en el ejemplo anterior), utlizando la estructura `@dataclass`"
   ]
  },
  {
   "cell_type": "markdown",
   "id": "5b73e2a8-aa99-4770-aba0-ef11c9cd1cdd",
   "metadata": {
    "tags": []
   },
   "source": [
    "### Decoradores"
   ]
  },
  {
   "cell_type": "markdown",
   "id": "8b713b3e-3e7f-42cf-bffd-1f1089e0427c",
   "metadata": {},
   "source": [
    "Supongamos que tenemos un conjunto de funciones, que realizan ciertas sentencias particulares, por ejemplo, operaciones matemáticas entre dos números:"
   ]
  },
  {
   "cell_type": "code",
   "execution_count": 8,
   "id": "b5283f21-f9b5-4887-a4ac-d35964af3d47",
   "metadata": {
    "tags": []
   },
   "outputs": [],
   "source": [
    "def suma(a:int, b:int):\n",
    "    return a+b\n",
    "\n",
    "def resta(a:int, b:int):\n",
    "    return a-b\n",
    "\n",
    "# ··· Son muchas"
   ]
  },
  {
   "cell_type": "markdown",
   "id": "a60d36ed-f9e5-46bc-b426-d582e487199c",
   "metadata": {},
   "source": [
    "Ahora supongamos que requerimos que siempre, antes de realizar la operación y regresar el resultado, necesitamos que se imprima un saludo y al final una despedida."
   ]
  },
  {
   "cell_type": "code",
   "execution_count": null,
   "id": "2b106bf3-f295-46b2-a79d-b6e2b21204aa",
   "metadata": {},
   "outputs": [],
   "source": [
    "def suma(a:int, b:int):\n",
    "    print(\"Hola, mundo!\")\n",
    "    c = a+b\n",
    "    print(\"Adios, mundo!\")\n",
    "    return c\n",
    "\n",
    "def resta(a:int, b:int):\n",
    "    print(\"Hola, mundo!\")\n",
    "    c = a-b\n",
    "    print(\"Adios, mundo!\")\n",
    "    return c"
   ]
  },
  {
   "cell_type": "markdown",
   "id": "00785b07-e057-4288-95a2-374739a69c60",
   "metadata": {},
   "source": [
    "Llamamos a un decorador. Un decorador es una función que se aplica sobre otra función."
   ]
  },
  {
   "cell_type": "code",
   "execution_count": 15,
   "id": "c9e0d800-84a1-4902-809f-302e0ef389ba",
   "metadata": {
    "tags": []
   },
   "outputs": [],
   "source": [
    "def decorador_impresion(funcion):\n",
    "    def wrapper(*args):\n",
    "        print(\"Hola, mundo!\")\n",
    "        result = funcion(*args)\n",
    "        print(result)\n",
    "        print(\"Adios, mundo!\")\n",
    "        return result\n",
    "        \n",
    "    return wrapper"
   ]
  },
  {
   "cell_type": "code",
   "execution_count": 10,
   "id": "4e983618-3766-47d4-8fff-4491fa9be7d1",
   "metadata": {
    "tags": []
   },
   "outputs": [],
   "source": [
    "def suma(a:int, b:int):\n",
    "    return a+b\n",
    "\n",
    "def resta(a:int, b:int):\n",
    "    return a-b"
   ]
  },
  {
   "cell_type": "code",
   "execution_count": 11,
   "id": "f75efa9a-c5f4-4bc8-aef4-1d2ca37ca8f2",
   "metadata": {
    "tags": []
   },
   "outputs": [
    {
     "data": {
      "text/plain": [
       "3"
      ]
     },
     "execution_count": 11,
     "metadata": {},
     "output_type": "execute_result"
    }
   ],
   "source": [
    "suma(1,2)"
   ]
  },
  {
   "cell_type": "code",
   "execution_count": 12,
   "id": "6825dd89-5e8c-4cb4-8998-a4641fd57d83",
   "metadata": {
    "tags": []
   },
   "outputs": [
    {
     "data": {
      "text/plain": [
       "-1"
      ]
     },
     "execution_count": 12,
     "metadata": {},
     "output_type": "execute_result"
    }
   ],
   "source": [
    "resta(1,2)"
   ]
  },
  {
   "cell_type": "code",
   "execution_count": 16,
   "id": "cc1f2ca6-2efd-454c-a3a2-61b5cb381d00",
   "metadata": {
    "tags": []
   },
   "outputs": [],
   "source": [
    "@decorador_impresion\n",
    "def suma(a:int, b:int):\n",
    "    return a+b\n",
    "\n",
    "@decorador_impresion\n",
    "def resta(a:int, b:int):\n",
    "    return a-b"
   ]
  },
  {
   "cell_type": "code",
   "execution_count": 18,
   "id": "65d4b9ca-3d12-4c0f-a06c-4f331a5b2c8e",
   "metadata": {
    "tags": []
   },
   "outputs": [
    {
     "name": "stdout",
     "output_type": "stream",
     "text": [
      "Hola, mundo!\n",
      "3\n",
      "Adios, mundo!\n"
     ]
    }
   ],
   "source": [
    "resultado = suma(1,2)"
   ]
  },
  {
   "cell_type": "code",
   "execution_count": 19,
   "id": "0117dbf4-d036-4a8c-aaed-7bae4d332f45",
   "metadata": {
    "tags": []
   },
   "outputs": [
    {
     "name": "stdout",
     "output_type": "stream",
     "text": [
      "Hola, mundo!\n",
      "-1\n",
      "Adios, mundo!\n"
     ]
    }
   ],
   "source": [
    "resultado = resta(1,2)"
   ]
  },
  {
   "cell_type": "code",
   "execution_count": 26,
   "id": "b317a776-330f-4a90-a5e2-2e5359e87810",
   "metadata": {
    "tags": []
   },
   "outputs": [],
   "source": [
    "# Ejemplo de clases con decoradores\n",
    "from dataclasses import dataclass\n",
    "\n",
    "@dataclass\n",
    "class OperacionesBasicas:\n",
    "    \n",
    "    a:int\n",
    "    b:int\n",
    "    \n",
    "    @decorador_impresion\n",
    "    def suma(self):\n",
    "        return self.a + self.b\n",
    "    \n",
    "    @decorador_impresion\n",
    "    def resta(self):\n",
    "        return self.a - self.b\n",
    "    \n",
    "    @decorador_impresion\n",
    "    def producto(self):\n",
    "        return self.a * self.b\n",
    "    \n",
    "    @decorador_impresion\n",
    "    def division(self):\n",
    "        return self.a / self.b\n",
    "    \n",
    "    @decorador_impresion\n",
    "    def potencia(self):\n",
    "        return self.a ** self.b"
   ]
  },
  {
   "cell_type": "code",
   "execution_count": 37,
   "id": "d76835dd-36df-4768-afd3-710af946e012",
   "metadata": {
    "tags": []
   },
   "outputs": [],
   "source": [
    "op = OperacionesBasicas(3,2)"
   ]
  },
  {
   "cell_type": "code",
   "execution_count": 38,
   "id": "ddb0b9e4-a5ee-4b1b-bbf2-cc9c599a212d",
   "metadata": {
    "tags": []
   },
   "outputs": [
    {
     "name": "stdout",
     "output_type": "stream",
     "text": [
      "Hola, mundo!\n",
      "5\n",
      "Adios, mundo!\n"
     ]
    },
    {
     "data": {
      "text/plain": [
       "5"
      ]
     },
     "execution_count": 38,
     "metadata": {},
     "output_type": "execute_result"
    }
   ],
   "source": [
    "op.suma()"
   ]
  },
  {
   "cell_type": "code",
   "execution_count": 39,
   "id": "a4c8db8b-3107-4c89-9a59-c8b38dea667e",
   "metadata": {
    "tags": []
   },
   "outputs": [
    {
     "name": "stdout",
     "output_type": "stream",
     "text": [
      "Hola, mundo!\n",
      "9\n",
      "Adios, mundo!\n"
     ]
    },
    {
     "data": {
      "text/plain": [
       "9"
      ]
     },
     "execution_count": 39,
     "metadata": {},
     "output_type": "execute_result"
    }
   ],
   "source": [
    "op.potencia()"
   ]
  },
  {
   "cell_type": "markdown",
   "id": "a067c1d7-17d7-4df8-8953-1d326218ec5d",
   "metadata": {},
   "source": [
    "# Validaciones\n",
    "\n",
    "Hemos visto como al utilizar `@dataclass` simplifica la construcción de clases sin afectar su llamado durante la creación de objetos. Al usar anotaciones en una clase declara con `@dataclass`, nos permite saber cómo debemos llamar la clase, sin embargo ¿son suficientes las anotaciones para controlar erroes?. La respuesta es **no**, si bien ayudan durante el desarrollo, existen casos, aún dentro del desarrollo, en que no se consulta la docuemtanció nde una clase (mala práctica común), por lo que agregar una capa de seguirdad en la integridad de los datos ayudaría bastante"
   ]
  },
  {
   "cell_type": "code",
   "execution_count": 40,
   "id": "e454fb67-2726-4c65-a559-b13bc27c02e1",
   "metadata": {
    "tags": []
   },
   "outputs": [],
   "source": [
    "# Problemática\n",
    "op = OperacionesBasicas(\"1\", \"2\") # Mando a y b como str, aunque la anotación es int, no regresa ningún error"
   ]
  },
  {
   "cell_type": "code",
   "execution_count": 42,
   "id": "f9d5d18e-164f-4e0b-9a0c-3a0466d26816",
   "metadata": {
    "tags": []
   },
   "outputs": [
    {
     "name": "stdout",
     "output_type": "stream",
     "text": [
      "Hola, mundo!\n",
      "12\n",
      "Adios, mundo!\n"
     ]
    },
    {
     "data": {
      "text/plain": [
       "'12'"
      ]
     },
     "execution_count": 42,
     "metadata": {},
     "output_type": "execute_result"
    }
   ],
   "source": [
    "# Eso es un problema porque al llamar a los métodos o simplemente usar el objeto `op`, podemos pensar que si va a\n",
    "# funcionar bien pero no es así siempre\n",
    "op.suma() # funciona, no saca error, pero el resultado no es correcto"
   ]
  },
  {
   "cell_type": "code",
   "execution_count": 43,
   "id": "90bdb033-3f49-4c29-816d-954fd314d8e9",
   "metadata": {
    "tags": []
   },
   "outputs": [
    {
     "name": "stdout",
     "output_type": "stream",
     "text": [
      "Hola, mundo!\n"
     ]
    },
    {
     "ename": "TypeError",
     "evalue": "unsupported operand type(s) for ** or pow(): 'str' and 'str'",
     "output_type": "error",
     "traceback": [
      "\u001b[0;31m---------------------------------------------------------------------------\u001b[0m",
      "\u001b[0;31mTypeError\u001b[0m                                 Traceback (most recent call last)",
      "Cell \u001b[0;32mIn [43], line 1\u001b[0m\n\u001b[0;32m----> 1\u001b[0m \u001b[43mop\u001b[49m\u001b[38;5;241;43m.\u001b[39;49m\u001b[43mpotencia\u001b[49m\u001b[43m(\u001b[49m\u001b[43m)\u001b[49m\n",
      "Cell \u001b[0;32mIn [15], line 4\u001b[0m, in \u001b[0;36mdecorador_impresion.<locals>.wrapper\u001b[0;34m(*args)\u001b[0m\n\u001b[1;32m      2\u001b[0m \u001b[38;5;28;01mdef\u001b[39;00m \u001b[38;5;21mwrapper\u001b[39m(\u001b[38;5;241m*\u001b[39margs):\n\u001b[1;32m      3\u001b[0m     \u001b[38;5;28mprint\u001b[39m(\u001b[38;5;124m\"\u001b[39m\u001b[38;5;124mHola, mundo!\u001b[39m\u001b[38;5;124m\"\u001b[39m)\n\u001b[0;32m----> 4\u001b[0m     result \u001b[38;5;241m=\u001b[39m \u001b[43mfuncion\u001b[49m\u001b[43m(\u001b[49m\u001b[38;5;241;43m*\u001b[39;49m\u001b[43margs\u001b[49m\u001b[43m)\u001b[49m\n\u001b[1;32m      5\u001b[0m     \u001b[38;5;28mprint\u001b[39m(result)\n\u001b[1;32m      6\u001b[0m     \u001b[38;5;28mprint\u001b[39m(\u001b[38;5;124m\"\u001b[39m\u001b[38;5;124mAdios, mundo!\u001b[39m\u001b[38;5;124m\"\u001b[39m)\n",
      "Cell \u001b[0;32mIn [26], line 28\u001b[0m, in \u001b[0;36mOperacionesBasicas.potencia\u001b[0;34m(self)\u001b[0m\n\u001b[1;32m     26\u001b[0m \u001b[38;5;129m@decorador_impresion\u001b[39m\n\u001b[1;32m     27\u001b[0m \u001b[38;5;28;01mdef\u001b[39;00m \u001b[38;5;21mpotencia\u001b[39m(\u001b[38;5;28mself\u001b[39m):\n\u001b[0;32m---> 28\u001b[0m     \u001b[38;5;28;01mreturn\u001b[39;00m \u001b[38;5;28;43mself\u001b[39;49m\u001b[38;5;241;43m.\u001b[39;49m\u001b[43ma\u001b[49m\u001b[43m \u001b[49m\u001b[38;5;241;43m*\u001b[39;49m\u001b[38;5;241;43m*\u001b[39;49m\u001b[43m \u001b[49m\u001b[38;5;28;43mself\u001b[39;49m\u001b[38;5;241;43m.\u001b[39;49m\u001b[43mb\u001b[49m\n",
      "\u001b[0;31mTypeError\u001b[0m: unsupported operand type(s) for ** or pow(): 'str' and 'str'"
     ]
    }
   ],
   "source": [
    "op.potencia() # O simplemente saca error"
   ]
  },
  {
   "cell_type": "markdown",
   "id": "a6e46dc3-c683-490e-b8be-ef5b36384799",
   "metadata": {},
   "source": [
    "Lo ideal sería cachar el error desde que se inicializa el objeto."
   ]
  },
  {
   "cell_type": "markdown",
   "id": "45eeeba4-2452-4770-a9fd-a1fe7b704ee3",
   "metadata": {},
   "source": [
    "Para lo anterior existe una paquetría de terceros que se llama **Pydantic**, una librería de validación que aporta bastante en la validación de datos. Para instalar pydantic usamos:\n",
    "\n",
    "```bash\n",
    "$ pip install pydantic\n",
    "\n",
    "$ poetry add pydantic\n",
    "```"
   ]
  },
  {
   "cell_type": "code",
   "execution_count": 45,
   "id": "bc9927a8-840d-41d6-9ee7-d2702157100c",
   "metadata": {
    "tags": []
   },
   "outputs": [
    {
     "name": "stdout",
     "output_type": "stream",
     "text": [
      "Defaulting to user installation because normal site-packages is not writeable\n",
      "Requirement already satisfied: pydantic in /home/aaguayoo/.local/lib/python3.10/site-packages (1.10.12)\n",
      "Requirement already satisfied: typing-extensions>=4.2.0 in /home/aaguayoo/.local/lib/python3.10/site-packages (from pydantic) (4.4.0)\n"
     ]
    }
   ],
   "source": [
    "# Se puede correr comandos de bash desde el notebook\n",
    "!pip install pydantic"
   ]
  },
  {
   "cell_type": "code",
   "execution_count": 54,
   "id": "9076638c-dc80-4142-aaf4-6da6ff1c58a8",
   "metadata": {
    "tags": []
   },
   "outputs": [],
   "source": [
    "from pydantic.dataclasses import dataclass\n",
    "\n",
    "@dataclass\n",
    "class Calculadora:\n",
    "    \n",
    "    a:int\n",
    "    b:int\n",
    "    \n",
    "    @decorador_impresion\n",
    "    def suma(self):\n",
    "        return self.a + self.b\n",
    "    \n",
    "    @decorador_impresion\n",
    "    def resta(self):\n",
    "        return self.a - self.b\n",
    "    \n",
    "    @decorador_impresion\n",
    "    def producto(self):\n",
    "        return self.a * self.b\n",
    "    \n",
    "    @decorador_impresion\n",
    "    def division(self):\n",
    "        return self.a / self.b\n",
    "    \n",
    "    @decorador_impresion\n",
    "    def potencia(self):\n",
    "        return self.a ** self.b"
   ]
  },
  {
   "cell_type": "code",
   "execution_count": 55,
   "id": "25388d4d-12f0-42fb-b81b-438896364bef",
   "metadata": {
    "tags": []
   },
   "outputs": [],
   "source": [
    "op = Calculadora(1,2)"
   ]
  },
  {
   "cell_type": "code",
   "execution_count": 57,
   "id": "37a7dbb0-8b07-4f90-8667-a680036f31cd",
   "metadata": {
    "tags": []
   },
   "outputs": [
    {
     "name": "stdout",
     "output_type": "stream",
     "text": [
      "Hola, mundo!\n",
      "3\n",
      "Adios, mundo!\n"
     ]
    },
    {
     "data": {
      "text/plain": [
       "3"
      ]
     },
     "execution_count": 57,
     "metadata": {},
     "output_type": "execute_result"
    }
   ],
   "source": [
    "op.suma()"
   ]
  },
  {
   "cell_type": "code",
   "execution_count": 56,
   "id": "3bbff2f5-12eb-45cc-8148-077334b6fc49",
   "metadata": {
    "tags": []
   },
   "outputs": [],
   "source": [
    "op = Calculadora(\"1\",\"2\")"
   ]
  },
  {
   "cell_type": "code",
   "execution_count": 58,
   "id": "e44eb1f3-5457-4ebc-a1de-7e96e74bc2a1",
   "metadata": {
    "tags": []
   },
   "outputs": [
    {
     "name": "stdout",
     "output_type": "stream",
     "text": [
      "Hola, mundo!\n",
      "3\n",
      "Adios, mundo!\n"
     ]
    },
    {
     "data": {
      "text/plain": [
       "3"
      ]
     },
     "execution_count": 58,
     "metadata": {},
     "output_type": "execute_result"
    }
   ],
   "source": [
    "op.suma()"
   ]
  },
  {
   "cell_type": "markdown",
   "id": "9e5f5fbb-63b4-48cd-a46e-6830b436e4cd",
   "metadata": {},
   "source": [
    "En este caso, instanciamos el objeto utilizando tanto `int`, que es la anotación que se pide en la clase directamente, y también usando `str`. Pero en este caso, el objeto que se inicializó con los strings, sí regresó el resultado correcto, en lugar de concatenarlos como se hizo anteriormente. \n",
    "\n",
    "Esto sucede porque Pydantic, al recibir cualquier objeto donde el tipado es `int` lo primero que va a hacer es ver si lo puede convertir a esta anotación"
   ]
  },
  {
   "cell_type": "code",
   "execution_count": 60,
   "id": "00381147-9001-44db-b793-541c9ae01ae8",
   "metadata": {
    "tags": []
   },
   "outputs": [
    {
     "data": {
      "text/plain": [
       "int"
      ]
     },
     "execution_count": 60,
     "metadata": {},
     "output_type": "execute_result"
    }
   ],
   "source": [
    "type(int(\"234\"))"
   ]
  },
  {
   "cell_type": "code",
   "execution_count": 61,
   "id": "abeb61d4-cf6b-4d68-92cb-4c1f556f1f0f",
   "metadata": {
    "tags": []
   },
   "outputs": [
    {
     "ename": "ValidationError",
     "evalue": "2 validation errors for Calculadora\na\n  value is not a valid integer (type=type_error.integer)\nb\n  value is not a valid integer (type=type_error.integer)",
     "output_type": "error",
     "traceback": [
      "\u001b[0;31m---------------------------------------------------------------------------\u001b[0m",
      "\u001b[0;31mValidationError\u001b[0m                           Traceback (most recent call last)",
      "Cell \u001b[0;32mIn [61], line 1\u001b[0m\n\u001b[0;32m----> 1\u001b[0m op \u001b[38;5;241m=\u001b[39m \u001b[43mCalculadora\u001b[49m\u001b[43m(\u001b[49m\u001b[43m[\u001b[49m\u001b[38;5;241;43m1\u001b[39;49m\u001b[43m,\u001b[49m\u001b[38;5;241;43m2\u001b[39;49m\u001b[43m]\u001b[49m\u001b[43m,\u001b[49m\u001b[43m(\u001b[49m\u001b[38;5;241;43m3\u001b[39;49m\u001b[43m,\u001b[49m\u001b[38;5;241;43m4\u001b[39;49m\u001b[43m)\u001b[49m\u001b[43m)\u001b[49m\n",
      "File \u001b[0;32m~/.local/lib/python3.10/site-packages/pydantic/dataclasses.py:325\u001b[0m, in \u001b[0;36mpydantic.dataclasses._add_pydantic_validation_attributes.new_init\u001b[0;34m()\u001b[0m\n",
      "File \u001b[0;32m~/.local/lib/python3.10/site-packages/pydantic/dataclasses.py:425\u001b[0m, in \u001b[0;36mpydantic.dataclasses._dataclass_validate_values\u001b[0;34m()\u001b[0m\n",
      "\u001b[0;31mValidationError\u001b[0m: 2 validation errors for Calculadora\na\n  value is not a valid integer (type=type_error.integer)\nb\n  value is not a valid integer (type=type_error.integer)"
     ]
    }
   ],
   "source": [
    "op = Calculadora([1,2],(3,4))"
   ]
  },
  {
   "cell_type": "markdown",
   "id": "98d9829f-ae6c-41ba-9fcf-7b6fbc9cf717",
   "metadata": {},
   "source": [
    "En el caso anterior, los atributos de entrada no se pudieron convertir a `int` por lo que saltó un `ValidationError`, que nos indica que los atributos de entra `a` y `b` no son objetos `int` válidos."
   ]
  },
  {
   "cell_type": "markdown",
   "id": "aa5fa41f-d44c-414a-aad3-3bf62b0ac025",
   "metadata": {},
   "source": [
    "## Validación directa de atributos"
   ]
  },
  {
   "cell_type": "markdown",
   "id": "76dd5f10-4b1d-40db-bed1-b9b2929dbc6a",
   "metadata": {},
   "source": [
    "```python\n",
    "from pydantic.dataclasses import dataclass\n",
    "from pydantic import validator\n",
    "\n",
    "@dataclass\n",
    "class Nombre_de_clase:\n",
    "\tatributos: tipo\n",
    "\n",
    "\t@validator(\"atributo\")\n",
    "\tdef nombre_validador(parámetro):\n",
    "\t\t... validaciones\n",
    "\t\treturn parámetro\n",
    "```"
   ]
  },
  {
   "cell_type": "markdown",
   "id": "15918b9c-c2e6-4e53-8f51-b8a0dc069509",
   "metadata": {},
   "source": [
    "Supongamos que en mi clase Calculadora, necesito asegurarme que tanto `a` como `b` sean mayor a 0"
   ]
  },
  {
   "cell_type": "code",
   "execution_count": 92,
   "id": "3550f15d-0755-4739-924d-061c62755d36",
   "metadata": {
    "tags": []
   },
   "outputs": [],
   "source": [
    "from pydantic.dataclasses import dataclass\n",
    "from pydantic import validator\n",
    "\n",
    "@dataclass\n",
    "class Calculadora:\n",
    "    \n",
    "    a:int\n",
    "    b:int\n",
    "    \n",
    "    @decorador_impresion\n",
    "    def suma(self):\n",
    "        return self.a + self.b\n",
    "    \n",
    "    @decorador_impresion\n",
    "    def resta(self):\n",
    "        return self.a - self.b\n",
    "    \n",
    "    @decorador_impresion\n",
    "    def producto(self):\n",
    "        return self.a * self.b\n",
    "    \n",
    "    @decorador_impresion\n",
    "    def division(self):\n",
    "        return self.a / self.b\n",
    "    \n",
    "    @decorador_impresion\n",
    "    def potencia(self):\n",
    "        return self.a ** self.b\n",
    "    \n",
    "    @validator(\"a\")\n",
    "    def __validador_a(a:int):\n",
    "        if a > 0:\n",
    "            return a\n",
    "        else:\n",
    "            raise ValueError(\"a no es mayor a 0\")\n",
    "            \n",
    "    @validator(\"b\")\n",
    "    def __validador_b(b:int):\n",
    "        if b < -15:\n",
    "            return b\n",
    "        else:\n",
    "            raise ValueError(\"b no es mayor a 0\")"
   ]
  },
  {
   "cell_type": "code",
   "execution_count": 88,
   "id": "b266ea42-26db-493e-93d2-32ca516dc008",
   "metadata": {
    "tags": []
   },
   "outputs": [],
   "source": [
    "calc = Calculadora(1,-27)"
   ]
  },
  {
   "cell_type": "code",
   "execution_count": 89,
   "id": "b2a8bb14-2d64-4582-9055-e4037ea0c997",
   "metadata": {
    "tags": []
   },
   "outputs": [
    {
     "ename": "ValidationError",
     "evalue": "2 validation errors for Calculadora\na\n  a no es mayor a 0 (type=value_error)\nb\n  b no es mayor a 0 (type=value_error)",
     "output_type": "error",
     "traceback": [
      "\u001b[0;31m---------------------------------------------------------------------------\u001b[0m",
      "\u001b[0;31mValidationError\u001b[0m                           Traceback (most recent call last)",
      "Cell \u001b[0;32mIn [89], line 1\u001b[0m\n\u001b[0;32m----> 1\u001b[0m calc \u001b[38;5;241m=\u001b[39m \u001b[43mCalculadora\u001b[49m\u001b[43m(\u001b[49m\u001b[38;5;241;43m-\u001b[39;49m\u001b[38;5;241;43m2\u001b[39;49m\u001b[43m,\u001b[49m\u001b[38;5;241;43m2\u001b[39;49m\u001b[43m)\u001b[49m\n",
      "File \u001b[0;32m~/.local/lib/python3.10/site-packages/pydantic/dataclasses.py:325\u001b[0m, in \u001b[0;36mpydantic.dataclasses._add_pydantic_validation_attributes.new_init\u001b[0;34m()\u001b[0m\n",
      "File \u001b[0;32m~/.local/lib/python3.10/site-packages/pydantic/dataclasses.py:425\u001b[0m, in \u001b[0;36mpydantic.dataclasses._dataclass_validate_values\u001b[0;34m()\u001b[0m\n",
      "\u001b[0;31mValidationError\u001b[0m: 2 validation errors for Calculadora\na\n  a no es mayor a 0 (type=value_error)\nb\n  b no es mayor a 0 (type=value_error)"
     ]
    }
   ],
   "source": [
    "calc = Calculadora(-2,2)"
   ]
  },
  {
   "cell_type": "code",
   "execution_count": 90,
   "id": "efb0acfc-367b-40e6-b1c4-e221c58ceb8b",
   "metadata": {
    "tags": []
   },
   "outputs": [
    {
     "ename": "ValidationError",
     "evalue": "1 validation error for Calculadora\na\n  a no es mayor a 0 (type=value_error)",
     "output_type": "error",
     "traceback": [
      "\u001b[0;31m---------------------------------------------------------------------------\u001b[0m",
      "\u001b[0;31mValidationError\u001b[0m                           Traceback (most recent call last)",
      "Cell \u001b[0;32mIn [90], line 1\u001b[0m\n\u001b[0;32m----> 1\u001b[0m calc \u001b[38;5;241m=\u001b[39m \u001b[43mCalculadora\u001b[49m\u001b[43m(\u001b[49m\u001b[38;5;241;43m-\u001b[39;49m\u001b[38;5;241;43m1\u001b[39;49m\u001b[43m,\u001b[49m\u001b[38;5;241;43m-\u001b[39;49m\u001b[38;5;241;43m20\u001b[39;49m\u001b[43m)\u001b[49m\n",
      "File \u001b[0;32m~/.local/lib/python3.10/site-packages/pydantic/dataclasses.py:325\u001b[0m, in \u001b[0;36mpydantic.dataclasses._add_pydantic_validation_attributes.new_init\u001b[0;34m()\u001b[0m\n",
      "File \u001b[0;32m~/.local/lib/python3.10/site-packages/pydantic/dataclasses.py:425\u001b[0m, in \u001b[0;36mpydantic.dataclasses._dataclass_validate_values\u001b[0;34m()\u001b[0m\n",
      "\u001b[0;31mValidationError\u001b[0m: 1 validation error for Calculadora\na\n  a no es mayor a 0 (type=value_error)"
     ]
    }
   ],
   "source": [
    "calc = Calculadora(-1,-20)"
   ]
  },
  {
   "cell_type": "code",
   "execution_count": 91,
   "id": "f343e92b-ff5a-4687-9427-467a1a400213",
   "metadata": {
    "tags": []
   },
   "outputs": [
    {
     "ename": "ValidationError",
     "evalue": "1 validation error for Calculadora\nb\n  b no es mayor a 0 (type=value_error)",
     "output_type": "error",
     "traceback": [
      "\u001b[0;31m---------------------------------------------------------------------------\u001b[0m",
      "\u001b[0;31mValidationError\u001b[0m                           Traceback (most recent call last)",
      "Cell \u001b[0;32mIn [91], line 1\u001b[0m\n\u001b[0;32m----> 1\u001b[0m calc \u001b[38;5;241m=\u001b[39m \u001b[43mCalculadora\u001b[49m\u001b[43m(\u001b[49m\u001b[38;5;241;43m1\u001b[39;49m\u001b[43m,\u001b[49m\u001b[38;5;241;43m-\u001b[39;49m\u001b[38;5;241;43m2\u001b[39;49m\u001b[43m)\u001b[49m\n",
      "File \u001b[0;32m~/.local/lib/python3.10/site-packages/pydantic/dataclasses.py:325\u001b[0m, in \u001b[0;36mpydantic.dataclasses._add_pydantic_validation_attributes.new_init\u001b[0;34m()\u001b[0m\n",
      "File \u001b[0;32m~/.local/lib/python3.10/site-packages/pydantic/dataclasses.py:425\u001b[0m, in \u001b[0;36mpydantic.dataclasses._dataclass_validate_values\u001b[0;34m()\u001b[0m\n",
      "\u001b[0;31mValidationError\u001b[0m: 1 validation error for Calculadora\nb\n  b no es mayor a 0 (type=value_error)"
     ]
    }
   ],
   "source": [
    "calc = Calculadora(1,-2)"
   ]
  },
  {
   "cell_type": "markdown",
   "id": "7dd6c964-c461-4d96-ba4e-829a9f3ad7ca",
   "metadata": {},
   "source": [
    "### Incialización con Pydantic"
   ]
  },
  {
   "cell_type": "markdown",
   "id": "378341c2-7be7-40ac-8373-f834257ac408",
   "metadata": {},
   "source": [
    "Usando Pydantic ya nos quitamos la molestia de andar definiendo nuestros atributos en el método mágico `__init__()`, pero es probable que aún así necesitemos que en la inicialización del objeto se realicen algunas sentencias. Para ello usamos el método mágico `__post_init_post_parse__()`"
   ]
  },
  {
   "cell_type": "code",
   "execution_count": 101,
   "id": "1415e814-1fec-452a-9e0c-199d0a2e62d9",
   "metadata": {
    "tags": []
   },
   "outputs": [],
   "source": [
    "from pydantic.dataclasses import dataclass\n",
    "from pydantic import validator, root_validator, validate_arguments\n",
    "\n",
    "# validator: Valida un atributo a la vez de una clase\n",
    "# root_validator: Valida todos los atributos a la vez de una clase\n",
    "# validate_arguments: Valida todos los argumentos (posicionales o pre-definidos) de cualquier función o método\n",
    "\n",
    "@dataclass\n",
    "class Calculadora:\n",
    "    \n",
    "    a:int\n",
    "    b:int = -100\n",
    "    \n",
    "    def __post_init_post_parse__(self):\n",
    "        # Sentencias de inicialización\n",
    "        print(f\"Se inicializó el objeto Calculadora con atributos ({self.a},{self.b})\")\n",
    "    \n",
    "    @decorador_impresion\n",
    "    def suma(self):\n",
    "        return self.a + self.b\n",
    "    \n",
    "    @decorador_impresion\n",
    "    def resta(self):\n",
    "        return self.a - self.b\n",
    "    \n",
    "    @decorador_impresion\n",
    "    def producto(self):\n",
    "        return self.a * self.b\n",
    "    \n",
    "    @decorador_impresion\n",
    "    def division(self):\n",
    "        return self.a / self.b\n",
    "    \n",
    "    @decorador_impresion\n",
    "    def potencia(self):\n",
    "        return self.a ** self.b\n",
    "    \n",
    "    @validator(\"a\")\n",
    "    def __validador_a(a:int):\n",
    "        if a > 0:\n",
    "            return a\n",
    "        else:\n",
    "            raise ValueError(\"a no es mayor a 0\")\n",
    "            \n",
    "    @validator(\"b\")\n",
    "    def __validador_b(b:int):\n",
    "        if b < -15:\n",
    "            return b\n",
    "        else:\n",
    "            raise ValueError(\"b no es mayor a 0\")"
   ]
  },
  {
   "cell_type": "code",
   "execution_count": 102,
   "id": "5cb6d39e-c5be-4be2-a10f-8d14118e4a9d",
   "metadata": {
    "tags": []
   },
   "outputs": [
    {
     "name": "stdout",
     "output_type": "stream",
     "text": [
      "Se inicializó el objeto Calculadora con atributos (30,-24)\n"
     ]
    }
   ],
   "source": [
    "calc = Calculadora(30, -24)"
   ]
  },
  {
   "cell_type": "code",
   "execution_count": null,
   "id": "f5e5f4a2-f81d-4b64-ba7b-73408926c9d1",
   "metadata": {},
   "outputs": [],
   "source": []
  }
 ],
 "metadata": {
  "kernelspec": {
   "display_name": "Python 3 (ipykernel)",
   "language": "python",
   "name": "python3"
  },
  "language_info": {
   "codemirror_mode": {
    "name": "ipython",
    "version": 3
   },
   "file_extension": ".py",
   "mimetype": "text/x-python",
   "name": "python",
   "nbconvert_exporter": "python",
   "pygments_lexer": "ipython3",
   "version": "3.10.6"
  }
 },
 "nbformat": 4,
 "nbformat_minor": 5
}
