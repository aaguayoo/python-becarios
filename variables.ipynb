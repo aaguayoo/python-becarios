{
 "cells": [
  {
   "cell_type": "markdown",
   "id": "6a073bc6-2e4f-46f5-96aa-e72b5dbcd554",
   "metadata": {
    "tags": []
   },
   "source": [
    "# Python introducción\n",
    "\n",
    "Python es un lenguaje de programación, basado en C/C++, que se denomina como un lenguaje orientado a objetos.\n",
    "\n",
    "- Condicionales\n",
    "- Variables (int, float, bool, str, set, dict, list, ...)\n",
    "- Loops\n",
    "- Casos\n",
    "- Importación de paquetes\n",
    "- ...\n",
    "\n",
    "- Visualización de datos:\n",
    "    - Pandas \n",
    "    - Matplotlib\n",
    "    - Plotly\n",
    "    - Dash\n",
    "    - NetworkX\n",
    "\n",
    "- Manejo de datos\n",
    "    - NumPy\n",
    "    - Pandas\n",
    "    - PyTorch\n",
    "    - ...\n",
    "    \n",
    "- Cálculo científico\n",
    "    - NumPy\n",
    "    - SciPy\n",
    "    - Scikit-Learn (Machine learning)\n",
    "    - Tensorflow (Deep learning)\n",
    "    - PyTorch (Deep learning, ...)\n",
    "    - Librosa (Análisis de audio)\n",
    "    - OpenCV (Análisis de imagen)\n",
    "    - ...\n",
    "    \n",
    "- Desarrollo de Backend\n",
    "    - FastAPI\n",
    "    - Django\n",
    "    - ...\n",
    "    \n",
    "- Desarrollo Frontend\n",
    "    - Streamlit (Aplicaciones sencillas sin necesidad de usar JS, o HTML)\n",
    "    - PyScript (JavaScript + Python)\n",
    "    - ..."
   ]
  },
  {
   "cell_type": "markdown",
   "id": "9bb4c94a-a21d-418b-8693-72f117dcb68f",
   "metadata": {
    "tags": []
   },
   "source": [
    "## Comandos rápidos de Jupyter\n",
    "\n",
    "- Shift + \\<ENTER>: Corre la celda seleccionada\n",
    "- \\<ESC>: Se salen del modo insertar\n",
    "- \\<ESC> + b: Crean una nueva celda abajo\n",
    "- \\<ESC> + dd: Borran la celda seleccionada"
   ]
  },
  {
   "cell_type": "markdown",
   "id": "7520680a-3116-4614-be20-0a8c5b3aedb5",
   "metadata": {},
   "source": [
    "## Declaración de variables"
   ]
  },
  {
   "cell_type": "code",
   "execution_count": 5,
   "id": "424c58d7-17c4-434a-b85f-84cb20a8f29d",
   "metadata": {
    "tags": []
   },
   "outputs": [],
   "source": [
    "# Declarar variable\n",
    "x = 1 # No es igualdad, asignación, el que sí es igualdad es \"==\""
   ]
  },
  {
   "cell_type": "markdown",
   "id": "b0eeca36-5580-4ad6-ab67-38fb580c0bec",
   "metadata": {},
   "source": [
    "Los nombres de variables deben ser lo más específicos posibles, respecto del tipo de variable que se asignará"
   ]
  },
  {
   "cell_type": "code",
   "execution_count": 8,
   "id": "67e71c44-5a4a-4f6c-a983-1ef04221c0dc",
   "metadata": {
    "tags": []
   },
   "outputs": [],
   "source": [
    "n = \"Aaron\" # Esto está mal\n",
    "nombre = \"Aaron\" # Esto está bien"
   ]
  },
  {
   "cell_type": "markdown",
   "id": "c10daf00-065b-4309-bdec-dd727a2b6d6c",
   "metadata": {},
   "source": [
    "Existen reglas sobre los nombres que podemos utilizar para la declaración de variables\n",
    "\n",
    "→ No debe incluir espacios, en su lugar se puede utilizar _ \n",
    "\n",
    "→ No puede tener caracteres especiales como :'\",<>/?|\\!@#%^&*~-+. Sólo letras (may o min) o números.\n",
    "\n",
    "→ No ser nombres que coincidan con palabras reservadas como def, class, etc."
   ]
  },
  {
   "cell_type": "code",
   "execution_count": 10,
   "id": "7f379898-c257-4ce3-bdff-d2e9e8f3599c",
   "metadata": {
    "tags": []
   },
   "outputs": [],
   "source": [
    "nombre_español = \"José\" # Ejemplo"
   ]
  },
  {
   "cell_type": "markdown",
   "id": "7f1dbe68-b637-428f-9081-6552a3c2679c",
   "metadata": {},
   "source": [
    "## Tipos de variables"
   ]
  },
  {
   "cell_type": "markdown",
   "id": "acf39fe7-81f5-4836-b35e-43ab76d35137",
   "metadata": {},
   "source": [
    "Los tipos de variables son un caso especial de Clases, y las clases tienen métodos"
   ]
  },
  {
   "cell_type": "code",
   "execution_count": 31,
   "id": "47a8aad0-f273-48a8-b2ce-e444892b83db",
   "metadata": {
    "tags": []
   },
   "outputs": [],
   "source": [
    "entero: int = 1 # Número entero\n",
    "\n",
    "flotante: float = 1.32 # Número decimal\n",
    "\n",
    "cadena_de_texto_string: str = \"ajfsñl3o4iruñaw3irjñalsi3f01923jrl.aksejrskdjfz ñslekjr laskdjfaseiljr 2lk3j4r ŕ\" # Cadena de texto\n",
    "\n",
    "booleanos: bool = True # False\n",
    "\n",
    "conjunto: set = set([1,2,3])\n",
    "\n",
    "listas: list = [1,2,3] # Se puede modificar, los indices empiezan desde 0\n",
    "\n",
    "diccionario: dict = {\n",
    "    \"llave_1\": \"valor_1\",\n",
    "    \"llave_2\": 2,\n",
    "    \"llave_3\": False,\n",
    "    \"llave_4\": [1,2,3,4],\n",
    "} # Se puede modificar \n",
    "\n",
    "tuplas: tuple = (1,2,3) # NO se puede modificar"
   ]
  },
  {
   "cell_type": "code",
   "execution_count": 32,
   "id": "d416adc8-6d86-4eff-b7f9-2896b82136d0",
   "metadata": {
    "tags": []
   },
   "outputs": [
    {
     "data": {
      "text/plain": [
       "[2, 2, 3]"
      ]
     },
     "execution_count": 32,
     "metadata": {},
     "output_type": "execute_result"
    }
   ],
   "source": [
    "listas[0] = 2\n",
    "listas"
   ]
  },
  {
   "cell_type": "code",
   "execution_count": 33,
   "id": "254a848a-2f87-4184-9f8f-972179d431f8",
   "metadata": {
    "tags": []
   },
   "outputs": [
    {
     "ename": "TypeError",
     "evalue": "'tuple' object does not support item assignment",
     "output_type": "error",
     "traceback": [
      "\u001b[0;31m---------------------------------------------------------------------------\u001b[0m",
      "\u001b[0;31mTypeError\u001b[0m                                 Traceback (most recent call last)",
      "Cell \u001b[0;32mIn [33], line 1\u001b[0m\n\u001b[0;32m----> 1\u001b[0m \u001b[43mtuplas\u001b[49m\u001b[43m[\u001b[49m\u001b[38;5;241;43m0\u001b[39;49m\u001b[43m]\u001b[49m \u001b[38;5;241m=\u001b[39m \u001b[38;5;241m2\u001b[39m\n",
      "\u001b[0;31mTypeError\u001b[0m: 'tuple' object does not support item assignment"
     ]
    }
   ],
   "source": [
    "tuplas[0] = 2"
   ]
  },
  {
   "cell_type": "markdown",
   "id": "2ec4c5e8-7576-4557-a2a8-1f4f9b497d25",
   "metadata": {},
   "source": [
    "## Variables númericas"
   ]
  },
  {
   "cell_type": "code",
   "execution_count": 15,
   "id": "1f4885da-b6f3-452e-9c38-7128d247cede",
   "metadata": {},
   "outputs": [],
   "source": [
    "# int\n",
    "enteros = 1"
   ]
  },
  {
   "cell_type": "code",
   "execution_count": 16,
   "id": "fb6e3b52-c3c3-4c06-bbe1-9703d2c69840",
   "metadata": {
    "tags": []
   },
   "outputs": [
    {
     "name": "stdout",
     "output_type": "stream",
     "text": [
      "1\n"
     ]
    }
   ],
   "source": [
    "print(enteros)"
   ]
  },
  {
   "cell_type": "code",
   "execution_count": 17,
   "id": "a71c89d6-5194-4fc9-ad11-60384a43526f",
   "metadata": {
    "tags": []
   },
   "outputs": [],
   "source": [
    "enteros = \"texto\" # Esto está mal, hay que ser consistentes con el nombre y el tipo de variable"
   ]
  },
  {
   "cell_type": "code",
   "execution_count": 18,
   "id": "92e4cf7d-8051-4521-b05e-d839d4a15466",
   "metadata": {
    "tags": []
   },
   "outputs": [],
   "source": [
    "# float\n",
    "pi = 3.141592"
   ]
  },
  {
   "cell_type": "markdown",
   "id": "090e2e7c-5250-449c-b0b5-318cba00de4b",
   "metadata": {},
   "source": [
    "## Operadores matemáticos\n",
    "\n",
    "- Suma: +\n",
    "- Resta: -\n",
    "- Multiplicación: *\n",
    "- División: /\n",
    "- Potencia: **\n",
    "- Módulo: %\n",
    "- División entera: //"
   ]
  },
  {
   "cell_type": "markdown",
   "id": "dccd02f0-fd33-439c-8c43-5d0ca646a67b",
   "metadata": {},
   "source": [
    "- Nota: Buena practica es dejar un espacio entre las variables y los operadores \n",
    "    - Bien: 1 + 1, 1 * 1, 1 % 1, 1 - 1, 1/1, 1//1, 1**1\n",
    "    - Mal: 1+1"
   ]
  },
  {
   "cell_type": "code",
   "execution_count": 22,
   "id": "7299b2d7-6554-4714-81fc-ca66a4b72491",
   "metadata": {
    "tags": []
   },
   "outputs": [
    {
     "data": {
      "text/plain": [
       "float"
      ]
     },
     "execution_count": 22,
     "metadata": {},
     "output_type": "execute_result"
    }
   ],
   "source": [
    "type(1 + 1.2)"
   ]
  },
  {
   "cell_type": "code",
   "execution_count": 23,
   "id": "99737f0f-6115-491e-b1b1-585f56d4ab0e",
   "metadata": {
    "tags": []
   },
   "outputs": [
    {
     "data": {
      "text/plain": [
       "float"
      ]
     },
     "execution_count": 23,
     "metadata": {},
     "output_type": "execute_result"
    }
   ],
   "source": [
    "type(2.3 - 10)"
   ]
  },
  {
   "cell_type": "code",
   "execution_count": 24,
   "id": "c022ac75-de85-4748-bf7c-1e5145ec654d",
   "metadata": {
    "tags": []
   },
   "outputs": [
    {
     "data": {
      "text/plain": [
       "int"
      ]
     },
     "execution_count": 24,
     "metadata": {},
     "output_type": "execute_result"
    }
   ],
   "source": [
    "type(1 + 1)"
   ]
  },
  {
   "cell_type": "code",
   "execution_count": 25,
   "id": "75588e6c-98e4-4ea4-a2d1-014fa25b453a",
   "metadata": {
    "tags": []
   },
   "outputs": [
    {
     "data": {
      "text/plain": [
       "(float, int)"
      ]
     },
     "execution_count": 25,
     "metadata": {},
     "output_type": "execute_result"
    }
   ],
   "source": [
    "type(1.0), type(1)"
   ]
  },
  {
   "cell_type": "code",
   "execution_count": 28,
   "id": "76378669-aba6-4892-8693-cb42d00870bc",
   "metadata": {
    "tags": []
   },
   "outputs": [
    {
     "data": {
      "text/plain": [
       "137.6"
      ]
     },
     "execution_count": 28,
     "metadata": {},
     "output_type": "execute_result"
    }
   ],
   "source": [
    "3.2 * 43"
   ]
  },
  {
   "cell_type": "code",
   "execution_count": 29,
   "id": "adb33977-6cb2-4964-946a-7d1cdbb427d8",
   "metadata": {
    "tags": []
   },
   "outputs": [
    {
     "data": {
      "text/plain": [
       "0.3335896121647019"
      ]
     },
     "execution_count": 29,
     "metadata": {},
     "output_type": "execute_result"
    }
   ],
   "source": [
    "781/2341.2"
   ]
  },
  {
   "cell_type": "code",
   "execution_count": 31,
   "id": "ba54b037-f24f-4178-a477-a2c859c02351",
   "metadata": {
    "tags": []
   },
   "outputs": [
    {
     "data": {
      "text/plain": [
       "8388608"
      ]
     },
     "execution_count": 31,
     "metadata": {},
     "output_type": "execute_result"
    }
   ],
   "source": [
    "2**23"
   ]
  },
  {
   "cell_type": "code",
   "execution_count": 32,
   "id": "54b3a8b3-2b5e-4082-882e-4898bfd29607",
   "metadata": {
    "tags": []
   },
   "outputs": [
    {
     "data": {
      "text/plain": [
       "3"
      ]
     },
     "execution_count": 32,
     "metadata": {},
     "output_type": "execute_result"
    }
   ],
   "source": [
    "17 % 7"
   ]
  },
  {
   "cell_type": "code",
   "execution_count": null,
   "id": "08d5b0eb-8988-4669-ae04-8274551194e6",
   "metadata": {},
   "outputs": [
    {
     "data": {
      "text/plain": [
       "(7.0, 7.45733964700818)"
      ]
     },
     "execution_count": 34,
     "metadata": {},
     "output_type": "execute_result"
    }
   ],
   "source": [
    "173.234 // 23.23, 173.234 / 23.23"
   ]
  },
  {
   "cell_type": "markdown",
   "id": "fe0583a8-aa37-478f-b7b0-cf8f6bdeff74",
   "metadata": {},
   "source": [
    "## Prioridad en operaciones"
   ]
  },
  {
   "cell_type": "code",
   "execution_count": 36,
   "id": "095b5504-e07f-49cb-9f31-d90ff35c3b4e",
   "metadata": {
    "tags": []
   },
   "outputs": [
    {
     "data": {
      "text/plain": [
       "7"
      ]
     },
     "execution_count": 36,
     "metadata": {},
     "output_type": "execute_result"
    }
   ],
   "source": [
    "1 + 2 * 3 # La prioridad la lleva (* /) y luego (+ -)"
   ]
  },
  {
   "cell_type": "code",
   "execution_count": 39,
   "id": "bcfca2a7-97a9-4a79-897f-82eca451e47a",
   "metadata": {
    "tags": []
   },
   "outputs": [
    {
     "data": {
      "text/plain": [
       "7"
      ]
     },
     "execution_count": 39,
     "metadata": {},
     "output_type": "execute_result"
    }
   ],
   "source": [
    "1 + (2 * 3) # Buena práctica usar paréntesis para separar todos los términos"
   ]
  },
  {
   "cell_type": "code",
   "execution_count": 40,
   "id": "1c9bb97e-0541-4f32-8395-f059ec8b9a5b",
   "metadata": {
    "tags": []
   },
   "outputs": [
    {
     "data": {
      "text/plain": [
       "9"
      ]
     },
     "execution_count": 40,
     "metadata": {},
     "output_type": "execute_result"
    }
   ],
   "source": [
    "(1 + 2) * 3"
   ]
  },
  {
   "cell_type": "markdown",
   "id": "6dcb3610-f0d7-4d17-b663-b7e4cb3aa7c2",
   "metadata": {
    "tags": []
   },
   "source": [
    "## Variables lógicas"
   ]
  },
  {
   "cell_type": "markdown",
   "id": "b59b50fa-4f80-471c-8db1-21344c64c654",
   "metadata": {},
   "source": [
    "Variables lógicas (o booleanos) son variables binarais Verdadero (True) o Falseo (False). Y se declaran directamente como:\n",
    "- `True`\n",
    "- `False`"
   ]
  },
  {
   "cell_type": "markdown",
   "id": "c6530e9a-7c1c-4f15-9383-148afd707e4a",
   "metadata": {},
   "source": [
    "### Operadores de comparación, que regresan variables lógicas"
   ]
  },
  {
   "cell_type": "markdown",
   "id": "0c48cb20-4614-4b0f-b266-f40d92571146",
   "metadata": {},
   "source": [
    "- Y (AND): `and` variables lógicas\n",
    "- O (OR): `or` variables lógicas\n",
    "- Mayor que (GT): `>`\n",
    "- Menor que (LT): `<`\n",
    "- Mayor igual (GE): `>=`\n",
    "- Menor igual (LE): `<=`\n",
    "- Igual (EQ): `==`\n",
    "- Distinto que (NE): `!=`"
   ]
  },
  {
   "cell_type": "code",
   "execution_count": 41,
   "id": "d88e568c-d0dd-4ef5-ad01-c945cfd500b3",
   "metadata": {
    "tags": []
   },
   "outputs": [
    {
     "data": {
      "text/plain": [
       "True"
      ]
     },
     "execution_count": 41,
     "metadata": {},
     "output_type": "execute_result"
    }
   ],
   "source": [
    "1 < 2"
   ]
  },
  {
   "cell_type": "code",
   "execution_count": 42,
   "id": "c2872c52-1789-45a0-bdf5-cb09dccb4ec0",
   "metadata": {
    "tags": []
   },
   "outputs": [
    {
     "data": {
      "text/plain": [
       "False"
      ]
     },
     "execution_count": 42,
     "metadata": {},
     "output_type": "execute_result"
    }
   ],
   "source": [
    "1 > 2"
   ]
  },
  {
   "cell_type": "code",
   "execution_count": 43,
   "id": "4ac697df-7359-4b40-9790-15b3d08e47ac",
   "metadata": {
    "tags": []
   },
   "outputs": [
    {
     "data": {
      "text/plain": [
       "True"
      ]
     },
     "execution_count": 43,
     "metadata": {},
     "output_type": "execute_result"
    }
   ],
   "source": [
    "\"a\" != \"b\""
   ]
  },
  {
   "cell_type": "code",
   "execution_count": 44,
   "id": "3ac422b1-17f9-4bc1-a7d9-731f981da954",
   "metadata": {
    "tags": []
   },
   "outputs": [
    {
     "data": {
      "text/plain": [
       "False"
      ]
     },
     "execution_count": 44,
     "metadata": {},
     "output_type": "execute_result"
    }
   ],
   "source": [
    "\"a\" > \"b\""
   ]
  },
  {
   "cell_type": "code",
   "execution_count": 45,
   "id": "13ca0949-afe1-4dfd-b079-0fff3ca1685a",
   "metadata": {
    "tags": []
   },
   "outputs": [
    {
     "data": {
      "text/plain": [
       "True"
      ]
     },
     "execution_count": 45,
     "metadata": {},
     "output_type": "execute_result"
    }
   ],
   "source": [
    "\"a\" != \"b\""
   ]
  },
  {
   "cell_type": "code",
   "execution_count": 46,
   "id": "3c9811e2-4f30-4634-85a1-50469f55fdc0",
   "metadata": {
    "tags": []
   },
   "outputs": [
    {
     "data": {
      "text/plain": [
       "False"
      ]
     },
     "execution_count": 46,
     "metadata": {},
     "output_type": "execute_result"
    }
   ],
   "source": [
    "[1,2,3] == [2,3,4]"
   ]
  },
  {
   "cell_type": "code",
   "execution_count": 54,
   "id": "13e46ddd-7836-4af9-862c-d24971de1fe6",
   "metadata": {
    "tags": []
   },
   "outputs": [
    {
     "data": {
      "text/plain": [
       "False"
      ]
     },
     "execution_count": 54,
     "metadata": {},
     "output_type": "execute_result"
    }
   ],
   "source": [
    "1 > 2 and 3 < 4 # Si uno es False, el resultado es False"
   ]
  },
  {
   "cell_type": "code",
   "execution_count": 56,
   "id": "878967b7-59dc-40fa-8610-8236bf775069",
   "metadata": {
    "tags": []
   },
   "outputs": [
    {
     "data": {
      "text/plain": [
       "True"
      ]
     },
     "execution_count": 56,
     "metadata": {},
     "output_type": "execute_result"
    }
   ],
   "source": [
    "1 > 2 or 3 < 4 # Si uno es True, el resultado es True"
   ]
  },
  {
   "cell_type": "markdown",
   "id": "26df146b-45b0-46ef-9c70-a13d259b60df",
   "metadata": {},
   "source": [
    "## Variables de texto"
   ]
  },
  {
   "cell_type": "markdown",
   "id": "cfd79e2d-35d5-48bc-a84e-8829bdbf3c94",
   "metadata": {},
   "source": [
    "Existen tres formas para declarar una variable de texto:"
   ]
  },
  {
   "cell_type": "code",
   "execution_count": 57,
   "id": "fb7bcd95-7f05-4bab-93d5-256c3c6aea40",
   "metadata": {
    "tags": []
   },
   "outputs": [
    {
     "data": {
      "text/plain": [
       "'texto'"
      ]
     },
     "execution_count": 57,
     "metadata": {},
     "output_type": "execute_result"
    }
   ],
   "source": [
    "'texto'"
   ]
  },
  {
   "cell_type": "code",
   "execution_count": 58,
   "id": "41c245a0-a0e8-4a8c-8c19-a9452b5e0ad4",
   "metadata": {
    "tags": []
   },
   "outputs": [
    {
     "data": {
      "text/plain": [
       "'texto'"
      ]
     },
     "execution_count": 58,
     "metadata": {},
     "output_type": "execute_result"
    }
   ],
   "source": [
    "\"texto\""
   ]
  },
  {
   "cell_type": "code",
   "execution_count": 59,
   "id": "c9e5464d-41b1-4855-98c9-6a9b4bf608b9",
   "metadata": {
    "tags": []
   },
   "outputs": [
    {
     "data": {
      "text/plain": [
       "'texto'"
      ]
     },
     "execution_count": 59,
     "metadata": {},
     "output_type": "execute_result"
    }
   ],
   "source": [
    "\"\"\"texto\"\"\""
   ]
  },
  {
   "cell_type": "code",
   "execution_count": 64,
   "id": "9580b347-1647-4410-aedc-2396e5322ace",
   "metadata": {
    "tags": []
   },
   "outputs": [
    {
     "data": {
      "text/plain": [
       "'Texto con comillas: \"texto\"'"
      ]
     },
     "execution_count": 64,
     "metadata": {},
     "output_type": "execute_result"
    }
   ],
   "source": [
    "'Texto con comillas: \"texto\"' # Una sola línea"
   ]
  },
  {
   "cell_type": "code",
   "execution_count": 61,
   "id": "435f8915-ffcc-416c-b21b-cad2d60de48c",
   "metadata": {
    "tags": []
   },
   "outputs": [
    {
     "data": {
      "text/plain": [
       "\"Texto con comillas: 'texto'\""
      ]
     },
     "execution_count": 61,
     "metadata": {},
     "output_type": "execute_result"
    }
   ],
   "source": [
    "\"Texto con comillas: 'texto'\""
   ]
  },
  {
   "cell_type": "code",
   "execution_count": 63,
   "id": "b2790912-cc3a-4ec9-8ee9-539a65bcabd7",
   "metadata": {
    "tags": []
   },
   "outputs": [
    {
     "ename": "SyntaxError",
     "evalue": "invalid syntax (1569632870.py, line 1)",
     "output_type": "error",
     "traceback": [
      "\u001b[0;36m  Cell \u001b[0;32mIn [63], line 1\u001b[0;36m\u001b[0m\n\u001b[0;31m    'Texto con comillas: 'texto'' # Esto es incorrecto\u001b[0m\n\u001b[0m                          ^\u001b[0m\n\u001b[0;31mSyntaxError\u001b[0m\u001b[0;31m:\u001b[0m invalid syntax\n"
     ]
    }
   ],
   "source": [
    "'Texto con comillas: 'texto'' # Esto es incorrecto"
   ]
  },
  {
   "cell_type": "code",
   "execution_count": 65,
   "id": "373a4b8e-766e-4248-adfa-00a8009529db",
   "metadata": {
    "tags": []
   },
   "outputs": [
    {
     "data": {
      "text/plain": [
       "'\\nTexto texto\\nTexto texto\\nTexto texto\\nTexto texto\\nTexto texto\\nTexto texto\\nTexto texto\\n'"
      ]
     },
     "execution_count": 65,
     "metadata": {},
     "output_type": "execute_result"
    }
   ],
   "source": [
    "\"\"\"\n",
    "Texto texto\n",
    "Texto texto\n",
    "Texto texto\n",
    "Texto texto\n",
    "Texto texto\n",
    "Texto texto\n",
    "Texto texto\n",
    "\"\"\""
   ]
  },
  {
   "cell_type": "code",
   "execution_count": 66,
   "id": "fa6a8a11-1215-4057-b958-9fa70ff8a716",
   "metadata": {
    "tags": []
   },
   "outputs": [],
   "source": [
    "# Las cadenas de texto permiten acceder a sus caracteres por medio de índices"
   ]
  },
  {
   "cell_type": "code",
   "execution_count": 67,
   "id": "1b5d58e1-ae1c-4c24-9c8b-62f97b81d2ad",
   "metadata": {
    "tags": []
   },
   "outputs": [],
   "source": [
    "texto_ejemplo = \"Este es un texto largo para un ejemplo\""
   ]
  },
  {
   "cell_type": "code",
   "execution_count": 71,
   "id": "9fede606-3c20-4531-a863-0086c5e813d5",
   "metadata": {
    "tags": []
   },
   "outputs": [
    {
     "data": {
      "text/plain": [
       "('e', 'x')"
      ]
     },
     "execution_count": 71,
     "metadata": {},
     "output_type": "execute_result"
    }
   ],
   "source": [
    "texto_ejemplo[5], texto_ejemplo[13] # Se puede acceder por índices, empezando desde cero y hasta el largo de la cadena"
   ]
  },
  {
   "cell_type": "markdown",
   "id": "77ba071c-29e8-4113-9270-0046d066413c",
   "metadata": {},
   "source": [
    "### Métodos básicos de una cadena de texto"
   ]
  },
  {
   "cell_type": "markdown",
   "id": "aa0cd249-f6cb-4bb0-b9f8-d24cc012b9dc",
   "metadata": {},
   "source": [
    "Un método es como una función, asociada a un objeto (en este caso, un tipo de variable) que realiza una acción específica"
   ]
  },
  {
   "cell_type": "code",
   "execution_count": 80,
   "id": "f6b4d9fd-57a9-4165-9c8f-8900a6121b68",
   "metadata": {
    "tags": []
   },
   "outputs": [],
   "source": [
    "texto = \"¡Hola, Mundo!\""
   ]
  },
  {
   "cell_type": "code",
   "execution_count": 144,
   "id": "7936b3dc-765b-41e4-a9d1-2d466c2eca45",
   "metadata": {
    "tags": []
   },
   "outputs": [
    {
     "data": {
      "text/plain": [
       "'¡HOLA, MUNDO!'"
      ]
     },
     "execution_count": 144,
     "metadata": {},
     "output_type": "execute_result"
    }
   ],
   "source": [
    "# Cambiar el texto a todas mayúsculas\n",
    "texto.upper() # Builtin (Python) function or method - La variable texto es un objeto que tiene métodos, e.g., upper()"
   ]
  },
  {
   "cell_type": "code",
   "execution_count": 86,
   "id": "25611f54-7d6b-4a2d-b40a-2b6f5cbc537a",
   "metadata": {
    "tags": []
   },
   "outputs": [
    {
     "data": {
      "text/plain": [
       "\u001b[0;31mSignature:\u001b[0m \u001b[0mtexto\u001b[0m\u001b[0;34m.\u001b[0m\u001b[0mupper\u001b[0m\u001b[0;34m(\u001b[0m\u001b[0;34m)\u001b[0m\u001b[0;34m\u001b[0m\u001b[0;34m\u001b[0m\u001b[0m\n",
       "\u001b[0;31mDocstring:\u001b[0m Return a copy of the string converted to uppercase.\n",
       "\u001b[0;31mType:\u001b[0m      builtin_function_or_method\n"
      ]
     },
     "metadata": {},
     "output_type": "display_data"
    }
   ],
   "source": [
    "# Cómo buscar info para saber cómo usar el método, regresa la documentación ??\n",
    "texto.upper??"
   ]
  },
  {
   "cell_type": "code",
   "execution_count": 91,
   "id": "0a7d21b6-e0d3-4503-a1d2-94a1517f2458",
   "metadata": {
    "tags": []
   },
   "outputs": [
    {
     "data": {
      "text/plain": [
       "'¡hola, mundo!'"
      ]
     },
     "execution_count": 91,
     "metadata": {},
     "output_type": "execute_result"
    }
   ],
   "source": [
    "# Cambiar el texto a minúsculas\n",
    "texto.lower()"
   ]
  },
  {
   "cell_type": "code",
   "execution_count": 94,
   "id": "62d77a50-a166-4ca9-8938-7e0868fbe158",
   "metadata": {
    "tags": []
   },
   "outputs": [
    {
     "data": {
      "text/plain": [
       "['¡Hola,', 'Mundo!']"
      ]
     },
     "execution_count": 94,
     "metadata": {},
     "output_type": "execute_result"
    }
   ],
   "source": [
    "# Segmentar el texto según un indicador de separación (Por defecto busca espacios)\n",
    "texto.split()"
   ]
  },
  {
   "cell_type": "code",
   "execution_count": 95,
   "id": "34bf9c80-5dd3-44ab-a04a-3f572b73d83e",
   "metadata": {
    "tags": []
   },
   "outputs": [
    {
     "data": {
      "text/plain": [
       "\u001b[0;31mSignature:\u001b[0m \u001b[0mtexto\u001b[0m\u001b[0;34m.\u001b[0m\u001b[0msplit\u001b[0m\u001b[0;34m(\u001b[0m\u001b[0msep\u001b[0m\u001b[0;34m=\u001b[0m\u001b[0;32mNone\u001b[0m\u001b[0;34m,\u001b[0m \u001b[0mmaxsplit\u001b[0m\u001b[0;34m=\u001b[0m\u001b[0;34m-\u001b[0m\u001b[0;36m1\u001b[0m\u001b[0;34m)\u001b[0m\u001b[0;34m\u001b[0m\u001b[0;34m\u001b[0m\u001b[0m\n",
       "\u001b[0;31mDocstring:\u001b[0m\n",
       "Return a list of the substrings in the string, using sep as the separator string.\n",
       "\n",
       "  sep\n",
       "    The separator used to split the string.\n",
       "\n",
       "    When set to None (the default value), will split on any whitespace\n",
       "    character (including \\\\n \\\\r \\\\t \\\\f and spaces) and will discard\n",
       "    empty strings from the result.\n",
       "  maxsplit\n",
       "    Maximum number of splits (starting from the left).\n",
       "    -1 (the default value) means no limit.\n",
       "\n",
       "Note, str.split() is mainly useful for data that has been intentionally\n",
       "delimited.  With natural text that includes punctuation, consider using\n",
       "the regular expression module.\n",
       "\u001b[0;31mType:\u001b[0m      builtin_function_or_method\n"
      ]
     },
     "metadata": {},
     "output_type": "display_data"
    }
   ],
   "source": [
    "texto.split??"
   ]
  },
  {
   "cell_type": "code",
   "execution_count": 100,
   "id": "a8b1a401-9f8a-4bd7-90b7-178f80f55df9",
   "metadata": {
    "tags": []
   },
   "outputs": [
    {
     "data": {
      "text/plain": [
       "['¡H', 'la, Mund', '!']"
      ]
     },
     "execution_count": 100,
     "metadata": {},
     "output_type": "execute_result"
    }
   ],
   "source": [
    "texto.split(\"o\")"
   ]
  },
  {
   "cell_type": "code",
   "execution_count": 101,
   "id": "fcf4015d-6681-42c5-a9cf-14a5e08af86c",
   "metadata": {
    "tags": []
   },
   "outputs": [],
   "source": [
    "ruta_de_archivo = \"/home/aaguayoo/DriveCiencias/Octopy/AperVox/Research/analysis-research/Python-Becarios/variables.ipynb\" # Este mismo archivo"
   ]
  },
  {
   "cell_type": "code",
   "execution_count": 107,
   "id": "64a49dd6-003a-4785-964d-1dc54d6bef2e",
   "metadata": {
    "tags": []
   },
   "outputs": [
    {
     "data": {
      "text/plain": [
       "['',\n",
       " 'home',\n",
       " 'aaguayoo',\n",
       " 'DriveCiencias',\n",
       " 'Octopy',\n",
       " 'AperVox',\n",
       " 'Research',\n",
       " 'analysis-research',\n",
       " 'Python-Becarios',\n",
       " 'variables.ipynb']"
      ]
     },
     "execution_count": 107,
     "metadata": {},
     "output_type": "execute_result"
    }
   ],
   "source": [
    "ruta_de_archivo.split(\"/\")"
   ]
  },
  {
   "cell_type": "code",
   "execution_count": 105,
   "id": "9873f521-6c81-4b04-a174-34079b8a7fc0",
   "metadata": {
    "tags": []
   },
   "outputs": [
    {
     "data": {
      "text/plain": [
       "'variables.ipynb'"
      ]
     },
     "execution_count": 105,
     "metadata": {},
     "output_type": "execute_result"
    }
   ],
   "source": [
    "nombre_del_archivo = ruta_de_archivo.split(\"/\")[-1] # Con el índice -1 regresa el último valor, 0 regresa el primero\n",
    "nombre_del_archivo"
   ]
  },
  {
   "cell_type": "code",
   "execution_count": 108,
   "id": "28e2094a-7516-48ee-85b5-cfbfc0c52d2d",
   "metadata": {
    "tags": []
   },
   "outputs": [
    {
     "data": {
      "text/plain": [
       "'¡Hola, Mundo!'"
      ]
     },
     "execution_count": 108,
     "metadata": {},
     "output_type": "execute_result"
    }
   ],
   "source": [
    "# Verificar si un texto comienza con un prefijo\n",
    "texto"
   ]
  },
  {
   "cell_type": "code",
   "execution_count": 109,
   "id": "1f108bda-9fae-4460-ad06-15fee6f863bd",
   "metadata": {
    "tags": []
   },
   "outputs": [
    {
     "data": {
      "text/plain": [
       "True"
      ]
     },
     "execution_count": 109,
     "metadata": {},
     "output_type": "execute_result"
    }
   ],
   "source": [
    "texto.startswith(\"¡\")"
   ]
  },
  {
   "cell_type": "code",
   "execution_count": 110,
   "id": "4b6e3209-cbef-4e2a-a6cb-119a3da7c6ce",
   "metadata": {
    "tags": []
   },
   "outputs": [
    {
     "data": {
      "text/plain": [
       "False"
      ]
     },
     "execution_count": 110,
     "metadata": {},
     "output_type": "execute_result"
    }
   ],
   "source": [
    "texto.startswith(\"H\")"
   ]
  },
  {
   "cell_type": "code",
   "execution_count": 113,
   "id": "121a93f9-398c-44e2-a3d2-6074a1009785",
   "metadata": {
    "tags": []
   },
   "outputs": [
    {
     "data": {
      "text/plain": [
       "True"
      ]
     },
     "execution_count": 113,
     "metadata": {},
     "output_type": "execute_result"
    }
   ],
   "source": [
    "# Verificar si un texto termina con un sufijo\n",
    "texto.endswith(\"!\")"
   ]
  },
  {
   "cell_type": "code",
   "execution_count": 112,
   "id": "e1b66f1a-1fe7-46a4-a606-64b091f786b4",
   "metadata": {
    "tags": []
   },
   "outputs": [
    {
     "data": {
      "text/plain": [
       "False"
      ]
     },
     "execution_count": 112,
     "metadata": {},
     "output_type": "execute_result"
    }
   ],
   "source": [
    "texto.endswith(\"o\")"
   ]
  },
  {
   "cell_type": "code",
   "execution_count": 114,
   "id": "e14b2fbd-3181-44b2-960c-9e80700a7cd4",
   "metadata": {
    "tags": []
   },
   "outputs": [],
   "source": [
    "archivo_de_imagen = \"imagen.png\""
   ]
  },
  {
   "cell_type": "code",
   "execution_count": 116,
   "id": "3f11ebc3-5004-4faa-ad88-e415db0743bc",
   "metadata": {
    "tags": []
   },
   "outputs": [
    {
     "data": {
      "text/plain": [
       "True"
      ]
     },
     "execution_count": 116,
     "metadata": {},
     "output_type": "execute_result"
    }
   ],
   "source": [
    "archivo_de_imagen.endswith(\".png\")"
   ]
  },
  {
   "cell_type": "code",
   "execution_count": 118,
   "id": "9c260b70-3303-46db-9f66-05ec157c083f",
   "metadata": {
    "tags": []
   },
   "outputs": [
    {
     "data": {
      "text/plain": [
       "True"
      ]
     },
     "execution_count": 118,
     "metadata": {},
     "output_type": "execute_result"
    }
   ],
   "source": [
    "archivo_de_imagen.endswith((\".jpg\", \".tiff\", \".png\", \".jpeg\"))"
   ]
  },
  {
   "cell_type": "code",
   "execution_count": 119,
   "id": "ae5203bb-ba35-415b-92b1-f68bcec1aeb9",
   "metadata": {
    "tags": []
   },
   "outputs": [
    {
     "data": {
      "text/plain": [
       "False"
      ]
     },
     "execution_count": 119,
     "metadata": {},
     "output_type": "execute_result"
    }
   ],
   "source": [
    "archivo_de_imagen.endswith((\".jpg\", \".tiff\", \".jpeg\"))"
   ]
  },
  {
   "cell_type": "markdown",
   "id": "c800aa91-a68a-46bc-8bb1-5f4674b598e1",
   "metadata": {
    "tags": []
   },
   "source": [
    "## Formato en cadenas"
   ]
  },
  {
   "cell_type": "markdown",
   "id": "d8337cb4-f36b-430a-abf3-3f887fbcf511",
   "metadata": {},
   "source": [
    "Algunas veces es conveniente generar cadenas que tomen el valor de algunas variables, por lo que es importante hacer una cadena dinámica"
   ]
  },
  {
   "cell_type": "code",
   "execution_count": 121,
   "id": "722dd0bf-0758-41d8-a0c9-042eec834d24",
   "metadata": {
    "tags": []
   },
   "outputs": [],
   "source": [
    "nombre = \"Juan\"\n",
    "apellido = \"Pérez\""
   ]
  },
  {
   "cell_type": "code",
   "execution_count": 124,
   "id": "5a29c6af-c908-4e2b-b68b-e3e0b8cfd0ef",
   "metadata": {
    "tags": []
   },
   "outputs": [],
   "source": [
    "nombre_completo = nombre + \" \" + apellido"
   ]
  },
  {
   "cell_type": "code",
   "execution_count": 130,
   "id": "e6b3e780-45fb-42d3-8100-04ac2664c413",
   "metadata": {
    "tags": []
   },
   "outputs": [
    {
     "data": {
      "text/plain": [
       "'Juan Pérez'"
      ]
     },
     "execution_count": 130,
     "metadata": {},
     "output_type": "execute_result"
    }
   ],
   "source": [
    "nombre_completo # Imprimir sin print en Jupyter, la variable a imprimir debe estar en el último renglón de la celda"
   ]
  },
  {
   "cell_type": "code",
   "execution_count": 131,
   "id": "2ba37a59-25de-42d6-a732-9c8f2cb30022",
   "metadata": {
    "tags": []
   },
   "outputs": [
    {
     "name": "stdout",
     "output_type": "stream",
     "text": [
      "Juan Pérez\n"
     ]
    }
   ],
   "source": [
    "print(nombre_completo) # De otra forma, hay que usar print"
   ]
  },
  {
   "cell_type": "code",
   "execution_count": 132,
   "id": "ec31573d-1bca-4181-9d2b-adf39d4b6412",
   "metadata": {
    "tags": []
   },
   "outputs": [],
   "source": [
    "edad = 50"
   ]
  },
  {
   "cell_type": "code",
   "execution_count": 135,
   "id": "1bcd393f-fe0a-4fc4-9437-94a29186b34e",
   "metadata": {
    "tags": []
   },
   "outputs": [
    {
     "ename": "TypeError",
     "evalue": "can only concatenate str (not \"int\") to str",
     "output_type": "error",
     "traceback": [
      "\u001b[0;31m---------------------------------------------------------------------------\u001b[0m",
      "\u001b[0;31mTypeError\u001b[0m                                 Traceback (most recent call last)",
      "Cell \u001b[0;32mIn [135], line 2\u001b[0m\n\u001b[1;32m      1\u001b[0m \u001b[38;5;66;03m# Resultado = \"Juan Pérez tiene 50 años\"\u001b[39;00m\n\u001b[0;32m----> 2\u001b[0m nombre_con_edad \u001b[38;5;241m=\u001b[39m \u001b[43mnombre\u001b[49m\u001b[43m \u001b[49m\u001b[38;5;241;43m+\u001b[39;49m\u001b[43m \u001b[49m\u001b[38;5;124;43m\"\u001b[39;49m\u001b[38;5;124;43m \u001b[39;49m\u001b[38;5;124;43m\"\u001b[39;49m\u001b[43m \u001b[49m\u001b[38;5;241;43m+\u001b[39;49m\u001b[43m \u001b[49m\u001b[43mapellido\u001b[49m\u001b[43m \u001b[49m\u001b[38;5;241;43m+\u001b[39;49m\u001b[43m \u001b[49m\u001b[38;5;124;43m\"\u001b[39;49m\u001b[38;5;124;43m tiene \u001b[39;49m\u001b[38;5;124;43m\"\u001b[39;49m\u001b[43m \u001b[49m\u001b[38;5;241;43m+\u001b[39;49m\u001b[43m \u001b[49m\u001b[43medad\u001b[49m \u001b[38;5;241m+\u001b[39m \u001b[38;5;124m\"\u001b[39m\u001b[38;5;124m años\u001b[39m\u001b[38;5;124m\"\u001b[39m\n",
      "\u001b[0;31mTypeError\u001b[0m: can only concatenate str (not \"int\") to str"
     ]
    }
   ],
   "source": [
    "# Resultado = \"Juan Pérez tiene 50 años\"\n",
    "nombre_con_edad = nombre + \" \" + apellido + \" tiene \" + edad + \" años\" # Error debido edad es int y no str"
   ]
  },
  {
   "cell_type": "code",
   "execution_count": 136,
   "id": "ac95238a-6907-4c14-8ce8-396436ce4c38",
   "metadata": {
    "tags": []
   },
   "outputs": [
    {
     "data": {
      "text/plain": [
       "'Juan Pérez tiene 50 años'"
      ]
     },
     "execution_count": 136,
     "metadata": {},
     "output_type": "execute_result"
    }
   ],
   "source": [
    "nombre_con_edad = nombre + \" \" + apellido + \" tiene \" + str(edad) + \" años\" # Función str(arg) convierte el arg a texto, siempre que el argumento sea un número\n",
    "nombre_con_edad"
   ]
  },
  {
   "cell_type": "code",
   "execution_count": 140,
   "id": "e40dd27a-3a4b-4b2f-a349-8957738b34c2",
   "metadata": {
    "tags": []
   },
   "outputs": [
    {
     "data": {
      "text/plain": [
       "'Hola. Soy Juan Pérez y tengo 50 años'"
      ]
     },
     "execution_count": 140,
     "metadata": {},
     "output_type": "execute_result"
    }
   ],
   "source": [
    "## Usando format\n",
    "nombre_con_edad = \"Hola. Soy {} {} y tengo {} años\".format(nombre, apellido, edad) # No fue importante pasar edad a str\n",
    "nombre_con_edad"
   ]
  },
  {
   "cell_type": "code",
   "execution_count": 142,
   "id": "565fef1b-4878-4b60-81e5-afc33d18e8e9",
   "metadata": {
    "tags": []
   },
   "outputs": [
    {
     "data": {
      "text/plain": [
       "'Hola. Soy Juan Pérez y tengo 50 años'"
      ]
     },
     "execution_count": 142,
     "metadata": {},
     "output_type": "execute_result"
    }
   ],
   "source": [
    "## Usando f\"\"\n",
    "nombre_con_edad = f\"Hola. Soy {nombre} {apellido} y tengo {edad} años\" # Buena práctica\n",
    "nombre_con_edad"
   ]
  },
  {
   "cell_type": "markdown",
   "id": "5449bf55-265f-4af1-939e-25ed8914ce61",
   "metadata": {
    "tags": []
   },
   "source": [
    "### Ejercicio\n",
    "- Crear un conjunto de variables de texto \n",
    "    - Nombre\n",
    "    - Apellido\n",
    "    - Edad \n",
    "    - Lugar de origen\n",
    "    - Comida favorita\n",
    "    \n",
    "- Crear un texto que describa a un usuario a través de las variables declaradas\n",
    "    - crear el texto utilizando los tres formatos\n",
    "\n",
    "- Verificar si el texto es un saludo, esto a través de saber si el texto comienza con algún saludo (ej. \"Hola\", \"Buenos días\"). \n",
    "- Segmentar el texto por cada espacio que exista\n",
    "- Segmentar el texto por cada \"e\" que exista"
   ]
  },
  {
   "cell_type": "code",
   "execution_count": null,
   "id": "475d7611-2b34-4a91-b358-ca27713df491",
   "metadata": {},
   "outputs": [],
   "source": []
  }
 ],
 "metadata": {
  "kernelspec": {
   "display_name": "Python 3 (ipykernel)",
   "language": "python",
   "name": "python3"
  },
  "language_info": {
   "codemirror_mode": {
    "name": "ipython",
    "version": 3
   },
   "file_extension": ".py",
   "mimetype": "text/x-python",
   "name": "python",
   "nbconvert_exporter": "python",
   "pygments_lexer": "ipython3",
   "version": "3.10.6"
  }
 },
 "nbformat": 4,
 "nbformat_minor": 5
}
