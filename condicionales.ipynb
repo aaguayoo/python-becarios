{
 "cells": [
  {
   "cell_type": "markdown",
   "id": "106e3684-94de-4ab5-9aeb-8bb4adbc7db6",
   "metadata": {},
   "source": [
    "# Estructuras de flujo"
   ]
  },
  {
   "cell_type": "markdown",
   "id": "315ac67d-49b2-42e5-9f7a-4bc5c472e72e",
   "metadata": {},
   "source": [
    "## Introducción\n",
    "\n",
    "Python tiene la característica de ser simplificado en su notación, sin embargo, ea veces tanta simplificación puede resultar confuso, más si no tenemos contexto sobre programación. En Python, la delcaración de sentencias se vale de un concepto llamado _indentación_, que significa mover un bloque de texto hacia la derecha por medio de espacios (4 espacios) o tabuladores (1 tab)."
   ]
  },
  {
   "cell_type": "markdown",
   "id": "7b56ccd9-cf84-4798-b25b-6f4fbc09beae",
   "metadata": {
    "tags": []
   },
   "source": [
    "### Ejemplo en C++\n",
    "```c\n",
    "if ( condición ) {\n",
    "    código;\n",
    "} // En C++ no hay problema con la indentación, ya que se usa `{}`\n",
    "if ( condición ) { código; }\n",
    "```\n",
    "\n"
   ]
  },
  {
   "cell_type": "markdown",
   "id": "f29fb072-e76d-4d8f-b950-a8e0f226127f",
   "metadata": {},
   "source": [
    "### Ejemplo en Python\n",
    "```python\n",
    "if condición:\n",
    "    código # El código dentro del condicional está delimitado únicamente por la indentación\n",
    "```"
   ]
  },
  {
   "cell_type": "markdown",
   "id": "4f64d570-eb08-41d1-a1a2-cbafb6df5818",
   "metadata": {},
   "source": [
    "## Declaraciones: if / elif / else\n",
    "\n",
    "Cuando comenzamos a programar, una de las primeras cosas que van a surgir es la necesidad de bifurcar el código, es decir, que si alguna condición se cumple, entonces queremos que suceda algo, mientras que si no sucede entonces queremos que suceda otra cosa. A esto lo llamamos _condicionales_ y la forma de delcararlo en Python es por medio del uso de las **partículas**: _if_, _elif_ y _else_"
   ]
  },
  {
   "cell_type": "markdown",
   "id": "b5e05ca3-833f-49c8-b0de-279474d02d4e",
   "metadata": {},
   "source": [
    "### Estructura de un condicional"
   ]
  },
  {
   "cell_type": "markdown",
   "id": "8251ed02-5033-44eb-a6a2-ce9797ae858b",
   "metadata": {
    "tags": []
   },
   "source": [
    "# Condición simple\n",
    "```python\n",
    "if condicion_a_evaluar:\n",
    "    codigo_a_ejecutar_en_caso_de_que_la_condicion_sea_cierta\n",
    "```\n"
   ]
  },
  {
   "cell_type": "markdown",
   "id": "4884db41-a0c8-416c-b3d2-0a43ded6123f",
   "metadata": {},
   "source": [
    "La `condicion_a_evaluar` siempre será una sentencia que tenga como resultado un valor booleano:\n",
    "- `True` -> `True`\n",
    "- `False` -> `False`\n",
    "- `1 < 2` -> `True`\n",
    "- `\"a\" in \"oso\"` -> `False`\n",
    "- `5 == 6` -> `False`\n",
    "- `7 != 3` -> `True`\n",
    "- `\"1\" > \"2\"` -> `False`"
   ]
  },
  {
   "cell_type": "code",
   "execution_count": 4,
   "id": "3ab6c02d-53df-4781-95b7-3dbb21cf13ee",
   "metadata": {
    "tags": []
   },
   "outputs": [
    {
     "name": "stdout",
     "output_type": "stream",
     "text": [
      "La condición se cumplió\n"
     ]
    }
   ],
   "source": [
    "# Utilizando la primera sentencia:\n",
    "if True:\n",
    "    print(\"La condición se cumplió\")"
   ]
  },
  {
   "cell_type": "code",
   "execution_count": 5,
   "id": "ee958f14-4076-4d64-9d88-e41787a754b5",
   "metadata": {
    "tags": []
   },
   "outputs": [],
   "source": [
    "# Usando la segunda sentencia:\n",
    "if False:\n",
    "    print(\"Este mensaje nunca se mostrará, porque el flujo no entrará aquí\")"
   ]
  },
  {
   "cell_type": "markdown",
   "id": "62e1bb98-73e2-4f5f-ab10-a7dd34809d19",
   "metadata": {},
   "source": [
    "### Delcaración de condicionales por medio de variables"
   ]
  },
  {
   "cell_type": "code",
   "execution_count": 16,
   "id": "9fbda424-a4c2-4e9c-a8af-bcf42898ae00",
   "metadata": {
    "tags": []
   },
   "outputs": [
    {
     "name": "stdout",
     "output_type": "stream",
     "text": [
      "Se cumple la condición\n",
      "Se cumple la condición\n"
     ]
    }
   ],
   "source": [
    "# Supongamos que queremos ejecutar un código, si se cumple la siguiente condición:\n",
    "# Que cierta variable numero sea menor que 10, pero sea mayor que 5.\n",
    "numero = 7\n",
    "\n",
    "# 6, 7, 8, 9\n",
    "if numero < 10 and numero > 5:\n",
    "    print(\"Se cumple la condición\")\n",
    "    \n",
    "condicion = numero < 10 and numero > 5 # Buena practica: guardar las condiciones dentro de variables o funciones\n",
    "if condicion:\n",
    "    print(\"Se cumple la condición\")"
   ]
  },
  {
   "cell_type": "markdown",
   "id": "d26ea871-0bf9-4c9e-bede-a80c15ff514b",
   "metadata": {},
   "source": [
    "### Declaraciones por defecto\n",
    "\n",
    "Cuando evaluamos una condición lógica siempre tenemos dos posibles respuestas: True o False. Las estructuras que delcaramos previamente sólo consideran el caso donde la condición es verdadera. Para poder bifurcar el código y cubrir ambos casos es necesario utilizar la partícula _else_"
   ]
  },
  {
   "cell_type": "markdown",
   "id": "041da415-d347-4c9d-b230-0ff62ccd160c",
   "metadata": {
    "tags": []
   },
   "source": [
    "```python\n",
    "if condicion_a_evaluar:\n",
    "    codigo_a_ejecutar_si_condicion_es_True\n",
    "else:\n",
    "    codigo_a_ejecutar_si_condicion_es_False\n",
    "```"
   ]
  },
  {
   "cell_type": "markdown",
   "id": "bfde4a34-d922-4f56-a210-2aeca459bd71",
   "metadata": {},
   "source": [
    "**NOTA**: Nótese que la partícula _else_ está declarada en la misma columna que su _if_ correspondiente, mientras que el código a aejecutar si lacondición es falsa, también está indentado respecto a la partícula _else_"
   ]
  },
  {
   "cell_type": "code",
   "execution_count": 21,
   "id": "1f1cd0c0-ab77-475d-a798-9644ba607b3e",
   "metadata": {
    "tags": []
   },
   "outputs": [
    {
     "name": "stdout",
     "output_type": "stream",
     "text": [
      "Este mensaje sólo se muestra si la respuesta es verdadera\n"
     ]
    }
   ],
   "source": [
    "# Supongamos que queremos evaluar nuevamente una variable condicional, pero en este caso que tome acción si la condición es verdadera o falsa:\n",
    "respuesta = True\n",
    "\n",
    "# Código bifurcado\n",
    "if respuesta:\n",
    "    print(\"Este mensaje sólo se muestra si la respuesta es verdadera\")\n",
    "else:\n",
    "    print(\"Este mensaje sólo se muestra si la respuesta es falsa\")"
   ]
  },
  {
   "cell_type": "markdown",
   "id": "1e9bbaf4-2d43-4e5f-afa6-7858b2fda319",
   "metadata": {},
   "source": [
    "### Comparaciones con múltiples evaluaciones\n",
    "\n",
    "Es posible generar sentencias condicionales utilizando operadores lógicos para concatenar resultados de múltiples evaluaciones. Supongamos los siguientes valores para variables `color` y `forma`"
   ]
  },
  {
   "cell_type": "code",
   "execution_count": 35,
   "id": "e363f0b5-1445-4f93-ad54-9541bd45156b",
   "metadata": {
    "tags": []
   },
   "outputs": [],
   "source": [
    "color = \"amarillo\"\n",
    "forma = \"cuadrado\""
   ]
  },
  {
   "cell_type": "code",
   "execution_count": 36,
   "id": "ea35a6bf-9f1b-4c97-8a7b-7b81662dd91e",
   "metadata": {
    "tags": []
   },
   "outputs": [
    {
     "name": "stdout",
     "output_type": "stream",
     "text": [
      "Elemento desconocido\n"
     ]
    }
   ],
   "source": [
    "# Primera sentecia\n",
    "if color == \"azul\" and forma == \"cuadrado\": # Usando `and`: ambas condiciones se tienen que cumplir.\n",
    "    print(\"Elemento azul y cuadrado\")\n",
    "else:\n",
    "    print(\"Elemento desconocido\")"
   ]
  },
  {
   "cell_type": "code",
   "execution_count": 37,
   "id": "b34d6ca2-f401-436a-8d2c-6310a474c3f1",
   "metadata": {
    "tags": []
   },
   "outputs": [
    {
     "name": "stdout",
     "output_type": "stream",
     "text": [
      "Elemento es o azul o cuadrado\n"
     ]
    }
   ],
   "source": [
    "# Segunda sentencia\n",
    "if color == \"azul\" or forma == \"cuadrado\": # Usando `or`: solo una de las dos condiciones se tiene que cumplir\n",
    "    print(\"Elemento es o azul o cuadrado\")\n",
    "else:\n",
    "    print(\"El elemento no es ni azul ni cuadrado\")"
   ]
  },
  {
   "cell_type": "markdown",
   "id": "6f07b604-06c5-4921-929e-f0c0240d5eb0",
   "metadata": {},
   "source": [
    "### Multiples condicionales\n",
    "\n",
    "En algunas ocaciones no nos será suficiente con tener una bifurcación, sino que requerimos evaluar múltiples ocndicones. Para hacer esto, es necesario utilizar la pertícula _elif_ siguiendo la estructura siguiente:\n",
    "\n",
    "```python\n",
    "if condicion_primaria:\n",
    "    codigo_si_la_cond_primaria_se_cumple\n",
    "elif condicion_secundaria:\n",
    "    codigo_si_la_cond_secundaria_se_cumple\n",
    "···\n",
    "else:\n",
    "    código_si_nunguan_condicion_se_cumplió\n",
    "```"
   ]
  },
  {
   "cell_type": "code",
   "execution_count": 41,
   "id": "4b217677-4434-4df3-947a-26d98f256417",
   "metadata": {
    "tags": []
   },
   "outputs": [
    {
     "name": "stdout",
     "output_type": "stream",
     "text": [
      "El color es rojo\n"
     ]
    }
   ],
   "source": [
    "color = \"rojo\"\n",
    "\n",
    "if color == \"azul\":\n",
    "\tprint(\"El color es azul\")\n",
    "elif color == \"rojo\":\n",
    "\tprint(\"El color es rojo\")\n",
    "elif color == \"amarillo\":\n",
    "\tprint(\"El color es amarillo\")\n",
    "else:\n",
    "\tprint(\"color desconocido\")"
   ]
  },
  {
   "cell_type": "markdown",
   "id": "82c72ddd-45a3-4611-84fc-dbb7b36fceff",
   "metadata": {},
   "source": [
    "- Las partículas _elif_ van a la altura de la columan del primer _if_\n",
    "- Nunca se comienza un condicional con la partícula _elif_\n",
    "- Es posible declarar tantos _elif_ como se desee."
   ]
  },
  {
   "cell_type": "markdown",
   "id": "332df5f6-8e52-48a9-bb6b-2968a0296948",
   "metadata": {},
   "source": [
    "### Condicionales en una línea\n",
    "\n",
    "Es posible declarar un condicional en una línea\n",
    "\n",
    "```python\n",
    "if condicion: declaracion_1; declaracion_2; ...; declaracion_n;\n",
    "```"
   ]
  },
  {
   "cell_type": "code",
   "execution_count": 42,
   "id": "37043f43-e868-4ee7-997d-d8e02e404074",
   "metadata": {
    "tags": []
   },
   "outputs": [],
   "source": [
    "if color == \"azul\": print(\"El color es azul\")"
   ]
  },
  {
   "cell_type": "markdown",
   "id": "97100121-0b86-443f-bc7f-a405a7fb5fc7",
   "metadata": {},
   "source": [
    "### Ternarios\n",
    "\n",
    "Existen casos donde queremos asignar un valor a una variable según si se cumple alguna condicion o no"
   ]
  },
  {
   "cell_type": "code",
   "execution_count": 48,
   "id": "cbb75b53-7623-461f-9436-25cd92166691",
   "metadata": {
    "tags": []
   },
   "outputs": [
    {
     "name": "stdout",
     "output_type": "stream",
     "text": [
      "rojo triángulo\n"
     ]
    }
   ],
   "source": [
    "color = \"rojo\"\n",
    "\n",
    "if color == \"rojo\":\n",
    "    forma = \"triángulo\"\n",
    "else:\n",
    "    forma = \"cuadrado\"\n",
    "    \n",
    "print(color, forma)"
   ]
  },
  {
   "cell_type": "code",
   "execution_count": 49,
   "id": "3c48fee5-3e17-460c-98b6-b86fcb9ec7e6",
   "metadata": {
    "tags": []
   },
   "outputs": [
    {
     "name": "stdout",
     "output_type": "stream",
     "text": [
      "rojo triángulo\n"
     ]
    }
   ],
   "source": [
    "# En una línea\n",
    "forma = \"triángulo\" if color == \"rojo\" else \"cuadrado\"\n",
    "\n",
    "print(color, forma)"
   ]
  },
  {
   "cell_type": "markdown",
   "id": "a586d800-db85-46b1-a5b4-a5ad78ef3e8c",
   "metadata": {},
   "source": [
    "# C++\n",
    "```C\n",
    "forma = \"triángulo\" ? color == \"rojo\" : \"cuardado\"\n",
    "```"
   ]
  },
  {
   "cell_type": "markdown",
   "id": "08580b97-28ba-480f-8007-08d069add591",
   "metadata": {},
   "source": [
    "#### Respuestas booleanas\n",
    "\n",
    "Supongamos que en nuestro ternario no deseamos regresar un texto sino una respuesta booleana"
   ]
  },
  {
   "cell_type": "code",
   "execution_count": 54,
   "id": "96c64d60-152b-4ac0-91b6-007bc25c7b60",
   "metadata": {
    "tags": []
   },
   "outputs": [
    {
     "name": "stdout",
     "output_type": "stream",
     "text": [
      "True\n"
     ]
    }
   ],
   "source": [
    "edad = 78\n",
    "\n",
    "permiso = True if edad > 18 else False\n",
    "\n",
    "print(permiso)"
   ]
  },
  {
   "cell_type": "code",
   "execution_count": 55,
   "id": "3cba10c3-63f9-43f9-a226-53acbdcc7543",
   "metadata": {
    "tags": []
   },
   "outputs": [
    {
     "name": "stdout",
     "output_type": "stream",
     "text": [
      "True\n"
     ]
    }
   ],
   "source": [
    "# De forma simplificada\n",
    "permiso = bool(edad > 18) # Built-in function de Python\n",
    "\n",
    "print(permiso)"
   ]
  }
 ],
 "metadata": {
  "kernelspec": {
   "display_name": "Python 3 (ipykernel)",
   "language": "python",
   "name": "python3"
  },
  "language_info": {
   "codemirror_mode": {
    "name": "ipython",
    "version": 3
   },
   "file_extension": ".py",
   "mimetype": "text/x-python",
   "name": "python",
   "nbconvert_exporter": "python",
   "pygments_lexer": "ipython3",
   "version": "3.10.6"
  }
 },
 "nbformat": 4,
 "nbformat_minor": 5
}
