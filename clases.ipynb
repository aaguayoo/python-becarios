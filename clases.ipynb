{
 "cells": [
  {
   "cell_type": "markdown",
   "id": "64526f2c-424e-46b3-84a4-d3aaed1006c3",
   "metadata": {},
   "source": [
    "# Clases"
   ]
  },
  {
   "cell_type": "markdown",
   "id": "fe922531-c161-42f9-9f15-9ccab313900a",
   "metadata": {},
   "source": [
    "Durante la creación de un código, se buscan formas de almacenar información, hasta el momento podemos hacerlo declarando variables simples"
   ]
  },
  {
   "cell_type": "code",
   "execution_count": 3,
   "id": "a580c089-2c13-4823-8df3-2af04a129c86",
   "metadata": {
    "tags": []
   },
   "outputs": [],
   "source": [
    "nombre = \"Jesús\" # Sólo una cosa"
   ]
  },
  {
   "cell_type": "markdown",
   "id": "5a6e31ca-f01a-4208-8541-2e02438ddc3d",
   "metadata": {},
   "source": [
    "o dentro de colecciones de datos:"
   ]
  },
  {
   "cell_type": "code",
   "execution_count": 5,
   "id": "7298cbac-8a11-4ae8-b3b4-4c4184173fcd",
   "metadata": {
    "tags": []
   },
   "outputs": [],
   "source": [
    "# Varias cosas, ordenas, o no, indexadas o no\n",
    "lista = [\"Jesús\"]\n",
    "tupla = (\"Jesús\")\n",
    "diccionario = {\n",
    "    \"nombre\": \"Jesús\"\n",
    "}\n",
    "conjunto = {\"Jesús\"}\n",
    "\n",
    "datos = [\"Jesús\", 12, \"Yucatán\", \"rojo\"]"
   ]
  },
  {
   "cell_type": "markdown",
   "id": "ab297a88-4425-4093-92db-cd2326778c2b",
   "metadata": {},
   "source": [
    "Sin embargo, hay ocasiones donde este tipo de almacenamiento quedan sobrepasados ya que por un lado las variables simples no nos permiten almacenar información fuera del tipo de dato especificado, y por otro lado, las coleccioens suponen un problema de organización y entendimiento. Tomando en cuenta la colección `datos`, podríamos intuir que el primer elemento de la lista refiere a un nombre, el segundo quizás a una edad, el tercero a un lugar y el cuarto a un color. Sin embargo, es mera deducción y cuando desarrollamos es importante evitar todo tipo de ambigüedades"
   ]
  },
  {
   "cell_type": "markdown",
   "id": "a99bc869-74d0-439f-be79-93df12a90e7d",
   "metadata": {},
   "source": [
    "Ya sabemos que en Python todo es un OBJETO, es decir, elementos derivados de estructuras definidas llamadas `clases`, y además de las clases existentes dentro del núcleo de Python, también es posible declarar nuestras propias clases de donde surjan nuevos tipos de objetos"
   ]
  },
  {
   "cell_type": "code",
   "execution_count": 7,
   "id": "f0820831-a03b-4e33-8751-7bd3f92ca285",
   "metadata": {
    "tags": []
   },
   "outputs": [
    {
     "data": {
      "text/plain": [
       "list"
      ]
     },
     "execution_count": 7,
     "metadata": {},
     "output_type": "execute_result"
    }
   ],
   "source": [
    "type(datos) # Objeto: list es la clase de listas de Python"
   ]
  },
  {
   "cell_type": "code",
   "execution_count": 8,
   "id": "7eea5ffd-f174-4903-9546-b571311f6acf",
   "metadata": {
    "tags": []
   },
   "outputs": [],
   "source": [
    "datos.append(3) # El objeto `datos`, al ser una clase de `list` tiene distintos métodos, que a los que se pueden acceder"
   ]
  },
  {
   "cell_type": "code",
   "execution_count": 9,
   "id": "8cf00f10-9155-4184-ab9f-bc4b28159f26",
   "metadata": {
    "tags": []
   },
   "outputs": [
    {
     "data": {
      "text/plain": [
       "['Jesús', 12, 'Yucatán', 'rojo', 3]"
      ]
     },
     "execution_count": 9,
     "metadata": {},
     "output_type": "execute_result"
    }
   ],
   "source": [
    "datos"
   ]
  },
  {
   "cell_type": "markdown",
   "id": "b0d13bbd-b1c4-4537-b527-7cd4965cf2d4",
   "metadata": {},
   "source": [
    "Pensando en el escenario inicial, las clases tienen todo lo necesario para darle una solución al problema de almacenamiento de datos."
   ]
  },
  {
   "cell_type": "markdown",
   "id": "72e712bd-c11d-4f19-a6b3-b1f0fb6778b6",
   "metadata": {},
   "source": [
    "## Declaración de clases\n",
    "\n",
    "Para poder declarar una clase, Python cuenta con la partícula `class`\n",
    "\n",
    "```python\n",
    "class NombreDeLaClase:\n",
    "    ···\n",
    "```\n",
    "\n",
    "Por buena costumbre, los nombres de la clase (al menos en la división de AperVox, solemos escribirlos con mayúsculas la primera letra, y sin guión bajo"
   ]
  },
  {
   "cell_type": "code",
   "execution_count": 10,
   "id": "db590f3a-9be9-4e15-9a86-053587144b6e",
   "metadata": {
    "tags": []
   },
   "outputs": [],
   "source": [
    "# La estructura más básica de declarar una clase\n",
    "class Bicicleta:\n",
    "    pass"
   ]
  },
  {
   "cell_type": "markdown",
   "id": "7caebb55-6b75-4a35-b2f4-c6cd92585d1f",
   "metadata": {},
   "source": [
    "Esto nos permitirá crear objetos a partir de la clase `Bicicleta`, sin embasrgo serán objetos sin ninguna capacidad (_métodos_) o característica (_atributos_). Para crear un objeto es necesario _inicializar_ (instanciar) la clase, y para hacerlo necesitamos declarar una variable desde nuestra clase"
   ]
  },
  {
   "cell_type": "code",
   "execution_count": 11,
   "id": "33d76455-0e7d-4f5a-b79b-1db72006600c",
   "metadata": {
    "tags": []
   },
   "outputs": [],
   "source": [
    "# Creamos el objeto `bicicleta` a partir de la clase `Bicicleta`\n",
    "bicicleta = Bicicleta()"
   ]
  },
  {
   "cell_type": "code",
   "execution_count": 16,
   "id": "a7088b1a-ebf9-4a6d-a4bc-4e2236dc12a5",
   "metadata": {
    "tags": []
   },
   "outputs": [
    {
     "data": {
      "text/plain": [
       "__main__.Bicicleta"
      ]
     },
     "execution_count": 16,
     "metadata": {},
     "output_type": "execute_result"
    }
   ],
   "source": [
    "type(bicicleta) # este es un objeto de la clase Bicicleta"
   ]
  },
  {
   "cell_type": "markdown",
   "id": "48f34b1a-39cd-4fd7-86c1-b2b736e1553d",
   "metadata": {},
   "source": [
    "Nuestra intención es almacenar estructuras de datos, por lo que necesitamos determinar los datos que queremos que contenga nuestra clase, para eso es posible declarar _atributos_ a nuestra clase\n",
    "\n",
    "**NOTA**: Existen dos tipos de atributos, los atributos de clase y los atributos de instancia. Los _atributos de clase_ son aquellos atributos cuyo valor es invariable entre objetos, mientras que los _atributos de instancia_ son los atributos con valores variables entre objtos."
   ]
  },
  {
   "cell_type": "markdown",
   "id": "12709a26-48b4-49a9-ac13-499ea80403f9",
   "metadata": {},
   "source": [
    "Declaremos un par de _atributos de instancia_ a nuestra clase `Bicicleta`, es decir, atributos cuyo valor puede variar entre diferentes objetos, para hacer esto podemos hacer uso del _método mágico_: `.__init__()"
   ]
  },
  {
   "cell_type": "code",
   "execution_count": 20,
   "id": "beed04dc-050e-4490-903f-cae829a9ac61",
   "metadata": {
    "tags": []
   },
   "outputs": [],
   "source": [
    "class Bicicleta:\n",
    "    \n",
    "    def __init__(self, color, rodada):\n",
    "        # Este método se aplica en cuando se instancia un objeto de la clase\n",
    "        self.color = color\n",
    "        self.rodada = rodada"
   ]
  },
  {
   "cell_type": "code",
   "execution_count": 28,
   "id": "d48827d7-442f-4d4b-8589-9d72db8c895f",
   "metadata": {
    "tags": []
   },
   "outputs": [],
   "source": [
    "# Dos objetos de la misma clase pero inicializados con distintos atributos de instancia\n",
    "bicicleta_montaña = Bicicleta(color='naranja', rodada='montaña') # Tipo de dato llamado Bicicleta\n",
    "bicicleta_ruta = Bicicleta(color='gris', rodada='ruta')"
   ]
  },
  {
   "cell_type": "code",
   "execution_count": 29,
   "id": "1bcf0f00-1b0c-45f9-acd7-2bfb13c54faa",
   "metadata": {
    "tags": []
   },
   "outputs": [
    {
     "name": "stdout",
     "output_type": "stream",
     "text": [
      "<__main__.Bicicleta object at 0x7f636508bc40>\n",
      "<__main__.Bicicleta object at 0x7f6365089690>\n"
     ]
    }
   ],
   "source": [
    "print(bicicleta_montaña)\n",
    "print(bicicleta_ruta)"
   ]
  },
  {
   "cell_type": "code",
   "execution_count": 30,
   "id": "4121e671-84bc-4925-95f5-30b0b049f1fe",
   "metadata": {
    "tags": []
   },
   "outputs": [
    {
     "name": "stdout",
     "output_type": "stream",
     "text": [
      "montaña\n"
     ]
    }
   ],
   "source": [
    "# Accedamos a sus atributos\n",
    "print(bicicleta_montaña.rodada)"
   ]
  },
  {
   "cell_type": "code",
   "execution_count": 31,
   "id": "0e30cde9-701f-4f7d-a66a-45c326696854",
   "metadata": {
    "tags": []
   },
   "outputs": [
    {
     "name": "stdout",
     "output_type": "stream",
     "text": [
      "ruta\n"
     ]
    }
   ],
   "source": [
    "print(bicicleta_ruta.rodada)"
   ]
  },
  {
   "cell_type": "markdown",
   "id": "a6d25bf6-97ca-4998-b815-046fcfb640c9",
   "metadata": {},
   "source": [
    "Podemos ahora declarar _atributos de clase_, es decir, que no cambian entre distintos objetos de la misma clase"
   ]
  },
  {
   "cell_type": "code",
   "execution_count": 47,
   "id": "ead1293f-1b0c-49ef-b006-a39f7c7c8b4a",
   "metadata": {
    "tags": []
   },
   "outputs": [],
   "source": [
    "class Bicicleta:\n",
    "    \n",
    "    numero_ruedas = 2 # Propiedad importante y necesaria de las bicicletas\n",
    "    \n",
    "    def __init__(self, color, rodada):\n",
    "        # Este método se aplica en cuando se instancia un objeto de la clase\n",
    "        # El objeto self te permite acceder a todo lo demá de la clase\n",
    "        self.color = color\n",
    "        self.rodada = rodada\n",
    "        \n",
    "    ## Todos los métodos de la clase (salvo casos particulares) deben recibir como primer\n",
    "    ## argumento el objeto `self`"
   ]
  },
  {
   "cell_type": "code",
   "execution_count": 48,
   "id": "abb0b9e8-6d00-428c-9062-da06f2b565bf",
   "metadata": {
    "tags": []
   },
   "outputs": [],
   "source": [
    "bicicleta_montaña = Bicicleta(color='naranja', rodada='montaña') # Tipo de dato llamado Bicicleta\n",
    "#bicicleta_ruta = Bicicleta(color='gris', rodada='ruta')"
   ]
  },
  {
   "cell_type": "code",
   "execution_count": 49,
   "id": "fe0993d7-fde2-4693-abb2-8b5a8fc10510",
   "metadata": {
    "tags": []
   },
   "outputs": [
    {
     "data": {
      "text/plain": [
       "2"
      ]
     },
     "execution_count": 49,
     "metadata": {},
     "output_type": "execute_result"
    }
   ],
   "source": [
    "bicicleta_montaña.numero_ruedas"
   ]
  },
  {
   "cell_type": "code",
   "execution_count": 50,
   "id": "73a75709-3a48-4987-8987-92d0e3521f48",
   "metadata": {
    "tags": []
   },
   "outputs": [
    {
     "data": {
      "text/plain": [
       "2"
      ]
     },
     "execution_count": 50,
     "metadata": {},
     "output_type": "execute_result"
    }
   ],
   "source": [
    "bicicleta_ruta.numero_ruedas"
   ]
  },
  {
   "cell_type": "markdown",
   "id": "5194875f-160a-4724-8ecb-942a2d1e6f7b",
   "metadata": {},
   "source": [
    "## Documentar la clase\n",
    "\n",
    "Cuando hemos realizado una impresión en pantalla de nuestro objeto, nos regresaba lo siguiente:\n",
    "`<__main__.Bicicleta object at 0x7f636508bc40>`, por lo que podemos agregar un método mágico `.__str__()` a neustra clase para crear mejores descripciones"
   ]
  },
  {
   "cell_type": "code",
   "execution_count": 78,
   "id": "3c7facaf-3c0c-4d38-b9af-f691a9d0b861",
   "metadata": {
    "tags": []
   },
   "outputs": [],
   "source": [
    "class Bicicleta:\n",
    "    \n",
    "\tnúmero_de_ruedas = 2\n",
    "\n",
    "\tdef __init__(self, color: str, rodada: str | int, tieneLuz: bool, frenos: str):\n",
    "\t\tself.color = color\n",
    "\t\tself.rodada = rodada\n",
    "\n",
    "\tdef __str__(self):\n",
    "        # Este método se usa cuando se aplica la función print a nuestro objeto\n",
    "\t\treturn f\"Bicicleta de {self.rodada}, color {self.color}\"\n",
    "    \n",
    "        \n",
    "class UsuarioBicicleta:\n",
    "    \n",
    "    def __init__(self, nombre, altura, tieneCasco):\n",
    "        self.altura = altura # con esto aseguramos que todas las variables de iniciación de guarden como atributos del objeto\n",
    "        self.tieneCasco = tieneCasco\n",
    "    \n",
    "    def puede_usar_bici(self):\n",
    "        if self.tieneCasco:\n",
    "            return True\n",
    "        else:\n",
    "            return False"
   ]
  },
  {
   "cell_type": "code",
   "execution_count": 70,
   "id": "b6aaa604-54f2-45e0-88d2-652d5cf60b04",
   "metadata": {
    "tags": []
   },
   "outputs": [
    {
     "name": "stdout",
     "output_type": "stream",
     "text": [
      "Bicicleta de montaña, color azul\n"
     ]
    }
   ],
   "source": [
    "usuario = UsuarioBicicleta(\"Alejandro\", 1.77, tieneCasco=True)\n",
    "bicicleta = Bicicleta('azul', 'montaña', tieneLuz=True, frenos=\"disco\")\n",
    "print(bicicleta)"
   ]
  },
  {
   "cell_type": "code",
   "execution_count": 72,
   "id": "d8ec0e61-96c2-4c1f-817f-82dcd40c91e7",
   "metadata": {
    "tags": []
   },
   "outputs": [
    {
     "data": {
      "text/plain": [
       "__main__.UsuarioBicicleta"
      ]
     },
     "execution_count": 72,
     "metadata": {},
     "output_type": "execute_result"
    }
   ],
   "source": [
    "type(usuario)"
   ]
  },
  {
   "cell_type": "code",
   "execution_count": 73,
   "id": "ee16a16a-1260-4a8f-8ddb-d96eab586c72",
   "metadata": {
    "tags": []
   },
   "outputs": [
    {
     "data": {
      "text/plain": [
       "__main__.Bicicleta"
      ]
     },
     "execution_count": 73,
     "metadata": {},
     "output_type": "execute_result"
    }
   ],
   "source": [
    "type(bicicleta)"
   ]
  },
  {
   "cell_type": "code",
   "execution_count": 71,
   "id": "3bfb634b-0a48-4f0a-9f8a-894d811c72b9",
   "metadata": {
    "tags": []
   },
   "outputs": [
    {
     "data": {
      "text/plain": [
       "True"
      ]
     },
     "execution_count": 71,
     "metadata": {},
     "output_type": "execute_result"
    }
   ],
   "source": [
    "usuario.puede_usar_bici()"
   ]
  },
  {
   "cell_type": "markdown",
   "id": "7b5459be-5140-4d21-8d93-c814f0493889",
   "metadata": {},
   "source": [
    "## Conclusiones\n",
    "\n",
    "hemos visto como es posible almacenar información estructurada a través de la construcción de clases, ya que nos permiten crear estrcutras de datos específicas, es decir, que podemos determinar que información queremos almacenar dentro de la clase (_atributos_), ya sean valores dinámicos (_atributos de instancia_) o estáticos (_atributos de clase_).\n",
    "\n",
    "Por otro lado, hemos creado una descripción humanamente entendible para nuestros objetos haciendo uso de sus atributos."
   ]
  },
  {
   "cell_type": "code",
   "execution_count": null,
   "id": "46e58535-97b3-42f1-aa50-a81b8c32e729",
   "metadata": {},
   "outputs": [],
   "source": [
    "obj = ABCPolyBase() "
   ]
  },
  {
   "cell_type": "code",
   "execution_count": null,
   "id": "ba67b821-67a2-4b10-ab13-87a232cdb163",
   "metadata": {},
   "outputs": [],
   "source": [
    "obj."
   ]
  },
  {
   "cell_type": "code",
   "execution_count": null,
   "id": "212eb5d0-b757-4833-a9e5-1e4df0f50919",
   "metadata": {},
   "outputs": [],
   "source": []
  },
  {
   "cell_type": "code",
   "execution_count": null,
   "id": "11627a08-b0bf-47e0-8640-38f3a5fe90ac",
   "metadata": {},
   "outputs": [],
   "source": []
  }
 ],
 "metadata": {
  "kernelspec": {
   "display_name": "Python 3 (ipykernel)",
   "language": "python",
   "name": "python3"
  },
  "language_info": {
   "codemirror_mode": {
    "name": "ipython",
    "version": 3
   },
   "file_extension": ".py",
   "mimetype": "text/x-python",
   "name": "python",
   "nbconvert_exporter": "python",
   "pygments_lexer": "ipython3",
   "version": "3.10.6"
  }
 },
 "nbformat": 4,
 "nbformat_minor": 5
}
