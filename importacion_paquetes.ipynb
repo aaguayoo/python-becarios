{
 "cells": [
  {
   "cell_type": "markdown",
   "id": "704c4d7b-5066-41f2-a4a0-96a569158434",
   "metadata": {},
   "source": [
    "# Importaciones en Python"
   ]
  },
  {
   "cell_type": "markdown",
   "id": "0db56675-0168-404e-9901-630426b9dddb",
   "metadata": {},
   "source": [
    "En un punto del desarrolo de software, no muy lejano al inicio, nos veremos en la necesidad de crear cosas cada vez más elaboradas o realizar tareas específicas, por ejemplo, leer una variable de entorno, hacer configuraciones al sistema, declarar clases de forma simplificada, etc. Muchas de estas tareas ya han sido realizadas por alguien en el pasado, y han creado librerías completas donde podemos encontrar esas funciones. Existen varias formas de importar el contenido de una librería en Python"
   ]
  },
  {
   "cell_type": "markdown",
   "id": "31167770-1267-4864-97a8-e288e89023d7",
   "metadata": {},
   "source": [
    "**NOTA**: Es buena práctica que todas las importaciones necesarias en un archivo deben ser declaradas en la parte superior del código, antes de cualquier acción pero después de la documentación del código. En Jupyter se deben declarar en la primer celda."
   ]
  },
  {
   "cell_type": "markdown",
   "id": "b31eebed-1b6d-4ef9-9403-9b1cf048552e",
   "metadata": {},
   "source": [
    "## Importaciones generales\n",
    "\n",
    "Es posible importar una librería compelta a neustro ambiente de trabajo a través de la siguiente sentencia, usando la partícula `import`\n",
    "```python\n",
    "import nombre_del_paquete\n",
    "```\n",
    "en nuestro archivo exista el objeto llamado `nombre_del_paquete`"
   ]
  },
  {
   "cell_type": "markdown",
   "id": "c77f0b50-c054-4f0b-97c9-89abdad05e06",
   "metadata": {},
   "source": [
    "## Importaciones generales con alias\n",
    "\n",
    "En algunos casos es posible hacer que el objeto creado durante la importación adquiera un nomber diferente al módulo importado\n",
    "\n",
    "```python\n",
    "import nombre_del_paquete as alias\n",
    "```"
   ]
  },
  {
   "cell_type": "markdown",
   "id": "50adff5c-c63e-452c-9d3b-28da0b36a723",
   "metadata": {},
   "source": [
    "## Importaciones particulares\n",
    "\n",
    "Dado que en algunas ocasiones no requerimos más que algunos pocos métodos de las librerías, entonces no tiene caso improtar todo el contenido del objeto, para esto podemos hacer improtaciones de métodos y/o sub-módulos desde un paquete\n",
    "\n",
    "```python\n",
    "from nombre_del_paquete import metodo\n",
    "```\n",
    "\n",
    "Y también se puede usar alias\n",
    "\n",
    "\n",
    "```python\n",
    "from nombre_del_paquete import metodo as alias\n",
    "```"
   ]
  },
  {
   "cell_type": "markdown",
   "id": "8f220dec-439c-40df-9508-fb39a06a723c",
   "metadata": {},
   "source": [
    "## Buenas prácticas durante las importaciones\n",
    "\n",
    "Existen una serie de reglas de estilo al momento de hacer importaciones para mejorar la calidad de un código. De no seguir estas reglas de estilo no pasa nada, el código sigue funcionando, sin embargo son prácticas que ayudan a reducir la deuda técnica.\n",
    "\n",
    "Las importaciones seguirán las siguientes reglas de estilo:\n",
    "\n",
    "1. Las importaciones se dividen en tres grupos:\n",
    "    a. Módulos estándar: Módulos existentes en Python desde su instalación\n",
    "    b. Módulos de terceros: Módulos que es necesario instalar desde algún respositorio público o privado (como con pip)\n",
    "    c. Módulos locales: Módulos desarrollados dentro del mismo proyecto (carpeta).\n",
    "    \n",
    "2. El orden de importación del grupo será:\n",
    "```python\n",
    "# Importaciones estándar\n",
    "import ...\n",
    "\n",
    "# Importaciones de terceros\n",
    "import ...\n",
    "\n",
    "# Importaciones locales\n",
    "import ...\n",
    "```\n",
    "\n",
    "3. Dentro de cada grupo se seguirán las siguientes reglas:\n",
    "    a. Las importaciones generales irán antes que las importaciones específicas\n",
    "    ```python\n",
    "    # Importaciones estándar\n",
    "    import ...\n",
    "    from ...\n",
    "\n",
    "    # Importaciones de terceros\n",
    "    import ...\n",
    "    from ...\n",
    "\n",
    "    # Importaciones locales\n",
    "    import ...\n",
    "    from ...\n",
    "    ```\n",
    "    \n",
    "4. Las importaciones generales y particulares seguiran un orden alfabético\n",
    "```python\n",
    "# Importaciones estándar\n",
    "import a..\n",
    "import b\n",
    "from a.. import a..., b...\n",
    "from b.. import a..., b...\n",
    "\n",
    "# Importaciones de terceros\n",
    "import a..\n",
    "import b\n",
    "from a.. import a..., b...\n",
    "from b.. import a..., b...\n",
    "\n",
    "# Importaciones locales\n",
    "import a..\n",
    "import b\n",
    "from a.. import a..., b...\n",
    "from b.. import a..., b...\n",
    "```\n",
    "\n",
    "5. Sólo se deben realizar importaciones necesarias, en caso de que algún módulo importado ya no sea empleado, entonces deberá ser removido de las importaciones"
   ]
  },
  {
   "cell_type": "markdown",
   "id": "34e91529-7400-4ed6-8e18-4edf1f2b925e",
   "metadata": {},
   "source": [
    "# Paqueterías estándar\n",
    "\n",
    "Existen librerías que son instaladas de forma automática en nuestro sistema cuando instalamos Python, a estas librerías se les conoce como _librerías estándar_. "
   ]
  },
  {
   "cell_type": "markdown",
   "id": "b486327f-5851-4ab8-842c-4adf6e98fe2f",
   "metadata": {
    "tags": []
   },
   "source": [
    "### `os`\n",
    "\n",
    "Es un módulo que nos permite realizar operaciones con el sistema operativo, tanto como el manejo de rutas, variables de entorno, ficheros, etc."
   ]
  },
  {
   "cell_type": "code",
   "execution_count": 9,
   "id": "594422c9-483d-42d6-87d5-dc71393ce714",
   "metadata": {
    "tags": []
   },
   "outputs": [
    {
     "name": "stdout",
     "output_type": "stream",
     "text": [
      "Este es el home: /home/aaguayoo\n",
      "Este es un ejemplo de unión de rutas: /home/aaguayoo/DriveCiencias\n",
      "Verificamos si la ruta /home/aaguayoo/DriveCiencias es un directorio: True\n",
      "Obtener los elementos dentro de un directorio: ['AyudantiaSNI', 'Bash-Comands', 'Presentaciones', 'Doctorado', 'Octopy', 'real_time_plotting_audio.py', 'cython', '2022-08-10-Note-16-51.pdf']\n"
     ]
    }
   ],
   "source": [
    "# Ejemplos\n",
    "\n",
    "import os\n",
    "\n",
    "# Uso de variables de entorno\n",
    "home = os.environ['HOME']\n",
    "print(f\"Este es el home: {home}\")\n",
    "\n",
    "# Uso de manejo de rutas\n",
    "directorio = os.path.join(home, 'DriveCiencias')\n",
    "print(f\"Este es un ejemplo de unión de rutas: {directorio}\")\n",
    "\n",
    "# Verificar si un elemento es un archivo\n",
    "print(f\"Verificamos si la ruta {directorio} es un directorio: {os.path.isdir(directorio)}\")\n",
    "\n",
    "# Obtener elementos dentro de un direcorio\n",
    "print(f\"Obtener los elementos dentro de un directorio: {os.listdir(directorio)}\")"
   ]
  },
  {
   "cell_type": "markdown",
   "id": "fbafbbfe-9a78-4e48-97f3-1f6cc2497534",
   "metadata": {},
   "source": [
    "### `datetime`\n",
    "\n",
    "Es un módulo que propricona clases para manipular fechas y horas\n",
    "\n",
    "```python\n",
    "import datetime\n",
    "\n",
    "# Crear objetos tipo fecha\n",
    "# datetime.date(año:int, mes:int, día:int)\n",
    "fecha = datetime.date(2021, 12, 10)\n",
    "\n",
    "# Crear un delta de tiempo\n",
    "delta = datetime.timedelta(days=2)\n",
    "\n",
    "fecha - delta\n",
    "[5]: datetime.date(2021, 12, 08)\n",
    "```"
   ]
  },
  {
   "cell_type": "markdown",
   "id": "c64a8d25-71e1-4d3d-b08c-3d6d79e276c5",
   "metadata": {},
   "source": [
    "### Otros ejemplos\n",
    "\n",
    "```python\n",
    "import os\n",
    "import datetime\n",
    "import typing # Tipados\n",
    "import shutil # Permite correr comandos de bash/zsh\n",
    "import random # Permite generar números aleatorios\n",
    "import math # Matemáticas\n",
    "import re # Para expresiones regulares\n",
    "import glob # Para manipulación de archivos\n",
    "import pathlib # Para manipulación de rutas\n",
    "import pickle # Para guardar objetos en archivos\n",
    "import joblib # Idem que pickle\n",
    "import copy # Para copiar objetos\n",
    "import logging # Para hacer logs del código\n",
    "```\n",
    "Y muchos más https://docs.python.org/es/3/library/index.html"
   ]
  },
  {
   "cell_type": "markdown",
   "id": "14ed9f8e-e25c-41d5-8218-93ff56b44c0a",
   "metadata": {},
   "source": [
    "## Paqueterías de terceros\n",
    "\n",
    "La mayoría se encuentra en Pypi, que es un repositorio de proyectos de Python:\n",
    "\n",
    "```python\n",
    "import numpy as np # Paquetería dedicada a matemáticas\n",
    "import torch # Paquetería dedicada a matemáticas de alto nivel y deep learning, entre otras cosas\n",
    "import tensorflow as tf # Similar a torch\n",
    "import scipy # Paquetería con algoritmos utilizados en ciencia y estadística\n",
    "import sklearn # Paquetería dedicada a machine learning\n",
    "import librosa # Paquetería dedicada a manipulación de audio\n",
    "import pandas as pd # Paquetería dedicada a manejo de dataframes y tablas\n",
    "import torchaudio # Como librosa pero con objetos de torch\n",
    "import cv2 # OpenCV paquetería dedicada a visión computacional\n",
    "import fastapi # Paquetería dedicada a creación de APIs\n",
    "import pendulum # Paquetería dedicada a manejo de estructuras y objetos de tiempo (como datetime)\n",
    "import pydantic # Paquetería dedicada a mejor manejo de clases\n",
    "import matplotlib.pyplot as plt # Paquetería dedicada a visualización de datos\n",
    "import plotly.express as px # Paquetería dedicada a visualización de datos dinámicos\n",
    "import networkx # Paquetería dedicada a redes gráficas (grafos)\n",
    "···\n",
    "```\n",
    "\n",
    "Casi todos los encuentran Pypi https://pypi.org/"
   ]
  },
  {
   "cell_type": "code",
   "execution_count": 1,
   "id": "e64174e3-a614-48bd-87cd-08e2fe3b410e",
   "metadata": {
    "tags": []
   },
   "outputs": [],
   "source": [
    "import numpy as np"
   ]
  },
  {
   "cell_type": "code",
   "execution_count": 3,
   "id": "b784ad07-4c2c-4996-8edd-0b93cb310537",
   "metadata": {
    "collapsed": true,
    "jupyter": {
     "outputs_hidden": true
    },
    "tags": []
   },
   "outputs": [
    {
     "data": {
      "text/plain": [
       "\u001b[0;31mCall signature:\u001b[0m  \u001b[0mnp\u001b[0m\u001b[0;34m.\u001b[0m\u001b[0marccosh\u001b[0m\u001b[0;34m(\u001b[0m\u001b[0;34m*\u001b[0m\u001b[0margs\u001b[0m\u001b[0;34m,\u001b[0m \u001b[0;34m**\u001b[0m\u001b[0mkwargs\u001b[0m\u001b[0;34m)\u001b[0m\u001b[0;34m\u001b[0m\u001b[0;34m\u001b[0m\u001b[0m\n",
       "\u001b[0;31mType:\u001b[0m            ufunc\n",
       "\u001b[0;31mString form:\u001b[0m     <ufunc 'arccosh'>\n",
       "\u001b[0;31mFile:\u001b[0m            ~/.local/lib/python3.10/site-packages/numpy/__init__.py\n",
       "\u001b[0;31mDocstring:\u001b[0m      \n",
       "arccosh(x, /, out=None, *, where=True, casting='same_kind', order='K', dtype=None, subok=True[, signature, extobj])\n",
       "\n",
       "Inverse hyperbolic cosine, element-wise.\n",
       "\n",
       "Parameters\n",
       "----------\n",
       "x : array_like\n",
       "    Input array.\n",
       "out : ndarray, None, or tuple of ndarray and None, optional\n",
       "    A location into which the result is stored. If provided, it must have\n",
       "    a shape that the inputs broadcast to. If not provided or None,\n",
       "    a freshly-allocated array is returned. A tuple (possible only as a\n",
       "    keyword argument) must have length equal to the number of outputs.\n",
       "where : array_like, optional\n",
       "    This condition is broadcast over the input. At locations where the\n",
       "    condition is True, the `out` array will be set to the ufunc result.\n",
       "    Elsewhere, the `out` array will retain its original value.\n",
       "    Note that if an uninitialized `out` array is created via the default\n",
       "    ``out=None``, locations within it where the condition is False will\n",
       "    remain uninitialized.\n",
       "**kwargs\n",
       "    For other keyword-only arguments, see the\n",
       "    :ref:`ufunc docs <ufuncs.kwargs>`.\n",
       "\n",
       "Returns\n",
       "-------\n",
       "arccosh : ndarray\n",
       "    Array of the same shape as `x`.\n",
       "    This is a scalar if `x` is a scalar.\n",
       "\n",
       "See Also\n",
       "--------\n",
       "\n",
       "cosh, arcsinh, sinh, arctanh, tanh\n",
       "\n",
       "Notes\n",
       "-----\n",
       "`arccosh` is a multivalued function: for each `x` there are infinitely\n",
       "many numbers `z` such that `cosh(z) = x`. The convention is to return the\n",
       "`z` whose imaginary part lies in ``[-pi, pi]`` and the real part in\n",
       "``[0, inf]``.\n",
       "\n",
       "For real-valued input data types, `arccosh` always returns real output.\n",
       "For each value that cannot be expressed as a real number or infinity, it\n",
       "yields ``nan`` and sets the `invalid` floating point error flag.\n",
       "\n",
       "For complex-valued input, `arccosh` is a complex analytical function that\n",
       "has a branch cut `[-inf, 1]` and is continuous from above on it.\n",
       "\n",
       "References\n",
       "----------\n",
       ".. [1] M. Abramowitz and I.A. Stegun, \"Handbook of Mathematical Functions\",\n",
       "       10th printing, 1964, pp. 86.\n",
       "       https://personal.math.ubc.ca/~cbm/aands/page_86.htm\n",
       ".. [2] Wikipedia, \"Inverse hyperbolic function\",\n",
       "       https://en.wikipedia.org/wiki/Arccosh\n",
       "\n",
       "Examples\n",
       "--------\n",
       ">>> np.arccosh([np.e, 10.0])\n",
       "array([ 1.65745445,  2.99322285])\n",
       ">>> np.arccosh(1)\n",
       "0.0\n",
       "\u001b[0;31mClass docstring:\u001b[0m\n",
       "Functions that operate element by element on whole arrays.\n",
       "\n",
       "To see the documentation for a specific ufunc, use `info`.  For\n",
       "example, ``np.info(np.sin)``.  Because ufuncs are written in C\n",
       "(for speed) and linked into Python with NumPy's ufunc facility,\n",
       "Python's help() function finds this page whenever help() is called\n",
       "on a ufunc.\n",
       "\n",
       "A detailed explanation of ufuncs can be found in the docs for :ref:`ufuncs`.\n",
       "\n",
       "**Calling ufuncs:** ``op(*x[, out], where=True, **kwargs)``\n",
       "\n",
       "Apply `op` to the arguments `*x` elementwise, broadcasting the arguments.\n",
       "\n",
       "The broadcasting rules are:\n",
       "\n",
       "* Dimensions of length 1 may be prepended to either array.\n",
       "* Arrays may be repeated along dimensions of length 1.\n",
       "\n",
       "Parameters\n",
       "----------\n",
       "*x : array_like\n",
       "    Input arrays.\n",
       "out : ndarray, None, or tuple of ndarray and None, optional\n",
       "    Alternate array object(s) in which to put the result; if provided, it\n",
       "    must have a shape that the inputs broadcast to. A tuple of arrays\n",
       "    (possible only as a keyword argument) must have length equal to the\n",
       "    number of outputs; use None for uninitialized outputs to be\n",
       "    allocated by the ufunc.\n",
       "where : array_like, optional\n",
       "    This condition is broadcast over the input. At locations where the\n",
       "    condition is True, the `out` array will be set to the ufunc result.\n",
       "    Elsewhere, the `out` array will retain its original value.\n",
       "    Note that if an uninitialized `out` array is created via the default\n",
       "    ``out=None``, locations within it where the condition is False will\n",
       "    remain uninitialized.\n",
       "**kwargs\n",
       "    For other keyword-only arguments, see the :ref:`ufunc docs <ufuncs.kwargs>`.\n",
       "\n",
       "Returns\n",
       "-------\n",
       "r : ndarray or tuple of ndarray\n",
       "    `r` will have the shape that the arrays in `x` broadcast to; if `out` is\n",
       "    provided, it will be returned. If not, `r` will be allocated and\n",
       "    may contain uninitialized values. If the function has more than one\n",
       "    output, then the result will be a tuple of arrays.\n"
      ]
     },
     "metadata": {},
     "output_type": "display_data"
    }
   ],
   "source": [
    "np.arccosh??"
   ]
  },
  {
   "cell_type": "markdown",
   "id": "662f23a6-5635-489e-b038-dcaafa61064e",
   "metadata": {},
   "source": [
    "### Paquetes locales"
   ]
  },
  {
   "cell_type": "code",
   "execution_count": 14,
   "id": "2146a124-c4d1-49e9-98cc-5c7cea1b8562",
   "metadata": {
    "tags": []
   },
   "outputs": [
    {
     "name": "stdout",
     "output_type": "stream",
     "text": [
      "The autoreload extension is already loaded. To reload it, use:\n",
      "  %reload_ext autoreload\n"
     ]
    }
   ],
   "source": [
    "%load_ext autoreload\n",
    "%autoreload 2\n",
    "\n",
    "import local as lc"
   ]
  },
  {
   "cell_type": "code",
   "execution_count": 15,
   "id": "30962286-36a9-4b71-9dd9-2cc103eb0dc7",
   "metadata": {
    "tags": []
   },
   "outputs": [
    {
     "data": {
      "text/plain": [
       "<function local.regresar_home()>"
      ]
     },
     "execution_count": 15,
     "metadata": {},
     "output_type": "execute_result"
    }
   ],
   "source": [
    "lc.regresar_home # Lo que es una función dentro del archivo local.py, se convierte en un método del objeto lc"
   ]
  },
  {
   "cell_type": "code",
   "execution_count": 16,
   "id": "c4ab096c-3bc1-4ec9-a65a-91c2e3e26403",
   "metadata": {
    "tags": []
   },
   "outputs": [
    {
     "data": {
      "text/plain": [
       "\u001b[0;31mSignature:\u001b[0m \u001b[0mlc\u001b[0m\u001b[0;34m.\u001b[0m\u001b[0mregresar_home\u001b[0m\u001b[0;34m(\u001b[0m\u001b[0;34m)\u001b[0m\u001b[0;34m\u001b[0m\u001b[0;34m\u001b[0m\u001b[0m\n",
       "\u001b[0;31mSource:\u001b[0m   \n",
       "\u001b[0;32mdef\u001b[0m \u001b[0mregresar_home\u001b[0m\u001b[0;34m(\u001b[0m\u001b[0;34m)\u001b[0m\u001b[0;34m:\u001b[0m\u001b[0;34m\u001b[0m\n",
       "\u001b[0;34m\u001b[0m    \u001b[0;34m\"\"\"Regresa el path de HOME\"\"\"\u001b[0m\u001b[0;34m\u001b[0m\n",
       "\u001b[0;34m\u001b[0m    \u001b[0;32mreturn\u001b[0m \u001b[0mos\u001b[0m\u001b[0;34m.\u001b[0m\u001b[0menviron\u001b[0m\u001b[0;34m[\u001b[0m\u001b[0;34m\"HOME\"\u001b[0m\u001b[0;34m]\u001b[0m\u001b[0;34m\u001b[0m\u001b[0;34m\u001b[0m\u001b[0m\n",
       "\u001b[0;31mFile:\u001b[0m      ~/DriveCiencias/Octopy/AperVox/Research/analysis-research/Python-Becarios/local.py\n",
       "\u001b[0;31mType:\u001b[0m      function\n"
      ]
     },
     "metadata": {},
     "output_type": "display_data"
    }
   ],
   "source": [
    "lc.regresar_home??"
   ]
  },
  {
   "cell_type": "code",
   "execution_count": 17,
   "id": "652d4736-dcad-478e-a509-95dcc9e1a471",
   "metadata": {
    "tags": []
   },
   "outputs": [
    {
     "data": {
      "text/plain": [
       "'/home/aaguayoo'"
      ]
     },
     "execution_count": 17,
     "metadata": {},
     "output_type": "execute_result"
    }
   ],
   "source": [
    "lc.regresar_home()"
   ]
  },
  {
   "cell_type": "code",
   "execution_count": 18,
   "id": "2328bca8-d058-4243-b0f3-0e8286faf6f5",
   "metadata": {
    "tags": []
   },
   "outputs": [
    {
     "data": {
      "text/plain": [
       "\u001b[0;31mSignature:\u001b[0m \u001b[0mlc\u001b[0m\u001b[0;34m.\u001b[0m\u001b[0mregresar_array_aleatorio\u001b[0m\u001b[0;34m(\u001b[0m\u001b[0msize\u001b[0m\u001b[0;34m:\u001b[0m \u001b[0mint\u001b[0m \u001b[0;34m=\u001b[0m \u001b[0;36m10\u001b[0m\u001b[0;34m)\u001b[0m\u001b[0;34m\u001b[0m\u001b[0;34m\u001b[0m\u001b[0m\n",
       "\u001b[0;31mSource:\u001b[0m   \n",
       "\u001b[0;32mdef\u001b[0m \u001b[0mregresar_array_aleatorio\u001b[0m\u001b[0;34m(\u001b[0m\u001b[0msize\u001b[0m\u001b[0;34m:\u001b[0m\u001b[0mint\u001b[0m \u001b[0;34m=\u001b[0m \u001b[0;36m10\u001b[0m\u001b[0;34m)\u001b[0m\u001b[0;34m:\u001b[0m\u001b[0;34m\u001b[0m\n",
       "\u001b[0;34m\u001b[0m    \u001b[0;34m\"\"\"Regresa un array aleatorio\"\"\"\u001b[0m\u001b[0;34m\u001b[0m\n",
       "\u001b[0;34m\u001b[0m    \u001b[0mprint\u001b[0m\u001b[0;34m(\u001b[0m\u001b[0msize\u001b[0m\u001b[0;34m)\u001b[0m\u001b[0;34m\u001b[0m\n",
       "\u001b[0;34m\u001b[0m    \u001b[0;32mreturn\u001b[0m \u001b[0mnp\u001b[0m\u001b[0;34m.\u001b[0m\u001b[0mrandom\u001b[0m\u001b[0;34m.\u001b[0m\u001b[0mrand\u001b[0m\u001b[0;34m(\u001b[0m\u001b[0msize\u001b[0m\u001b[0;34m)\u001b[0m\u001b[0;34m\u001b[0m\u001b[0;34m\u001b[0m\u001b[0m\n",
       "\u001b[0;31mFile:\u001b[0m      ~/DriveCiencias/Octopy/AperVox/Research/analysis-research/Python-Becarios/local.py\n",
       "\u001b[0;31mType:\u001b[0m      function\n"
      ]
     },
     "metadata": {},
     "output_type": "display_data"
    }
   ],
   "source": [
    "lc.regresar_array_aleatorio??"
   ]
  },
  {
   "cell_type": "code",
   "execution_count": 19,
   "id": "7b58ee5f-b55a-4103-bec4-fad4b31305d7",
   "metadata": {
    "tags": []
   },
   "outputs": [
    {
     "name": "stdout",
     "output_type": "stream",
     "text": [
      "10\n"
     ]
    },
    {
     "data": {
      "text/plain": [
       "array([1.55727554e-04, 4.20337347e-01, 5.00817874e-02, 2.76022523e-01,\n",
       "       4.04159452e-01, 3.76408778e-01, 5.56761161e-01, 8.21884126e-01,\n",
       "       5.22799563e-01, 4.52176801e-01])"
      ]
     },
     "execution_count": 19,
     "metadata": {},
     "output_type": "execute_result"
    }
   ],
   "source": [
    "lc.regresar_array_aleatorio()"
   ]
  },
  {
   "cell_type": "code",
   "execution_count": null,
   "id": "8bc32cc8-a539-458a-ae4f-de4d964fef73",
   "metadata": {},
   "outputs": [],
   "source": []
  }
 ],
 "metadata": {
  "kernelspec": {
   "display_name": "Python 3 (ipykernel)",
   "language": "python",
   "name": "python3"
  },
  "language_info": {
   "codemirror_mode": {
    "name": "ipython",
    "version": 3
   },
   "file_extension": ".py",
   "mimetype": "text/x-python",
   "name": "python",
   "nbconvert_exporter": "python",
   "pygments_lexer": "ipython3",
   "version": "3.10.6"
  }
 },
 "nbformat": 4,
 "nbformat_minor": 5
}
