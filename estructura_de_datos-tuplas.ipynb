{
 "cells": [
  {
   "cell_type": "markdown",
   "id": "90b63ddb-1ba2-40fe-aa25-b907f6576c87",
   "metadata": {},
   "source": [
    "## Tuplas"
   ]
  },
  {
   "cell_type": "markdown",
   "id": "3279015a-4bc8-4c41-a911-d03a6299bcaa",
   "metadata": {},
   "source": [
    "Las tuplas son parte de los objetos capaces de almacenar colecciones de objetos, al igual que las cadenas de texto, listas o diccionarios. Tienen la característica de ser inmutables, es decir, no los puedes modificar."
   ]
  },
  {
   "cell_type": "markdown",
   "id": "30b7ad94-9b39-477a-830b-df4279aefc97",
   "metadata": {},
   "source": [
    "Para la declaración de tuplas, se utilizan los paréntesis `()` y se hace de la siguiente forma:"
   ]
  },
  {
   "cell_type": "code",
   "execution_count": 3,
   "id": "05a9f610-e258-4010-95ac-b6e5e8f2be83",
   "metadata": {
    "tags": []
   },
   "outputs": [],
   "source": [
    "tupla = (1, 2, 3)"
   ]
  },
  {
   "cell_type": "code",
   "execution_count": 9,
   "id": "8639075e-abfe-4592-b5fa-c0b876614b5f",
   "metadata": {
    "tags": []
   },
   "outputs": [],
   "source": [
    "tupla_un_elemento = (1,) # En la lista [1]"
   ]
  },
  {
   "cell_type": "code",
   "execution_count": 14,
   "id": "e1ba6ae1-e51e-4b69-918d-bb7a0197d3f0",
   "metadata": {
    "tags": []
   },
   "outputs": [
    {
     "data": {
      "text/plain": [
       "tuple"
      ]
     },
     "execution_count": 14,
     "metadata": {},
     "output_type": "execute_result"
    }
   ],
   "source": [
    "# Tipo de objeto\n",
    "type(tupla_un_elemento)"
   ]
  },
  {
   "cell_type": "code",
   "execution_count": 16,
   "id": "3f0b7b2e-5585-4314-97c2-afd731cecbfe",
   "metadata": {
    "tags": []
   },
   "outputs": [
    {
     "name": "stdout",
     "output_type": "stream",
     "text": [
      "(1, 2, 3, 4, 5, 6, 7, 8, 9)\n"
     ]
    }
   ],
   "source": [
    "tupla = (\n",
    "    1,\n",
    "    2,\n",
    "    3,\n",
    "    4,\n",
    "    5,6,7,8,\n",
    "    9\n",
    ")\n",
    "print(tupla)"
   ]
  },
  {
   "cell_type": "markdown",
   "id": "01e8c025-08a8-4ae2-a1d9-af21b7400b9f",
   "metadata": {
    "tags": []
   },
   "source": [
    "### Acceso a elementos\n",
    "\n",
    "El acceso a elementos es exactamente igual que en listas y en cadenas de texto"
   ]
  },
  {
   "cell_type": "code",
   "execution_count": 17,
   "id": "b5cca903-8be2-4d78-b054-093ecdd0bd15",
   "metadata": {
    "tags": []
   },
   "outputs": [
    {
     "data": {
      "text/plain": [
       "6"
      ]
     },
     "execution_count": 17,
     "metadata": {},
     "output_type": "execute_result"
    }
   ],
   "source": [
    "tupla[5]"
   ]
  },
  {
   "cell_type": "markdown",
   "id": "a2188982-80a8-4294-bdb3-eb0b86e9135f",
   "metadata": {},
   "source": [
    "### Inmutabilidad"
   ]
  },
  {
   "cell_type": "code",
   "execution_count": 18,
   "id": "fe0566e7-5f36-47f7-b02b-a4aab395f6ec",
   "metadata": {
    "tags": []
   },
   "outputs": [
    {
     "ename": "TypeError",
     "evalue": "'tuple' object does not support item assignment",
     "output_type": "error",
     "traceback": [
      "\u001b[0;31m---------------------------------------------------------------------------\u001b[0m",
      "\u001b[0;31mTypeError\u001b[0m                                 Traceback (most recent call last)",
      "Cell \u001b[0;32mIn [18], line 1\u001b[0m\n\u001b[0;32m----> 1\u001b[0m \u001b[43mtupla\u001b[49m\u001b[43m[\u001b[49m\u001b[38;5;241;43m5\u001b[39;49m\u001b[43m]\u001b[49m \u001b[38;5;241m=\u001b[39m \u001b[38;5;241m15\u001b[39m\n",
      "\u001b[0;31mTypeError\u001b[0m: 'tuple' object does not support item assignment"
     ]
    }
   ],
   "source": [
    "tupla[5] = 15"
   ]
  },
  {
   "cell_type": "markdown",
   "id": "f9fb3a86-c4d2-45ed-a5ee-88168cda7b93",
   "metadata": {
    "tags": []
   },
   "source": [
    "### Métodos de tuplas"
   ]
  },
  {
   "cell_type": "code",
   "execution_count": 21,
   "id": "23887389-7da0-4189-8893-0c5aba0add9f",
   "metadata": {
    "tags": []
   },
   "outputs": [],
   "source": [
    "lista = [1,2,3]"
   ]
  },
  {
   "cell_type": "code",
   "execution_count": 27,
   "id": "0200f99b-f81e-4a67-9f1f-1fd421d2fdb1",
   "metadata": {
    "tags": []
   },
   "outputs": [
    {
     "data": {
      "text/plain": [
       "1"
      ]
     },
     "execution_count": 27,
     "metadata": {},
     "output_type": "execute_result"
    }
   ],
   "source": [
    "tupla.count(1) # Regresa número de ocurrencias de un valor"
   ]
  },
  {
   "cell_type": "code",
   "execution_count": 28,
   "id": "97a33242-3f57-40a7-84a8-3221ccd6d86b",
   "metadata": {
    "tags": []
   },
   "outputs": [
    {
     "data": {
      "text/plain": [
       "7"
      ]
     },
     "execution_count": 28,
     "metadata": {},
     "output_type": "execute_result"
    }
   ],
   "source": [
    "tupla.index(8) # Regresa el primer índice encontrado de un valor"
   ]
  },
  {
   "cell_type": "code",
   "execution_count": null,
   "id": "edc75b4e-1eb8-4c02-bf2b-e46e515c8932",
   "metadata": {},
   "outputs": [],
   "source": []
  }
 ],
 "metadata": {
  "kernelspec": {
   "display_name": "Python 3 (ipykernel)",
   "language": "python",
   "name": "python3"
  },
  "language_info": {
   "codemirror_mode": {
    "name": "ipython",
    "version": 3
   },
   "file_extension": ".py",
   "mimetype": "text/x-python",
   "name": "python",
   "nbconvert_exporter": "python",
   "pygments_lexer": "ipython3",
   "version": "3.10.6"
  }
 },
 "nbformat": 4,
 "nbformat_minor": 5
}
