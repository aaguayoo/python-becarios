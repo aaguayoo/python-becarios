{
 "cells": [
  {
   "cell_type": "markdown",
   "id": "74865ac4-12b8-43c8-8fdf-fdd237bf9b93",
   "metadata": {},
   "source": [
    "## Diccionarios"
   ]
  },
  {
   "cell_type": "markdown",
   "id": "98f0feaf-5e4a-402f-9ef8-62e42c6e6448",
   "metadata": {},
   "source": [
    "Los diccionarios son un tipo de objeto que permite almacenar información siguiendo el diseño _llave: valor_, es decir, que no es un obbjeto con un orden posicional, sino que su orden radica en las llaves contenidas dentro del diccionario"
   ]
  },
  {
   "cell_type": "markdown",
   "id": "a5706e74-c4ed-4077-b8ad-6290136a987b",
   "metadata": {},
   "source": [
    "La declaración de un diccionario se realiza con los corchetes `{'llave': valor}`. La llave, que es lo que va primero, siempre es una cadena de texto, y el valor puede ser lo que sea:"
   ]
  },
  {
   "cell_type": "code",
   "execution_count": 15,
   "id": "f540dd5e-3ddc-41ca-8301-d24db4291b1a",
   "metadata": {
    "tags": []
   },
   "outputs": [],
   "source": [
    "capitales = {\n",
    "    \"México\": \"Distrito Federal\",\n",
    "    \"Egipto\": \"El Cairo\",\n",
    "    \"Burkina Faso\": \"Uagadugu\",\n",
    "    \"Uruguay\": \"Montevideo\",\n",
    "}\n",
    "\n",
    "dias_por_mes = {\n",
    "    \"Enero\": 31,\n",
    "    \"Febrero\": 28,\n",
    "    \"Marzo\": 31,\n",
    "    \"Abril\": 30,\n",
    "}"
   ]
  },
  {
   "cell_type": "code",
   "execution_count": 7,
   "id": "1ce6f6fd-983b-4dd8-ae9e-b937b2b44256",
   "metadata": {
    "tags": []
   },
   "outputs": [
    {
     "data": {
      "text/plain": [
       "dict"
      ]
     },
     "execution_count": 7,
     "metadata": {},
     "output_type": "execute_result"
    }
   ],
   "source": [
    "# Tipo de objeto\n",
    "type(capitales)"
   ]
  },
  {
   "cell_type": "code",
   "execution_count": 8,
   "id": "aaff53c2-5193-4fc4-b3e5-a059827f8e2e",
   "metadata": {
    "tags": []
   },
   "outputs": [
    {
     "name": "stdout",
     "output_type": "stream",
     "text": [
      "{'México': 'Distrito Federal', 'Egipto': 'El Cairo', 'Burkina Faso': 'Uagadugu', 'Uruguay': 'Montevideo'}\n"
     ]
    }
   ],
   "source": [
    "print(capitales)"
   ]
  },
  {
   "cell_type": "markdown",
   "id": "2b21989f-f9b6-4fb2-8d88-6366bfad682b",
   "metadata": {},
   "source": [
    "### Concepto de diccionario\n",
    "\n",
    "Generalmente los diccionarios contienen elementos que pueden ser agrupados en un único grupo semántico. Por otro lado, también son usados como objetos de almacenamiento de atributos de otro objeto."
   ]
  },
  {
   "cell_type": "markdown",
   "id": "28e15f1c-9870-4057-b32e-d168df4eb66b",
   "metadata": {},
   "source": [
    "### Mutabilidad"
   ]
  },
  {
   "cell_type": "code",
   "execution_count": 9,
   "id": "e0a5778d-d862-4190-aa61-c0ce2cce819e",
   "metadata": {
    "tags": []
   },
   "outputs": [
    {
     "name": "stdout",
     "output_type": "stream",
     "text": [
      "{'México': 'Ciudad de México', 'Egipto': 'El Cairo', 'Burkina Faso': 'Uagadugu', 'Uruguay': 'Montevideo'}\n"
     ]
    }
   ],
   "source": [
    "capitales[\"México\"] = \"Ciudad de México\"\n",
    "print(capitales)"
   ]
  },
  {
   "cell_type": "markdown",
   "id": "8f7b18b1-6dc0-490a-a533-5e6be335c992",
   "metadata": {},
   "source": [
    "### Acceso a elementos"
   ]
  },
  {
   "cell_type": "code",
   "execution_count": 10,
   "id": "c612b14b-8f67-4d18-98cc-860bd2b31de5",
   "metadata": {
    "tags": []
   },
   "outputs": [
    {
     "data": {
      "text/plain": [
       "'El Cairo'"
      ]
     },
     "execution_count": 10,
     "metadata": {},
     "output_type": "execute_result"
    }
   ],
   "source": [
    "# Poner el nombre de la llave que queremos\n",
    "capitales[\"Egipto\"]"
   ]
  },
  {
   "cell_type": "code",
   "execution_count": 11,
   "id": "d941c778-2476-43d8-b4db-aed3e4cdbc5e",
   "metadata": {
    "tags": []
   },
   "outputs": [
    {
     "ename": "KeyError",
     "evalue": "'Argentina'",
     "output_type": "error",
     "traceback": [
      "\u001b[0;31m---------------------------------------------------------------------------\u001b[0m",
      "\u001b[0;31mKeyError\u001b[0m                                  Traceback (most recent call last)",
      "Cell \u001b[0;32mIn [11], line 2\u001b[0m\n\u001b[1;32m      1\u001b[0m \u001b[38;5;66;03m# Si ponemos una llave que no existe\u001b[39;00m\n\u001b[0;32m----> 2\u001b[0m \u001b[43mcapitales\u001b[49m\u001b[43m[\u001b[49m\u001b[38;5;124;43m\"\u001b[39;49m\u001b[38;5;124;43mArgentina\u001b[39;49m\u001b[38;5;124;43m\"\u001b[39;49m\u001b[43m]\u001b[49m\n",
      "\u001b[0;31mKeyError\u001b[0m: 'Argentina'"
     ]
    }
   ],
   "source": [
    "# Si ponemos una llave que no existe\n",
    "capitales[\"Argentina\"]"
   ]
  },
  {
   "cell_type": "markdown",
   "id": "1e65a8d5-40e0-43d8-9af3-7fb8e977c53b",
   "metadata": {},
   "source": [
    "- Tipo de error: `KeyError`\n",
    "    - Sucede siempre que se quiera acceder a una llave inexistente dentro de un diccionario"
   ]
  },
  {
   "cell_type": "code",
   "execution_count": 14,
   "id": "732c45ae-8886-4199-91af-6a41ea76e451",
   "metadata": {
    "tags": []
   },
   "outputs": [
    {
     "name": "stdout",
     "output_type": "stream",
     "text": [
      "{'usuario': 'Alejandro', 'edad': 31, 'sexo': 'M'}\n"
     ]
    }
   ],
   "source": [
    "# Otra forma de declarar\n",
    "nueva_forma = dict(\n",
    "    usuario = \"Alejandro\",\n",
    "    edad = 31,\n",
    "    sexo = \"M\",\n",
    ")\n",
    "print(nueva_forma)"
   ]
  },
  {
   "cell_type": "markdown",
   "id": "68d48eef-9b2a-47a4-9218-6189e559f554",
   "metadata": {},
   "source": [
    "### Métodos de diccionarios"
   ]
  },
  {
   "cell_type": "code",
   "execution_count": 18,
   "id": "74b17eed-9050-4d67-8a7b-cbf5ace8c1a3",
   "metadata": {
    "tags": []
   },
   "outputs": [
    {
     "data": {
      "text/plain": [
       "dict_keys(['México', 'Egipto', 'Burkina Faso', 'Uruguay'])"
      ]
     },
     "execution_count": 18,
     "metadata": {},
     "output_type": "execute_result"
    }
   ],
   "source": [
    "## Regresa todas las llaves dentro del diccionario\n",
    "capitales.keys()"
   ]
  },
  {
   "cell_type": "code",
   "execution_count": 20,
   "id": "79541248-d881-4f35-8721-25b399906274",
   "metadata": {
    "tags": []
   },
   "outputs": [
    {
     "data": {
      "text/plain": [
       "['México', 'Egipto', 'Burkina Faso', 'Uruguay']"
      ]
     },
     "execution_count": 20,
     "metadata": {},
     "output_type": "execute_result"
    }
   ],
   "source": [
    "list(capitales.keys()) # Convertir a lista"
   ]
  },
  {
   "cell_type": "code",
   "execution_count": 21,
   "id": "05bc8c9a-eb0b-44fc-9384-fd97aa57f5fd",
   "metadata": {
    "tags": []
   },
   "outputs": [
    {
     "data": {
      "text/plain": [
       "dict_values(['Distrito Federal', 'El Cairo', 'Uagadugu', 'Montevideo'])"
      ]
     },
     "execution_count": 21,
     "metadata": {},
     "output_type": "execute_result"
    }
   ],
   "source": [
    "# Obtener todos los valores del diccionario\n",
    "capitales.values()"
   ]
  },
  {
   "cell_type": "code",
   "execution_count": 25,
   "id": "04962948-09c1-47ef-8175-769241106c00",
   "metadata": {
    "tags": []
   },
   "outputs": [
    {
     "data": {
      "text/plain": [
       "['Distrito Federal', 'El Cairo', 'Uagadugu', 'Montevideo']"
      ]
     },
     "execution_count": 25,
     "metadata": {},
     "output_type": "execute_result"
    }
   ],
   "source": [
    "list(capitales.values()) # Convertido a lista"
   ]
  },
  {
   "cell_type": "code",
   "execution_count": 27,
   "id": "2178713b-542d-4b45-a7d8-2bbd89402d74",
   "metadata": {
    "tags": []
   },
   "outputs": [
    {
     "data": {
      "text/plain": [
       "dict_items([('México', 'Distrito Federal'), ('Egipto', 'El Cairo'), ('Burkina Faso', 'Uagadugu'), ('Uruguay', 'Montevideo')])"
      ]
     },
     "execution_count": 27,
     "metadata": {},
     "output_type": "execute_result"
    }
   ],
   "source": [
    "# Obtener todas las parejas asociadas (llave, valor)\n",
    "capitales.items()"
   ]
  },
  {
   "cell_type": "code",
   "execution_count": 29,
   "id": "4d32ba2c-56e7-49de-8e2f-9ef3d003fb2f",
   "metadata": {
    "tags": []
   },
   "outputs": [
    {
     "data": {
      "text/plain": [
       "[('México', 'Distrito Federal'),\n",
       " ('Egipto', 'El Cairo'),\n",
       " ('Burkina Faso', 'Uagadugu'),\n",
       " ('Uruguay', 'Montevideo')]"
      ]
     },
     "execution_count": 29,
     "metadata": {},
     "output_type": "execute_result"
    }
   ],
   "source": [
    "list(capitales.items()) # Convertido a lista, lista de tuplas"
   ]
  },
  {
   "cell_type": "markdown",
   "id": "7d7258b0-ee69-46cf-983d-f2431d9a14c5",
   "metadata": {},
   "source": [
    "### Extras de diccionarios"
   ]
  },
  {
   "cell_type": "markdown",
   "id": "ac3462e9-f590-4740-bbb2-4de48a1fcd4c",
   "metadata": {},
   "source": [
    "1. Es posible acceder a un elemento de un diccionario a través del método `get`, el cual nos permite declarar un valor por defecto en caso de no encontrarlo"
   ]
  },
  {
   "cell_type": "code",
   "execution_count": 35,
   "id": "4c2ba761-6b19-4fe7-8df8-678f1f55c284",
   "metadata": {
    "tags": []
   },
   "outputs": [
    {
     "data": {
      "text/plain": [
       "'Buenos Aires'"
      ]
     },
     "execution_count": 35,
     "metadata": {},
     "output_type": "execute_result"
    }
   ],
   "source": [
    "capitales.get(\"Argentina\", \"Buenos Aires\") # \"Argentina\" es la llave de la cual busca obtener su valor, y si no la encuentra, regresa el valor por defecto que es \"Buenos Aires\""
   ]
  },
  {
   "cell_type": "markdown",
   "id": "3e433ae7-b17e-48ff-a4c5-51005dba20ff",
   "metadata": {},
   "source": [
    "2. Es posible configurar el diccionario con valores por defecto para regresar dichos valores en caso de no estar contenidos en el diccionario."
   ]
  },
  {
   "cell_type": "code",
   "execution_count": 36,
   "id": "96be0b34-f054-4921-b108-c719ff2b82df",
   "metadata": {
    "tags": []
   },
   "outputs": [],
   "source": [
    "artista = {\n",
    "\t\"nombre\": \"Ella\",\n",
    "\t\"apellido\": \"Fitzgerald\",\n",
    "\t\"edad\": 104,\n",
    "}"
   ]
  },
  {
   "cell_type": "code",
   "execution_count": 39,
   "id": "1355882c-3055-4c76-9429-c7a5a6617bc7",
   "metadata": {
    "tags": []
   },
   "outputs": [
    {
     "data": {
      "text/plain": [
       "'Sin registro'"
      ]
     },
     "execution_count": 39,
     "metadata": {},
     "output_type": "execute_result"
    }
   ],
   "source": [
    "artista.setdefault(\"ciudad\", \"Sin registro\")"
   ]
  },
  {
   "cell_type": "code",
   "execution_count": 38,
   "id": "fefd4251-4efb-4556-b745-98d32efb65a4",
   "metadata": {
    "tags": []
   },
   "outputs": [
    {
     "name": "stdout",
     "output_type": "stream",
     "text": [
      "{'nombre': 'Ella', 'apellido': 'Fitzgerald', 'edad': 104, 'ciudad': 'Sin registro'}\n"
     ]
    }
   ],
   "source": [
    "print(artista)"
   ]
  },
  {
   "cell_type": "code",
   "execution_count": null,
   "id": "cea74808-455a-4db0-a044-170bd44bd044",
   "metadata": {},
   "outputs": [],
   "source": []
  }
 ],
 "metadata": {
  "kernelspec": {
   "display_name": "Python 3 (ipykernel)",
   "language": "python",
   "name": "python3"
  },
  "language_info": {
   "codemirror_mode": {
    "name": "ipython",
    "version": 3
   },
   "file_extension": ".py",
   "mimetype": "text/x-python",
   "name": "python",
   "nbconvert_exporter": "python",
   "pygments_lexer": "ipython3",
   "version": "3.10.6"
  }
 },
 "nbformat": 4,
 "nbformat_minor": 5
}
