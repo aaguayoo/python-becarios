{
 "cells": [
  {
   "cell_type": "markdown",
   "id": "ae29bfc7-0722-4046-a644-05b346488883",
   "metadata": {},
   "source": [
    "# Tipos de argumentos para funciones: posicionales y predefinidos\n",
    "\n",
    "El declarar funciones adquiere una condición más dinámica cuando consideramos el caso donde nuestra función depende de uno o varios valores de entrada que pueden ser procesados para obtener un resultado final.\n",
    "\n",
    "Supongamos una función, la cuál recibe como entrada un número y regresa su valor elevado al cuadrado, necesitaríamos indicar a nuestra función que requiere un parámetro de entrada el cuál puede ser declarado de la siguiente manera:"
   ]
  },
  {
   "cell_type": "code",
   "execution_count": 6,
   "id": "4e8121ca-a7a9-4140-be25-cbccbc25b4a9",
   "metadata": {
    "tags": []
   },
   "outputs": [],
   "source": [
    "def elevar_al_cuadrado(numero): #numero es un argumento\n",
    "\treturn numero**2"
   ]
  },
  {
   "cell_type": "markdown",
   "id": "11633649-ca8e-4423-adc2-3d2fb277fd29",
   "metadata": {},
   "source": [
    "En esta declaración, la variable número se le conoce como _variable local_ (también como _variable muda_) ya que sólo funciona dentro de la función"
   ]
  },
  {
   "cell_type": "code",
   "execution_count": 4,
   "id": "6e994d07-1bfb-487c-be31-779280172a24",
   "metadata": {
    "tags": []
   },
   "outputs": [
    {
     "ename": "NameError",
     "evalue": "name 'numero' is not defined",
     "output_type": "error",
     "traceback": [
      "\u001b[0;31m---------------------------------------------------------------------------\u001b[0m",
      "\u001b[0;31mNameError\u001b[0m                                 Traceback (most recent call last)",
      "Cell \u001b[0;32mIn [4], line 1\u001b[0m\n\u001b[0;32m----> 1\u001b[0m \u001b[43mnumero\u001b[49m\n",
      "\u001b[0;31mNameError\u001b[0m: name 'numero' is not defined"
     ]
    }
   ],
   "source": [
    "numero # No se puede acceder a ella fuera de la función"
   ]
  },
  {
   "cell_type": "code",
   "execution_count": 7,
   "id": "15a3ccdd-325f-4724-ab25-428678ff3930",
   "metadata": {
    "tags": []
   },
   "outputs": [
    {
     "data": {
      "text/plain": [
       "100"
      ]
     },
     "execution_count": 7,
     "metadata": {},
     "output_type": "execute_result"
    }
   ],
   "source": [
    "# Para usar los argumentos, se deben definir en la misma posición al momento de invocar a la función\n",
    "elevar_al_cuadrado(10) # Aqui definimos la variable local numero = 10"
   ]
  },
  {
   "cell_type": "markdown",
   "id": "e8126c9a-84dd-423a-b48b-52e0541f9f67",
   "metadata": {},
   "source": [
    "## Tipos de argumentos\n",
    "\n",
    "### Argumentos posicionales\n",
    "\n",
    "Los argumentos posicionales son aquellos que durante la invocación de la función los valores son asignados a las variables locales según el orden en que son suministrados."
   ]
  },
  {
   "cell_type": "code",
   "execution_count": 11,
   "id": "63fc6878-5ea4-41ef-bbe6-0cb3a66907d7",
   "metadata": {
    "tags": []
   },
   "outputs": [],
   "source": [
    "# El argumento `numero_1` tiene el índice 0 en la tupla de argumentos\n",
    "# El argumento `numero_2` tiene el índice 1 en la tupla de argumentos\n",
    "def sumar_numeros(numero_1, numero_2):\n",
    "\treturn numero_1 + numero_2"
   ]
  },
  {
   "cell_type": "code",
   "execution_count": 9,
   "id": "909a855a-fc73-431f-9a41-493c20ae3d73",
   "metadata": {
    "tags": []
   },
   "outputs": [
    {
     "data": {
      "text/plain": [
       "3"
      ]
     },
     "execution_count": 9,
     "metadata": {},
     "output_type": "execute_result"
    }
   ],
   "source": [
    "sumar_numeros(1, 2) # 1 -> numero_1 y 2 -> numero_2"
   ]
  },
  {
   "cell_type": "code",
   "execution_count": 10,
   "id": "42e6c25b-3465-4cb5-9dc7-6d59a9c09ae2",
   "metadata": {
    "tags": []
   },
   "outputs": [
    {
     "ename": "TypeError",
     "evalue": "sumar_numeros() missing 1 required positional argument: 'numero_2'",
     "output_type": "error",
     "traceback": [
      "\u001b[0;31m---------------------------------------------------------------------------\u001b[0m",
      "\u001b[0;31mTypeError\u001b[0m                                 Traceback (most recent call last)",
      "Cell \u001b[0;32mIn [10], line 1\u001b[0m\n\u001b[0;32m----> 1\u001b[0m \u001b[43msumar_numeros\u001b[49m\u001b[43m(\u001b[49m\u001b[38;5;241;43m1\u001b[39;49m\u001b[43m)\u001b[49m\n",
      "\u001b[0;31mTypeError\u001b[0m: sumar_numeros() missing 1 required positional argument: 'numero_2'"
     ]
    }
   ],
   "source": [
    "sumar_numeros(1) # Si nos falta un argumento posicional"
   ]
  },
  {
   "cell_type": "code",
   "execution_count": 12,
   "id": "44ea0700-6772-4f10-97dd-ed3855d3dc52",
   "metadata": {
    "tags": []
   },
   "outputs": [
    {
     "ename": "TypeError",
     "evalue": "sumar_numeros() takes 2 positional arguments but 3 were given",
     "output_type": "error",
     "traceback": [
      "\u001b[0;31m---------------------------------------------------------------------------\u001b[0m",
      "\u001b[0;31mTypeError\u001b[0m                                 Traceback (most recent call last)",
      "Cell \u001b[0;32mIn [12], line 1\u001b[0m\n\u001b[0;32m----> 1\u001b[0m \u001b[43msumar_numeros\u001b[49m\u001b[43m(\u001b[49m\u001b[38;5;241;43m1\u001b[39;49m\u001b[43m,\u001b[49m\u001b[43m \u001b[49m\u001b[38;5;241;43m2\u001b[39;49m\u001b[43m,\u001b[49m\u001b[43m \u001b[49m\u001b[38;5;241;43m3\u001b[39;49m\u001b[43m)\u001b[49m\n",
      "\u001b[0;31mTypeError\u001b[0m: sumar_numeros() takes 2 positional arguments but 3 were given"
     ]
    }
   ],
   "source": [
    "sumar_numeros(1, 2, 3)"
   ]
  },
  {
   "cell_type": "markdown",
   "id": "7046dac6-578e-4568-9832-e48da63c339d",
   "metadata": {},
   "source": [
    "### Argumentos predefinidos\n",
    "Por otro lado, existe una forma de declarar argumentos que no requieren que se les sea sasignado un valor de forma obligatoria, y que no dependan de su posición en la declaración de la función, sino que pueden mantener un valor por defecto"
   ]
  },
  {
   "cell_type": "code",
   "execution_count": 15,
   "id": "2453c46d-1f54-41b8-b204-f5abb3716583",
   "metadata": {
    "tags": []
   },
   "outputs": [],
   "source": [
    "# `numero_1` es el primer argumento posicional\n",
    "# `numero_2` es el segundo argumento posicional\n",
    "# `numero_3=0` es un argumento predefinido\n",
    "def sumar_numeros(numero_1, numero_2, numero_3=0):\n",
    "\treturn numero_1 + numero_2 + numero_3"
   ]
  },
  {
   "cell_type": "markdown",
   "id": "eb4ac9cb-cc7d-488d-822d-b20e7d06dc91",
   "metadata": {},
   "source": [
    "Al momento de invocar la función, podemos omitir la(s) variable(s) predefinidas, si así queremos."
   ]
  },
  {
   "cell_type": "code",
   "execution_count": 16,
   "id": "38b90b01-463b-4173-9b2e-7575446975d0",
   "metadata": {
    "tags": []
   },
   "outputs": [
    {
     "data": {
      "text/plain": [
       "3"
      ]
     },
     "execution_count": 16,
     "metadata": {},
     "output_type": "execute_result"
    }
   ],
   "source": [
    "sumar_numeros(1, 2)"
   ]
  },
  {
   "cell_type": "code",
   "execution_count": 18,
   "id": "2de6beb5-4bd7-4241-8664-9ceefd87de97",
   "metadata": {
    "tags": []
   },
   "outputs": [
    {
     "data": {
      "text/plain": [
       "6"
      ]
     },
     "execution_count": 18,
     "metadata": {},
     "output_type": "execute_result"
    }
   ],
   "source": [
    "sumar_numeros(1, 2, 3) # El arg predefinido `numero_3` = 3"
   ]
  },
  {
   "cell_type": "code",
   "execution_count": 19,
   "id": "ad9c549e-bf43-45ca-95c4-1a33f73a4739",
   "metadata": {
    "tags": []
   },
   "outputs": [
    {
     "data": {
      "text/plain": [
       "13"
      ]
     },
     "execution_count": 19,
     "metadata": {},
     "output_type": "execute_result"
    }
   ],
   "source": [
    "# Otra forma de declarlo es explicitamente definiendo la variable local en la invocació de la función\n",
    "sumar_numeros(1, 2, numero_3=10)"
   ]
  },
  {
   "cell_type": "code",
   "execution_count": 26,
   "id": "a5c1a18c-4e97-41e7-8b57-657bb6980da8",
   "metadata": {
    "tags": []
   },
   "outputs": [
    {
     "data": {
      "text/plain": [
       "27"
      ]
     },
     "execution_count": 26,
     "metadata": {},
     "output_type": "execute_result"
    }
   ],
   "source": [
    "# Esto también aplica para los argumentos posicionales\n",
    "# Buena prácitca\n",
    "sumar_numeros(\n",
    "    numero_1 = 7, # Aunque sea posicional\n",
    "    numero_2 = 5, # Aunque sea posicional\n",
    "    numero_3 = 15,\n",
    ")"
   ]
  },
  {
   "cell_type": "markdown",
   "id": "7b9a0f58-574e-4b56-b3e9-b2e70eadd0ba",
   "metadata": {},
   "source": [
    "**NOTA**: Lo \"único\" para lo que deben servir la declaración de argumentos posicionales, es para que salte un error, en caso de que uno se nos olvide."
   ]
  },
  {
   "cell_type": "code",
   "execution_count": 27,
   "id": "e3b01171-38ad-4b81-902f-cc0000b47876",
   "metadata": {
    "tags": []
   },
   "outputs": [
    {
     "ename": "TypeError",
     "evalue": "sumar_numeros() missing 1 required positional argument: 'numero_2'",
     "output_type": "error",
     "traceback": [
      "\u001b[0;31m---------------------------------------------------------------------------\u001b[0m",
      "\u001b[0;31mTypeError\u001b[0m                                 Traceback (most recent call last)",
      "Cell \u001b[0;32mIn [27], line 1\u001b[0m\n\u001b[0;32m----> 1\u001b[0m \u001b[43msumar_numeros\u001b[49m\u001b[43m(\u001b[49m\n\u001b[1;32m      2\u001b[0m \u001b[43m    \u001b[49m\u001b[43mnumero_1\u001b[49m\u001b[38;5;241;43m=\u001b[39;49m\u001b[38;5;241;43m1\u001b[39;49m\u001b[43m,\u001b[49m\n\u001b[1;32m      3\u001b[0m \u001b[43m    \u001b[49m\u001b[43mnumero_3\u001b[49m\u001b[38;5;241;43m=\u001b[39;49m\u001b[38;5;241;43m20\u001b[39;49m\n\u001b[1;32m      4\u001b[0m \u001b[43m)\u001b[49m\n",
      "\u001b[0;31mTypeError\u001b[0m: sumar_numeros() missing 1 required positional argument: 'numero_2'"
     ]
    }
   ],
   "source": [
    "sumar_numeros(\n",
    "    numero_1=1,\n",
    "    numero_3=20\n",
    ") # Salta error porque `numero_2` es requerido"
   ]
  },
  {
   "cell_type": "markdown",
   "id": "cabc1293-8984-4f55-86ce-b12672c445f3",
   "metadata": {},
   "source": [
    "# Argumentos arbitrarios"
   ]
  },
  {
   "cell_type": "markdown",
   "id": "34f0dc22-6ea4-490e-b8f0-81e645dce86c",
   "metadata": {},
   "source": [
    "## Posicionales\n",
    "Supongamos que necesitamos crear una función la cuál regrese la suma de todos los ingresos registrados para una persona. Sabemos de antemano que la persona cuenta actualmente con dos ingresos, por lo tanto podríamos crear una función como la siguiente:"
   ]
  },
  {
   "cell_type": "code",
   "execution_count": 38,
   "id": "8065e1b7-fde0-4c23-bfd3-f683acc4cdee",
   "metadata": {
    "tags": []
   },
   "outputs": [],
   "source": [
    "def regresar_ingresos_totales(ingreso_1: float, ingreso_2: float) -> float: # Tipado de argumentos\n",
    "    return ingreso_1 + ingreso_2"
   ]
  },
  {
   "cell_type": "markdown",
   "id": "c7e059c7-6841-49c9-b914-788cb277bf09",
   "metadata": {},
   "source": [
    "Tiempo después, sabemos que la persona cuenta con un nuevo ingreso, por lo que tenemos que modificar nuestra función para  que admita un nuevo argumento:"
   ]
  },
  {
   "cell_type": "code",
   "execution_count": 39,
   "id": "c8f2ca70-f02b-40bb-b16f-ddd58d0d6949",
   "metadata": {
    "tags": []
   },
   "outputs": [],
   "source": [
    "def regresar_ingresos_totales(ingreso_1: float, ingreso_2: float, ingreso_3: float) -> float:\n",
    "    return ingreso_1 + ingreso_2 + ingreso_3"
   ]
  },
  {
   "cell_type": "markdown",
   "id": "fa5f1fb8-d632-4839-a2a3-8e80ce97d2de",
   "metadata": {},
   "source": [
    "Supongamos que un tiempo después, empieza a recibir muchos más ingresos. ¿Cómo se le haría para que la función reciba todos los posibles ingresos, sin necesidad de estarla modificando?"
   ]
  },
  {
   "cell_type": "code",
   "execution_count": 40,
   "id": "36a71590-6111-4159-9962-a7160a80fa2d",
   "metadata": {
    "tags": []
   },
   "outputs": [],
   "source": [
    "def regresar_ingresos_totales(lista_de_ingresos: list) -> float:\n",
    "    return sum(lista_de_ingresos)"
   ]
  },
  {
   "cell_type": "code",
   "execution_count": 41,
   "id": "60d288cb-9740-43a7-a813-6bb436e24684",
   "metadata": {
    "tags": []
   },
   "outputs": [
    {
     "data": {
      "text/plain": [
       "7210"
      ]
     },
     "execution_count": 41,
     "metadata": {},
     "output_type": "execute_result"
    }
   ],
   "source": [
    "# Obtener la lista, como podamos\n",
    "# Leer un archivo y crearla a partir de ahí\n",
    "# Hacer algún tipo de operaciones\n",
    "lista_de_ingresos = [10, 100, 2000, 4000, 500, 600]\n",
    "regresar_ingresos_totales(lista_de_ingresos)"
   ]
  },
  {
   "cell_type": "code",
   "execution_count": 37,
   "id": "5c24a59a-8318-4a5b-b61a-76a1d4775828",
   "metadata": {
    "tags": []
   },
   "outputs": [
    {
     "ename": "TypeError",
     "evalue": "regresar_ingresos_totales() takes 3 positional arguments but 6 were given",
     "output_type": "error",
     "traceback": [
      "\u001b[0;31m---------------------------------------------------------------------------\u001b[0m",
      "\u001b[0;31mTypeError\u001b[0m                                 Traceback (most recent call last)",
      "Cell \u001b[0;32mIn [37], line 1\u001b[0m\n\u001b[0;32m----> 1\u001b[0m \u001b[43mregresar_ingresos_totales\u001b[49m\u001b[43m(\u001b[49m\u001b[38;5;241;43m10\u001b[39;49m\u001b[43m,\u001b[49m\u001b[38;5;241;43m100\u001b[39;49m\u001b[43m,\u001b[49m\u001b[38;5;241;43m2000\u001b[39;49m\u001b[43m,\u001b[49m\u001b[38;5;241;43m4000\u001b[39;49m\u001b[43m,\u001b[49m\u001b[38;5;241;43m500\u001b[39;49m\u001b[43m,\u001b[49m\u001b[38;5;241;43m600\u001b[39;49m\u001b[43m)\u001b[49m\n",
      "\u001b[0;31mTypeError\u001b[0m: regresar_ingresos_totales() takes 3 positional arguments but 6 were given"
     ]
    }
   ],
   "source": [
    "regresar_ingresos_totales(10,100,2000,4000,500,600) # Lo que quiere el cliente es esto"
   ]
  },
  {
   "cell_type": "markdown",
   "id": "e4f69088-117a-40ac-9d7c-72f765417613",
   "metadata": {},
   "source": [
    "Aquí haremos uso de los argumentos arbitrarios definidos comunmente por el nombre `args`. Se utiliza cuando no está definido el número de argumentos posicionales que recibirá una función"
   ]
  },
  {
   "cell_type": "code",
   "execution_count": 53,
   "id": "923b0c4f-c919-4fa6-b90a-7b0da067b9a0",
   "metadata": {
    "tags": []
   },
   "outputs": [],
   "source": [
    "def regresar_ingresos_totales(*args): # Esta es la forma de declarar función con argumentos arbitrarios\n",
    "    # Args es una tupla, en la cual tendrá todos los argumentos que le pasemos a la función\n",
    "    print(f\"Este es args: {args}\")\n",
    "    return sum(args)\n",
    "\n",
    "# El asterísco es una herencia de C/C++ que implica que `*args` es un apuntador. Un apuntador que apunta a una lista/tupla\n",
    "# Si se usa doble asterisco normalmente apunta a una lista de tuplas o diccionario"
   ]
  },
  {
   "cell_type": "code",
   "execution_count": 54,
   "id": "de76c4c8-54de-4846-a45b-d9d81e64e5f8",
   "metadata": {
    "tags": []
   },
   "outputs": [
    {
     "name": "stdout",
     "output_type": "stream",
     "text": [
      "Este es args: (1,)\n"
     ]
    },
    {
     "data": {
      "text/plain": [
       "1"
      ]
     },
     "execution_count": 54,
     "metadata": {},
     "output_type": "execute_result"
    }
   ],
   "source": [
    "regresar_ingresos_totales(1)"
   ]
  },
  {
   "cell_type": "code",
   "execution_count": 55,
   "id": "fc4785ff-0534-462e-ba75-613986704709",
   "metadata": {
    "tags": []
   },
   "outputs": [
    {
     "name": "stdout",
     "output_type": "stream",
     "text": [
      "Este es args: (1, 2, 3, 4, 5, 6)\n"
     ]
    },
    {
     "data": {
      "text/plain": [
       "21"
      ]
     },
     "execution_count": 55,
     "metadata": {},
     "output_type": "execute_result"
    }
   ],
   "source": [
    "regresar_ingresos_totales(1,2,3,4,5,6)"
   ]
  },
  {
   "cell_type": "markdown",
   "id": "ce731d82-c783-4a69-b7ad-c893cac743dd",
   "metadata": {},
   "source": [
    "La función por dentro se vería así:\n",
    "```python\n",
    "def regresar_ingresos_totals((1,2,3,4,5,6)->*args):\n",
    "    return sum((1,2,3,4,5,6)->args)\n",
    "```"
   ]
  },
  {
   "cell_type": "code",
   "execution_count": 58,
   "id": "2462f52b-c826-4bac-828d-4b59d57c730d",
   "metadata": {
    "tags": []
   },
   "outputs": [
    {
     "name": "stdout",
     "output_type": "stream",
     "text": [
      "Este es args: (4, 70, 89)\n"
     ]
    },
    {
     "data": {
      "text/plain": [
       "163"
      ]
     },
     "execution_count": 58,
     "metadata": {},
     "output_type": "execute_result"
    }
   ],
   "source": [
    "regresar_ingresos_totales(4,70,89)"
   ]
  },
  {
   "cell_type": "code",
   "execution_count": 57,
   "id": "339c73d9-449d-4cc6-84f5-d8cd70c77682",
   "metadata": {
    "tags": []
   },
   "outputs": [
    {
     "name": "stdout",
     "output_type": "stream",
     "text": [
      "Este es args: (4, 5, 2, 4, 5, 5, 3, 4, 2, 4, 4, 56, 5, 2, 4, 35, 1, 234, 1, 234, 12, 35, 123, 4, 1234)\n"
     ]
    },
    {
     "data": {
      "text/plain": [
       "2022"
      ]
     },
     "execution_count": 57,
     "metadata": {},
     "output_type": "execute_result"
    }
   ],
   "source": [
    "regresar_ingresos_totales(4,5,2,4,5,5,3,4,2,4,4,56,5,2,4,35,1,234,1,234,12,35,123,4,1234)"
   ]
  },
  {
   "cell_type": "markdown",
   "id": "252209fe-27c8-4ab4-8614-876c9e9e5c71",
   "metadata": {},
   "source": [
    "## Predefinidos"
   ]
  },
  {
   "cell_type": "markdown",
   "id": "95ab0da0-efaa-48db-835d-8722619724b4",
   "metadata": {},
   "source": [
    "De forma análoga, es posible suminstrar tantos arguementos predefinidos a la función como queramos siguiendo esta notación:"
   ]
  },
  {
   "cell_type": "code",
   "execution_count": 64,
   "id": "7f5bd6e3-d29a-4b7f-abe7-88cc7418a7bf",
   "metadata": {
    "tags": []
   },
   "outputs": [],
   "source": [
    "def colores_rgb(**kwargs): # Se usa la variable `**kwargs` por costumbre y es un diccionario\n",
    "    print(f\"Este es kwargs: {kwargs}\")\n",
    "    for color, rgb in kwargs.items():\n",
    "        print(f\"El color {color} tiene un código rgb: {rgb}\")"
   ]
  },
  {
   "cell_type": "code",
   "execution_count": 65,
   "id": "5416c392-0589-4cc1-b676-93cd88a3c83e",
   "metadata": {
    "tags": []
   },
   "outputs": [
    {
     "name": "stdout",
     "output_type": "stream",
     "text": [
      "Este es kwargs: {'rojo': (255, 0, 0), 'azul': (0, 0, 255)}\n",
      "El color rojo tiene un código rgb: (255, 0, 0)\n",
      "El color azul tiene un código rgb: (0, 0, 255)\n"
     ]
    }
   ],
   "source": [
    "colores_rgb(rojo=(255, 0, 0), azul=(0, 0, 255))"
   ]
  },
  {
   "cell_type": "markdown",
   "id": "d86e1351-f673-4b1a-b3e6-8bb4c7882e46",
   "metadata": {},
   "source": [
    "Es común encontrar, en códigos de Python, funciones declaradas como:\n",
    "```python\n",
    "def funcion(*args, **kwargs):\n",
    "    #- args[0]\n",
    "    #- kwargs[\"llave\"]\n",
    "    sentencias\n",
    "```"
   ]
  },
  {
   "cell_type": "code",
   "execution_count": null,
   "id": "5626b1b7-f8ec-417f-9950-860b25668f63",
   "metadata": {},
   "outputs": [],
   "source": []
  }
 ],
 "metadata": {
  "kernelspec": {
   "display_name": "Python 3 (ipykernel)",
   "language": "python",
   "name": "python3"
  },
  "language_info": {
   "codemirror_mode": {
    "name": "ipython",
    "version": 3
   },
   "file_extension": ".py",
   "mimetype": "text/x-python",
   "name": "python",
   "nbconvert_exporter": "python",
   "pygments_lexer": "ipython3",
   "version": "3.10.6"
  }
 },
 "nbformat": 4,
 "nbformat_minor": 5
}
