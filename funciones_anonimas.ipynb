{
 "cells": [
  {
   "cell_type": "markdown",
   "id": "7cd4fc2c-a68a-4ec9-b993-2a1073bcba64",
   "metadata": {},
   "source": [
    "# Funciones anónimas"
   ]
  },
  {
   "cell_type": "markdown",
   "id": "aa2dc0a4-8a04-4e3d-92db-20a71c45d85a",
   "metadata": {},
   "source": [
    "En algunas ocasiones nos interesa crear funciones sencillas y de un solo uso. En estos casos, declarar funcioens a través de la partícula `def` puede resultar poco conveniente teniendo en cuenta que una vez que invoquemos la función, nunca más vamos a utilizarla. \n",
    "\n",
    "Para evitar este problema, existe la partícula `lambda`"
   ]
  },
  {
   "cell_type": "markdown",
   "id": "2e7b473c-f772-4c77-a0e7-8075560ff440",
   "metadata": {},
   "source": [
    "# Estructura\n",
    "```python\n",
    "lambda argumentos: sentencia\n",
    "```"
   ]
  },
  {
   "cell_type": "markdown",
   "id": "b98d32b2-f8ab-4b8c-a789-d2efe44b77eb",
   "metadata": {},
   "source": [
    "Dentro de la expresión `lambda`, se pueden detectar los mismos elementos que en una función definida, con la salvedad de que en este caso no existe una declaración de numbre para la función."
   ]
  },
  {
   "cell_type": "markdown",
   "id": "d739bd80-5762-4201-9ce1-45bf6aaae2f9",
   "metadata": {},
   "source": [
    "### Función definida\n",
    "```python\n",
    "def nombre_funcion(argumentos):\n",
    "    sentencias\n",
    "```\n",
    "\n",
    "### Expresión lambda\n",
    "```python\n",
    "lambda argumentos: sentencia\n",
    "```"
   ]
  },
  {
   "cell_type": "markdown",
   "id": "371a3e05-2d0a-49fd-a9d4-637b143e1d8a",
   "metadata": {},
   "source": [
    "Es intencional el hecho de que en la función definida ponga `sentencias` y en la expresión `lambda` sea simplemente `sentencia`, esto se debe a que las expresiones lambdas son empleadas para funciones pequeñas y no para declarar múltiples sentencias dentro de ellas."
   ]
  },
  {
   "cell_type": "code",
   "execution_count": 3,
   "id": "dafc5f10-8777-481f-87a3-3a50247c7da5",
   "metadata": {
    "tags": []
   },
   "outputs": [
    {
     "data": {
      "text/plain": [
       "<function __main__.<lambda>(x)>"
      ]
     },
     "execution_count": 3,
     "metadata": {},
     "output_type": "execute_result"
    }
   ],
   "source": [
    "# Ejemplo\n",
    "lambda x: x**2"
   ]
  },
  {
   "cell_type": "code",
   "execution_count": 4,
   "id": "0510622b-b376-4f9d-9c7f-f686a078df93",
   "metadata": {
    "tags": []
   },
   "outputs": [
    {
     "data": {
      "text/plain": [
       "4"
      ]
     },
     "execution_count": 4,
     "metadata": {},
     "output_type": "execute_result"
    }
   ],
   "source": [
    "# para poder ejecutar la función `lambda` requerimos pasar valores a los argumentos solicitados:\n",
    "(lambda x: x**2)(2)"
   ]
  },
  {
   "cell_type": "markdown",
   "id": "bfb216eb-c08b-4552-9b46-374767403639",
   "metadata": {},
   "source": [
    "## Argumentos\n",
    "Al igual que en una función definida, las funciones anónimas pueden recibir múltiples argumentos, ya sean posicionales o predefinidos."
   ]
  },
  {
   "cell_type": "code",
   "execution_count": 5,
   "id": "a9f1c2fb-68a0-4952-967f-7484e22b32c6",
   "metadata": {
    "tags": []
   },
   "outputs": [
    {
     "data": {
      "text/plain": [
       "'Nombre completo: Juan Pérez'"
      ]
     },
     "execution_count": 5,
     "metadata": {},
     "output_type": "execute_result"
    }
   ],
   "source": [
    "(lambda nombre, apellido: f\"Nombre completo: {nombre} {apellido}\")(\"Juan\", \"Pérez\")"
   ]
  },
  {
   "cell_type": "code",
   "execution_count": 7,
   "id": "fd1504f9-291a-4e54-813b-977c18b9d9c9",
   "metadata": {
    "tags": []
   },
   "outputs": [
    {
     "data": {
      "text/plain": [
       "20"
      ]
     },
     "execution_count": 7,
     "metadata": {},
     "output_type": "execute_result"
    }
   ],
   "source": [
    "(lambda total=10: total*2)()"
   ]
  },
  {
   "cell_type": "code",
   "execution_count": 8,
   "id": "13cfb8f8-b14e-4971-8aa2-2e06c3cf8bf9",
   "metadata": {
    "tags": []
   },
   "outputs": [
    {
     "data": {
      "text/plain": [
       "10"
      ]
     },
     "execution_count": 8,
     "metadata": {},
     "output_type": "execute_result"
    }
   ],
   "source": [
    "(lambda total=10: total*2)(5)"
   ]
  },
  {
   "cell_type": "markdown",
   "id": "6b0412ed-4134-4724-b1f7-06ce3ee10fdb",
   "metadata": {},
   "source": [
    "## Almacenamiento de funciones anónimas\n",
    "\n",
    "Es posible almacenar una función `lambda` en una variable para ser invocada posteriormente, lo que es equivalente a declarar una función, la cual asigna un nombre de invocación a las sentencias"
   ]
  },
  {
   "cell_type": "code",
   "execution_count": 9,
   "id": "2c221515-e85d-4895-ad77-142ffd850779",
   "metadata": {
    "tags": []
   },
   "outputs": [],
   "source": [
    "funcion_anónima = lambda total=10: total*2"
   ]
  },
  {
   "cell_type": "code",
   "execution_count": 10,
   "id": "a8020f4d-3ce4-4c1b-822f-68b1ae5507f5",
   "metadata": {
    "tags": []
   },
   "outputs": [
    {
     "data": {
      "text/plain": [
       "<function __main__.<lambda>(total=10)>"
      ]
     },
     "execution_count": 10,
     "metadata": {},
     "output_type": "execute_result"
    }
   ],
   "source": [
    "funcion_anónima"
   ]
  },
  {
   "cell_type": "code",
   "execution_count": 11,
   "id": "0ccf91fc-fc16-4fff-93ad-f62c59b4e314",
   "metadata": {
    "tags": []
   },
   "outputs": [
    {
     "data": {
      "text/plain": [
       "20"
      ]
     },
     "execution_count": 11,
     "metadata": {},
     "output_type": "execute_result"
    }
   ],
   "source": [
    "funcion_anónima()"
   ]
  },
  {
   "cell_type": "code",
   "execution_count": 12,
   "id": "199f742f-6b9f-41c6-b9df-3591906ce3af",
   "metadata": {
    "tags": []
   },
   "outputs": [
    {
     "data": {
      "text/plain": [
       "40"
      ]
     },
     "execution_count": 12,
     "metadata": {},
     "output_type": "execute_result"
    }
   ],
   "source": [
    "funcion_anónima(20)"
   ]
  },
  {
   "cell_type": "markdown",
   "id": "4df2431e-7e97-4637-93a0-b9b9fe0a5c43",
   "metadata": {},
   "source": [
    "### Notas\n",
    "\n",
    "Existen una gran cantidad de paqueterías donde se requiere pasar como argumento una función, ya sea para realizar algún tipo de cálculo definido por el usuario, o porque es necesario para el flujo, o, como en el caso de los callbacks, para realizar una acción antes, durante, o después de algún streaming de audio, o imagen.\n",
    "\n",
    "- Pandas:\n",
    "    - Método: apply(funcion), normalmente esas funciones se definen con lambdas"
   ]
  },
  {
   "cell_type": "code",
   "execution_count": null,
   "id": "8cb63df4-9373-4479-91f7-2cd96182d1b0",
   "metadata": {},
   "outputs": [],
   "source": []
  }
 ],
 "metadata": {
  "kernelspec": {
   "display_name": "Python 3 (ipykernel)",
   "language": "python",
   "name": "python3"
  },
  "language_info": {
   "codemirror_mode": {
    "name": "ipython",
    "version": 3
   },
   "file_extension": ".py",
   "mimetype": "text/x-python",
   "name": "python",
   "nbconvert_exporter": "python",
   "pygments_lexer": "ipython3",
   "version": "3.10.6"
  }
 },
 "nbformat": 4,
 "nbformat_minor": 5
}
