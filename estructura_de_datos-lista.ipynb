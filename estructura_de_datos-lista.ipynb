{
 "cells": [
  {
   "cell_type": "markdown",
   "id": "e0c7cfaf-03fe-4aaf-a919-96c9e564a85b",
   "metadata": {},
   "source": [
    "# Estructuras de datos"
   ]
  },
  {
   "cell_type": "markdown",
   "id": "81e1c7f1-4f19-4c5f-ad01-01df50ccf66f",
   "metadata": {},
   "source": [
    "## Listas"
   ]
  },
  {
   "cell_type": "markdown",
   "id": "f3f778db-3dc0-4f34-a990-2ead64a4d31e",
   "metadata": {},
   "source": [
    "Se les conoce como arrays, vectores, secuencias, ... En Python, cada uno de esos nombres significa una cosa diferente, pero en general en la literatura y en internet, así les puede llamar. \n",
    "\n",
    "Las listas pertenecen al conjunto de variables que permieten almacenar colecciones de datos. A diferencia de una cadena de texto, donde la colección está compuesta por caracteres, las listas pueden almacenar cualquier tipo de variable.\n",
    "\n",
    "Lo que caracteriza a una lista en su declaración es el uso de corchetes `[]`"
   ]
  },
  {
   "cell_type": "code",
   "execution_count": 3,
   "id": "459fb85b-76b4-4b63-ac9c-7ed9282216c9",
   "metadata": {
    "tags": []
   },
   "outputs": [],
   "source": [
    "ejemplo_de_lista_vacia = [] # Lista vacia"
   ]
  },
  {
   "cell_type": "code",
   "execution_count": 4,
   "id": "35b0070a-f55d-40d0-8cff-54e37f61f7a5",
   "metadata": {
    "tags": []
   },
   "outputs": [
    {
     "data": {
      "text/plain": [
       "[]"
      ]
     },
     "execution_count": 4,
     "metadata": {},
     "output_type": "execute_result"
    }
   ],
   "source": [
    "ejemplo_de_lista_vacia"
   ]
  },
  {
   "cell_type": "code",
   "execution_count": 5,
   "id": "70a4463f-426f-43be-a132-c52ec127c7c5",
   "metadata": {
    "tags": []
   },
   "outputs": [],
   "source": [
    "ejemplo_de_lista = [1, 2, 3, 4, 5]"
   ]
  },
  {
   "cell_type": "code",
   "execution_count": 18,
   "id": "b9f3935b-caf6-401b-8d3d-89bca6776a61",
   "metadata": {
    "tags": []
   },
   "outputs": [],
   "source": [
    "# Si la lista tiene demasiados elementos\n",
    "ejemplo_de_lista_larga = [\n",
    "    1, 2, 3, 4, 5,\n",
    "    6, 7, 8, 9, 10,\n",
    "] # Cuidado con la indentación"
   ]
  },
  {
   "cell_type": "code",
   "execution_count": 19,
   "id": "9fd216dc-4914-4691-8264-97c5a3a9cbc5",
   "metadata": {
    "tags": []
   },
   "outputs": [],
   "source": [
    "# Lista compuesta\n",
    "lista_compuesta = [1, 2, 3, \"hola\", [True, False, 523.3]] # Distintos tipos de datos"
   ]
  },
  {
   "cell_type": "markdown",
   "id": "89b0d495-3026-4896-8cb4-5e4547f5679b",
   "metadata": {
    "tags": []
   },
   "source": [
    "### Tipo de objeto: `list`"
   ]
  },
  {
   "cell_type": "markdown",
   "id": "57fa4494-f68d-4401-8e8f-19efc778b98d",
   "metadata": {
    "tags": []
   },
   "source": [
    "Como cualquier objeto en Python, tiene atributos, métodos, etc."
   ]
  },
  {
   "cell_type": "code",
   "execution_count": 21,
   "id": "896613ce-1cf4-4495-bdf4-2bf44c570817",
   "metadata": {
    "tags": []
   },
   "outputs": [],
   "source": [
    "enteros = [1, 2, 3, 4, 5]"
   ]
  },
  {
   "cell_type": "code",
   "execution_count": 22,
   "id": "bb4a48f1-7a81-4f12-b2d9-0cbfdf1bc259",
   "metadata": {
    "tags": []
   },
   "outputs": [
    {
     "data": {
      "text/plain": [
       "list"
      ]
     },
     "execution_count": 22,
     "metadata": {},
     "output_type": "execute_result"
    }
   ],
   "source": [
    "# Checar el tipado Función pre-definida de Python - type\n",
    "type(enteros) # La clase/tipo a la que pertenece dicha variable"
   ]
  },
  {
   "cell_type": "code",
   "execution_count": 24,
   "id": "06c88750-11f7-478a-8335-de734980e53b",
   "metadata": {
    "tags": []
   },
   "outputs": [
    {
     "data": {
      "text/plain": [
       "5"
      ]
     },
     "execution_count": 24,
     "metadata": {},
     "output_type": "execute_result"
    }
   ],
   "source": [
    "len(enteros) # Función pre-definida/Built-in function `len` regresa el tamaño de la lista."
   ]
  },
  {
   "cell_type": "markdown",
   "id": "a0af68bf-3d61-4f94-9f41-728681e73e9c",
   "metadata": {
    "tags": []
   },
   "source": [
    "### Accesso a elementos de una lista"
   ]
  },
  {
   "cell_type": "code",
   "execution_count": 26,
   "id": "910b63d3-82f4-4177-9d51-db86359315e9",
   "metadata": {
    "tags": []
   },
   "outputs": [
    {
     "data": {
      "text/plain": [
       "[1, 2, 3, 4, 5]"
      ]
     },
     "execution_count": 26,
     "metadata": {},
     "output_type": "execute_result"
    }
   ],
   "source": [
    "enteros"
   ]
  },
  {
   "cell_type": "code",
   "execution_count": 32,
   "id": "1c215e03-ede0-416d-b6c8-eb2084001dc6",
   "metadata": {
    "tags": []
   },
   "outputs": [
    {
     "name": "stdout",
     "output_type": "stream",
     "text": [
      "1\n",
      "1\n"
     ]
    }
   ],
   "source": [
    "print(enteros[0]) # Índice de izq a derecha\n",
    "print(enteros[-5]) # Índice de derecha a izquierda"
   ]
  },
  {
   "cell_type": "markdown",
   "id": "1e68992c-2fba-40d4-93f2-a02a785c6048",
   "metadata": {
    "tags": []
   },
   "source": [
    "| Índice | Índice inverso | Elemento |\n",
    "|----------|----------|----------|\n",
    "| 0    | -5   | 1   |\n",
    "| 1    | -4   | 2   |\n",
    "| 2    | -3   | 3   |\n",
    "| 3    | -2   | 4   |\n",
    "| 4    | -1   | 5   |"
   ]
  },
  {
   "cell_type": "markdown",
   "id": "81b7b511-191d-45bb-96e8-fdc52c15066b",
   "metadata": {},
   "source": [
    "### Acceso a subconjuntos de la lista\n",
    "\n",
    "Queremos acceder a un subconjunto o grupo específico dentro de la lista, a partir de cierto elemento.\n",
    "\n",
    "Ejemplo: Queremos todos los elementos que están despúes del número dos"
   ]
  },
  {
   "cell_type": "code",
   "execution_count": 35,
   "id": "fcab2286-358c-4578-9172-6d85e93d0df4",
   "metadata": {
    "tags": []
   },
   "outputs": [],
   "source": [
    "lista_numeros = [1, 2, 3, 4, 5, 6, 7, 8, 9]\n",
    "# Índices        0  1  2  3  4  5  6  7  8"
   ]
  },
  {
   "cell_type": "code",
   "execution_count": 36,
   "id": "474523f4-b0a9-4bed-bce3-ee05f218c6f3",
   "metadata": {
    "tags": []
   },
   "outputs": [
    {
     "data": {
      "text/plain": [
       "[2, 3, 4, 5, 6, 7, 8, 9]"
      ]
     },
     "execution_count": 36,
     "metadata": {},
     "output_type": "execute_result"
    }
   ],
   "source": [
    "# Si queremos todos los elementos después del número 2 ( osea del índice 1)\n",
    "lista_numeros[1:]"
   ]
  },
  {
   "cell_type": "code",
   "execution_count": 37,
   "id": "8e22c3bc-465d-484d-b62a-fd933d662988",
   "metadata": {
    "tags": []
   },
   "outputs": [
    {
     "data": {
      "text/plain": [
       "[6, 7, 8, 9]"
      ]
     },
     "execution_count": 37,
     "metadata": {},
     "output_type": "execute_result"
    }
   ],
   "source": [
    "# Si queremos todos los elementos después del número 5 ( osea del índice 4), y sin contar al 5\n",
    "lista_numeros[5:]"
   ]
  },
  {
   "cell_type": "code",
   "execution_count": 38,
   "id": "abe1193c-c450-475c-9940-786b8658f85e",
   "metadata": {
    "tags": []
   },
   "outputs": [
    {
     "data": {
      "text/plain": [
       "[1, 2, 3, 4, 5, 6, 7, 8, 9]"
      ]
     },
     "execution_count": 38,
     "metadata": {},
     "output_type": "execute_result"
    }
   ],
   "source": [
    "lista_numeros[:]"
   ]
  },
  {
   "cell_type": "code",
   "execution_count": 39,
   "id": "e74322f9-417e-483d-ab4c-f22aab5dec4f",
   "metadata": {
    "tags": []
   },
   "outputs": [],
   "source": [
    "mayores_que_cinco = lista_numeros[5:]"
   ]
  },
  {
   "cell_type": "code",
   "execution_count": 40,
   "id": "cb96caee-33e1-479c-9da8-a364c5a0f523",
   "metadata": {
    "tags": []
   },
   "outputs": [
    {
     "data": {
      "text/plain": [
       "[6, 7, 8, 9]"
      ]
     },
     "execution_count": 40,
     "metadata": {},
     "output_type": "execute_result"
    }
   ],
   "source": [
    "mayores_que_cinco"
   ]
  },
  {
   "cell_type": "code",
   "execution_count": 42,
   "id": "f1cb4187-6406-4f10-ae65-a7b23c03e77c",
   "metadata": {
    "tags": []
   },
   "outputs": [
    {
     "data": {
      "text/plain": [
       "[1, 2, 3, 4, 5, 6]"
      ]
     },
     "execution_count": 42,
     "metadata": {},
     "output_type": "execute_result"
    }
   ],
   "source": [
    "# Si queremos todos los números hasta el 7\n",
    "lista_numeros[:6] # No contempla al índice 6"
   ]
  },
  {
   "cell_type": "code",
   "execution_count": 43,
   "id": "06b1de64-5553-4cb0-a877-4f457615234c",
   "metadata": {
    "tags": []
   },
   "outputs": [],
   "source": [
    "# Si queremos todos los elementos entre el 2 y el 8 (osea indice 1 y 7)"
   ]
  },
  {
   "cell_type": "code",
   "execution_count": 45,
   "id": "a615f0b0-e89a-480c-8b93-387cc4837c92",
   "metadata": {
    "tags": []
   },
   "outputs": [
    {
     "data": {
      "text/plain": [
       "[2, 3, 4, 5, 6, 7]"
      ]
     },
     "execution_count": 45,
     "metadata": {},
     "output_type": "execute_result"
    }
   ],
   "source": [
    "lista_numeros[1:7] # Sí agarra el índice 1, pero no agarra el índice 7"
   ]
  },
  {
   "cell_type": "code",
   "execution_count": 54,
   "id": "ae28ee76-2954-4f6d-bbd2-cb4b6920af60",
   "metadata": {
    "tags": []
   },
   "outputs": [
    {
     "data": {
      "text/plain": [
       "[2, 4, 6, 8]"
      ]
     },
     "execution_count": 54,
     "metadata": {},
     "output_type": "execute_result"
    }
   ],
   "source": [
    "# Si queremos agarrar de dos en dos\n",
    "lista_numeros[1:8:2]"
   ]
  },
  {
   "cell_type": "code",
   "execution_count": 55,
   "id": "9f29b05b-e109-4c54-8ef0-bacc1dbf4c80",
   "metadata": {
    "tags": []
   },
   "outputs": [
    {
     "data": {
      "text/plain": [
       "[1, 3, 5, 7, 9]"
      ]
     },
     "execution_count": 55,
     "metadata": {},
     "output_type": "execute_result"
    }
   ],
   "source": [
    "# Si queremos agarrar de dos en dos\n",
    "# lista[:] los dos puntos solitos indican que te agarres toda la lista\n",
    "lista_numeros[::2]"
   ]
  },
  {
   "cell_type": "code",
   "execution_count": 56,
   "id": "3e9a1812-f49b-409c-8933-02cf4da56bab",
   "metadata": {
    "tags": []
   },
   "outputs": [
    {
     "data": {
      "text/plain": [
       "[1, 4, 7]"
      ]
     },
     "execution_count": 56,
     "metadata": {},
     "output_type": "execute_result"
    }
   ],
   "source": [
    "# Si queremos que tome cada tercer índice\n",
    "lista_numeros[::3]"
   ]
  },
  {
   "cell_type": "code",
   "execution_count": 50,
   "id": "b35314ae-0886-456b-8773-ee4691367483",
   "metadata": {
    "tags": []
   },
   "outputs": [
    {
     "data": {
      "text/plain": [
       "[9, 8, 7, 6, 5, 4, 3, 2, 1]"
      ]
     },
     "execution_count": 50,
     "metadata": {},
     "output_type": "execute_result"
    }
   ],
   "source": [
    "# Regresar la lista de atrás para adelante\n",
    "lista_numeros[::-1]"
   ]
  },
  {
   "cell_type": "code",
   "execution_count": 52,
   "id": "db95d918-b46f-45ba-b90f-848421a6f083",
   "metadata": {
    "tags": []
   },
   "outputs": [
    {
     "data": {
      "text/plain": [
       "[9, 7, 5, 3, 1]"
      ]
     },
     "execution_count": 52,
     "metadata": {},
     "output_type": "execute_result"
    }
   ],
   "source": [
    "# Uno sí uno no pero lista volteada\n",
    "lista_numeros[::-2]"
   ]
  },
  {
   "cell_type": "markdown",
   "id": "6ca6032b-3cfd-4c21-9e95-d402ea25c583",
   "metadata": {},
   "source": [
    "### Métodos básicos de una lista\n",
    "\n",
    "Todos estos métodos se aplican sobre la misma lista.\n",
    "\n",
    "Los métodos son \"funciones\" de un objeto que modifican sus atributos o regresan algún resultado."
   ]
  },
  {
   "cell_type": "code",
   "execution_count": 2,
   "id": "c760a9c4-60f0-4046-93c2-d2765ade3571",
   "metadata": {
    "tags": []
   },
   "outputs": [],
   "source": [
    "lista = [1,2,3,4,5]"
   ]
  },
  {
   "cell_type": "code",
   "execution_count": 3,
   "id": "5db54bbf-5d1e-4371-b797-16664b73dbd5",
   "metadata": {
    "tags": []
   },
   "outputs": [
    {
     "name": "stdout",
     "output_type": "stream",
     "text": [
      "[1, 2, 3, 4, 5, -1]\n"
     ]
    }
   ],
   "source": [
    "# Método para agregar elementos al final de una lista\n",
    "lista.append(-1) # Se agrega directamente sobre la variable\n",
    "print(lista)"
   ]
  },
  {
   "cell_type": "code",
   "execution_count": 7,
   "id": "49b88860-3b4a-43f2-944a-b431360a516f",
   "metadata": {},
   "outputs": [],
   "source": [
    "# Ejemplo de uso\n",
    "# Llenar una lista con valores dentro de un loop\n",
    "lista_ejemplo = []\n",
    "\n",
    "for index in range(1000):\n",
    "    lista_ejemplo.append(index)\n",
    "    \n",
    "# lista_ejemplo = [0, 1, ..., 98, 99]"
   ]
  },
  {
   "cell_type": "code",
   "execution_count": 8,
   "id": "d40a1279-6bef-4500-b27c-00b5e67d1bdb",
   "metadata": {
    "tags": []
   },
   "outputs": [
    {
     "name": "stdout",
     "output_type": "stream",
     "text": [
      "[1, 2, 4, 5, -1]\n"
     ]
    }
   ],
   "source": [
    "# Remover un elemento según su posición\n",
    "lista.pop(2)\n",
    "print(lista)"
   ]
  },
  {
   "cell_type": "code",
   "execution_count": 12,
   "id": "257ec843-8cdc-49fd-ac4e-04fecd27eec9",
   "metadata": {
    "tags": []
   },
   "outputs": [
    {
     "name": "stdout",
     "output_type": "stream",
     "text": [
      "[-1, 5, 4, 2, 1]\n",
      "[-1, 5, 4, 2, 1]\n"
     ]
    }
   ],
   "source": [
    "# Invertir lista\n",
    "print(lista[::-1]) # Esto sólo la imprime invertida\n",
    "lista.reverse() # Usando .reverse() la lista se invierte y así se queda\n",
    "print(lista)"
   ]
  },
  {
   "cell_type": "code",
   "execution_count": 15,
   "id": "9769425c-5732-4a07-b03f-bbf6a9c6829c",
   "metadata": {
    "tags": []
   },
   "outputs": [
    {
     "name": "stdout",
     "output_type": "stream",
     "text": [
      "[-1, 1, 2, 4, 5]\n"
     ]
    }
   ],
   "source": [
    "# Ordenar lista \n",
    "lista.sort()\n",
    "print(lista)"
   ]
  },
  {
   "cell_type": "code",
   "execution_count": 21,
   "id": "ee751eb9-df1c-439a-b10b-62740c8029f6",
   "metadata": {
    "tags": []
   },
   "outputs": [
    {
     "data": {
      "text/plain": [
       "[100, 100, 100, 100, 100, -1, 1, 2, 4, 99, 99, 99, 5]"
      ]
     },
     "execution_count": 21,
     "metadata": {},
     "output_type": "execute_result"
    }
   ],
   "source": [
    "# Insertar un elemento en cierta posición\n",
    "lista.insert(0, 100) # Agrega en el índice 0\n",
    "lista.insert(-1, 99) # Agrega en el penúltimo elemento\n",
    "lista"
   ]
  },
  {
   "cell_type": "code",
   "execution_count": 24,
   "id": "879308de-b387-494a-b9c1-15ec94dd3da0",
   "metadata": {
    "tags": []
   },
   "outputs": [
    {
     "data": {
      "text/plain": [
       "\u001b[0;31mSignature:\u001b[0m \u001b[0mlista\u001b[0m\u001b[0;34m.\u001b[0m\u001b[0mcopy\u001b[0m\u001b[0;34m(\u001b[0m\u001b[0;34m)\u001b[0m\u001b[0;34m\u001b[0m\u001b[0;34m\u001b[0m\u001b[0m\n",
       "\u001b[0;31mDocstring:\u001b[0m Return a shallow copy of the list.\n",
       "\u001b[0;31mType:\u001b[0m      builtin_function_or_method\n"
      ]
     },
     "metadata": {},
     "output_type": "display_data"
    }
   ],
   "source": [
    "# para ver todos los métodos disponibles en Jupyter lista.<TAB>\n",
    "lista.copy??"
   ]
  },
  {
   "cell_type": "code",
   "execution_count": 25,
   "id": "a80b8f5e-c5c6-4ad5-ade2-ba4e6fb45299",
   "metadata": {
    "tags": []
   },
   "outputs": [
    {
     "data": {
      "text/plain": [
       "\u001b[0;31mSignature:\u001b[0m \u001b[0mlista\u001b[0m\u001b[0;34m.\u001b[0m\u001b[0mcount\u001b[0m\u001b[0;34m(\u001b[0m\u001b[0mvalue\u001b[0m\u001b[0;34m,\u001b[0m \u001b[0;34m/\u001b[0m\u001b[0;34m)\u001b[0m\u001b[0;34m\u001b[0m\u001b[0;34m\u001b[0m\u001b[0m\n",
       "\u001b[0;31mDocstring:\u001b[0m Return number of occurrences of value.\n",
       "\u001b[0;31mType:\u001b[0m      builtin_function_or_method\n"
      ]
     },
     "metadata": {},
     "output_type": "display_data"
    }
   ],
   "source": [
    "lista.count??"
   ]
  },
  {
   "cell_type": "code",
   "execution_count": 27,
   "id": "e7e66b8e-290d-4457-84af-e99d09659ffe",
   "metadata": {
    "tags": []
   },
   "outputs": [
    {
     "data": {
      "text/plain": [
       "5"
      ]
     },
     "execution_count": 27,
     "metadata": {},
     "output_type": "execute_result"
    }
   ],
   "source": [
    "# Contar repeticiones de elementos\n",
    "lista.count(100)"
   ]
  },
  {
   "cell_type": "markdown",
   "id": "5ee7a2a6-c01d-454e-ba87-6964fbdd4428",
   "metadata": {},
   "source": [
    "## Extras"
   ]
  },
  {
   "cell_type": "markdown",
   "id": "902904ce-07e6-4529-a117-ff28046032c6",
   "metadata": {},
   "source": [
    "1. Si utilizamos el método `split` en una cadena de texto, el resultado nos regresa una lista"
   ]
  },
  {
   "cell_type": "code",
   "execution_count": 29,
   "id": "964227d1-a58b-4755-af62-5c88cb06dc9b",
   "metadata": {
    "tags": []
   },
   "outputs": [
    {
     "data": {
      "text/plain": [
       "list"
      ]
     },
     "execution_count": 29,
     "metadata": {},
     "output_type": "execute_result"
    }
   ],
   "source": [
    "texto = \"Hola, Mundo\"\n",
    "type(texto.split(\",\"))"
   ]
  },
  {
   "cell_type": "markdown",
   "id": "6d54271e-1657-4e62-b9d5-85cc9beafe07",
   "metadata": {},
   "source": [
    "2. Es posible concatenar los elementos de una lista, si y sólo si, todos los elementos son del tipo cadena de texto."
   ]
  },
  {
   "cell_type": "code",
   "execution_count": 30,
   "id": "99b9a33a-1589-4183-9baa-275ebbe5710b",
   "metadata": {
    "tags": []
   },
   "outputs": [],
   "source": [
    "lista_palabras = [\"Hola\", \"Mundo\"]"
   ]
  },
  {
   "cell_type": "code",
   "execution_count": 31,
   "id": "346945c6-f3c3-458c-b5f1-1ea794879563",
   "metadata": {
    "tags": []
   },
   "outputs": [
    {
     "data": {
      "text/plain": [
       "'HolaMundo'"
      ]
     },
     "execution_count": 31,
     "metadata": {},
     "output_type": "execute_result"
    }
   ],
   "source": [
    "\"\".join(lista_palabras)"
   ]
  },
  {
   "cell_type": "code",
   "execution_count": 32,
   "id": "0544bfad-b4bf-40ee-90dc-8ddb6e7a3a56",
   "metadata": {
    "tags": []
   },
   "outputs": [
    {
     "data": {
      "text/plain": [
       "'Hola Mundo'"
      ]
     },
     "execution_count": 32,
     "metadata": {},
     "output_type": "execute_result"
    }
   ],
   "source": [
    "\" \".join(lista_palabras)"
   ]
  },
  {
   "cell_type": "code",
   "execution_count": 33,
   "id": "bab78668-fb99-4a63-a9f3-eac3240fea8d",
   "metadata": {
    "tags": []
   },
   "outputs": [
    {
     "data": {
      "text/plain": [
       "'Hola, Mundo'"
      ]
     },
     "execution_count": 33,
     "metadata": {},
     "output_type": "execute_result"
    }
   ],
   "source": [
    "\", \".join(lista_palabras) "
   ]
  },
  {
   "cell_type": "code",
   "execution_count": 34,
   "id": "4e52d389-cb44-411d-9eef-f470628ecfb5",
   "metadata": {
    "tags": []
   },
   "outputs": [
    {
     "data": {
      "text/plain": [
       "'Hola::Mundo'"
      ]
     },
     "execution_count": 34,
     "metadata": {},
     "output_type": "execute_result"
    }
   ],
   "source": [
    "\"::\".join(lista_palabras)"
   ]
  },
  {
   "cell_type": "code",
   "execution_count": 35,
   "id": "02666a3e-b6e5-484d-b50c-090fbbe3b654",
   "metadata": {
    "tags": []
   },
   "outputs": [
    {
     "ename": "TypeError",
     "evalue": "sequence item 0: expected str instance, int found",
     "output_type": "error",
     "traceback": [
      "\u001b[0;31m---------------------------------------------------------------------------\u001b[0m",
      "\u001b[0;31mTypeError\u001b[0m                                 Traceback (most recent call last)",
      "Cell \u001b[0;32mIn [35], line 1\u001b[0m\n\u001b[0;32m----> 1\u001b[0m \u001b[38;5;124;43m\"\u001b[39;49m\u001b[38;5;124;43m \u001b[39;49m\u001b[38;5;124;43m\"\u001b[39;49m\u001b[38;5;241;43m.\u001b[39;49m\u001b[43mjoin\u001b[49m\u001b[43m(\u001b[49m\u001b[43m[\u001b[49m\u001b[38;5;241;43m1\u001b[39;49m\u001b[43m,\u001b[49m\u001b[38;5;241;43m2\u001b[39;49m\u001b[43m,\u001b[49m\u001b[38;5;241;43m3\u001b[39;49m\u001b[43m]\u001b[49m\u001b[43m)\u001b[49m\n",
      "\u001b[0;31mTypeError\u001b[0m: sequence item 0: expected str instance, int found"
     ]
    }
   ],
   "source": [
    "\" \".join([1,2,3])"
   ]
  },
  {
   "cell_type": "markdown",
   "id": "7f319607-d0f7-4b9c-aa28-33fa099bfcd8",
   "metadata": {
    "tags": []
   },
   "source": [
    "# El error de arriba dice lo siguiente:\n",
    "- Tipo de error: \n",
    "    - `TypeError`: Significa que alguna variable es de algún tipo, pero se esperaba de otro\n",
    "- El error importante siempre sale hasta abajo\n",
    "- El mensaje `sequence item 0: expected str instance, int found` es exclusivo del método `.join()`"
   ]
  },
  {
   "cell_type": "code",
   "execution_count": 36,
   "id": "035376f4-4dfd-4ab4-b457-2a43fc0f8015",
   "metadata": {
    "tags": []
   },
   "outputs": [
    {
     "ename": "TypeError",
     "evalue": "can only concatenate str (not \"int\") to str",
     "output_type": "error",
     "traceback": [
      "\u001b[0;31m---------------------------------------------------------------------------\u001b[0m",
      "\u001b[0;31mTypeError\u001b[0m                                 Traceback (most recent call last)",
      "Cell \u001b[0;32mIn [36], line 1\u001b[0m\n\u001b[0;32m----> 1\u001b[0m \u001b[38;5;124;43m\"\u001b[39;49m\u001b[38;5;124;43mHola\u001b[39;49m\u001b[38;5;124;43m\"\u001b[39;49m\u001b[43m \u001b[49m\u001b[38;5;241;43m+\u001b[39;49m\u001b[43m \u001b[49m\u001b[38;5;241;43m1\u001b[39;49m\n",
      "\u001b[0;31mTypeError\u001b[0m: can only concatenate str (not \"int\") to str"
     ]
    }
   ],
   "source": [
    "\"Hola\" + 1"
   ]
  },
  {
   "cell_type": "code",
   "execution_count": 37,
   "id": "7a12f752-1954-4f95-b1a7-f4dfb3aaf73b",
   "metadata": {
    "tags": []
   },
   "outputs": [
    {
     "data": {
      "text/plain": [
       "1"
      ]
     },
     "execution_count": 37,
     "metadata": {},
     "output_type": "execute_result"
    }
   ],
   "source": [
    "lista[1]"
   ]
  },
  {
   "cell_type": "code",
   "execution_count": 38,
   "id": "4d569cd4-9897-4064-8701-adc22e904c52",
   "metadata": {
    "tags": []
   },
   "outputs": [],
   "source": [
    "lista[1] = 1234"
   ]
  },
  {
   "cell_type": "code",
   "execution_count": 39,
   "id": "a0c2e0de-da1e-46c9-87e2-da51d9749801",
   "metadata": {
    "tags": []
   },
   "outputs": [
    {
     "data": {
      "text/plain": [
       "[-1, 1234, 2, 4, 5, 99, 99, 99, 100, 100, 100, 100, 100]"
      ]
     },
     "execution_count": 39,
     "metadata": {},
     "output_type": "execute_result"
    }
   ],
   "source": [
    "lista"
   ]
  },
  {
   "cell_type": "code",
   "execution_count": null,
   "id": "364622e9-0d4d-43f9-9e29-bc1410dc01b6",
   "metadata": {},
   "outputs": [],
   "source": []
  }
 ],
 "metadata": {
  "kernelspec": {
   "display_name": "Python 3 (ipykernel)",
   "language": "python",
   "name": "python3"
  },
  "language_info": {
   "codemirror_mode": {
    "name": "ipython",
    "version": 3
   },
   "file_extension": ".py",
   "mimetype": "text/x-python",
   "name": "python",
   "nbconvert_exporter": "python",
   "pygments_lexer": "ipython3",
   "version": "3.10.6"
  }
 },
 "nbformat": 4,
 "nbformat_minor": 5
}
