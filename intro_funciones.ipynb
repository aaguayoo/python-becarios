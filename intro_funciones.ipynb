{
 "cells": [
  {
   "cell_type": "markdown",
   "id": "044160bb-6d59-41b0-84bf-720c6c641039",
   "metadata": {},
   "source": [
    "# Funciones en Python"
   ]
  },
  {
   "cell_type": "markdown",
   "id": "2fce19be-7e0e-4323-aa95-eb9c3ffe6836",
   "metadata": {},
   "source": [
    "Es común que cuando comienza a crecer un código, existan sentencias delcarads que comiencen a repetirse, o que sean bloques de sentencias y no una única sentencia. Cuando estamos en una situación como la mencionada, entonces es necesario considerar crear funciones. Si el código se comienza a hacer muy grande, siempre es conveniente separar en funciones.\n",
    "\n",
    "**NOTA**: Por buena práctica, una sentencia ya es muy grande si tiene más de __10-15__ líneas"
   ]
  },
  {
   "cell_type": "markdown",
   "id": "8c003ab2-22bf-4cd7-9105-b5a49a12751a",
   "metadata": {},
   "source": [
    "Entenderemos por _función_ a un bloque de sentencias previamente declarado y nombrado para ser utilizado en el momento en que se requiera, a diferencia de las estructuras de flujo que son declaradas en el código en un momento determinado para su uso.\n",
    "\n",
    "**NOTA**: En Jupyter, es buena constumbre no sólo utilizar markdown para separar por secciones el notebook, sino también siempre tener un apartado donde se declaren todas las funciones a utilizar, una por celda. De preferencia usar archivos **.py** donde se guarden dichas funciones e importarlos."
   ]
  },
  {
   "cell_type": "markdown",
   "id": "2d76d8ed-559b-4478-8312-1823a41d6bbf",
   "metadata": {},
   "source": [
    "Cuando una función es declarada, Python asignará un nombre de referencia a dicho código, sin embargo, si se espera tener un resultado utilizando la función, esta tendrá que ser invocada correctamente para su ejecución."
   ]
  },
  {
   "cell_type": "markdown",
   "id": "c7bf2ea0-d27d-42e7-ac7d-e3bed0cd2d25",
   "metadata": {},
   "source": [
    "La declaración de funciónes en Python es la siguiente:\n",
    "\n",
    "```python\n",
    "def nombre_de_la_función(argumentos):\n",
    "    sentencias_asociadas\n",
    "```\n",
    "\n",
    "**NOTA**: Los nombres de las funciones, deberán empezar, de preferencia, con un verbo. Y, por lo general, se utilizan palabras en inglés, guión bajo `_` para separar palabras, y todo en minúscula."
   ]
  },
  {
   "cell_type": "code",
   "execution_count": 1,
   "id": "b6e6cb5d-1cdd-4268-b33a-e6474fa81a88",
   "metadata": {
    "tags": []
   },
   "outputs": [],
   "source": [
    "# Ejemplo\n",
    "def obtener_cuadrado_de_la_suma(numero_1, numero_2):\n",
    "    suma = numero_1 + numero_2\n",
    "    return suma**2"
   ]
  },
  {
   "cell_type": "code",
   "execution_count": 3,
   "id": "1efb0ccf-54d8-4e9e-8d07-aa75cf1b161c",
   "metadata": {
    "tags": []
   },
   "outputs": [
    {
     "data": {
      "text/plain": [
       "9"
      ]
     },
     "execution_count": 3,
     "metadata": {},
     "output_type": "execute_result"
    }
   ],
   "source": [
    "# Para llamarla\n",
    "obtener_cuadrado_de_la_suma(1, 2)"
   ]
  },
  {
   "cell_type": "markdown",
   "id": "aaaef2bc-deda-47ba-9e0d-797ea4e602bb",
   "metadata": {},
   "source": [
    "La partícula `def` es siempre obligatoria para la definición de funciones, el nombre es la referencia con la cuál podremos invocar la función, y `numero_1` y `numero_2` son los argumentos (requeridos) de la función. La sentencia interna va indentada siguiendo la misma estructura que en las condiciones lógicas. Y la partícula `return`, es requerida cuando se necesita regresar un resultado."
   ]
  },
  {
   "cell_type": "markdown",
   "id": "776d3653-ab61-45cf-b63a-2d7a4a79c621",
   "metadata": {},
   "source": [
    "## Funciones simples"
   ]
  },
  {
   "cell_type": "markdown",
   "id": "6a1cef1c-09e7-4637-918d-9d9196b7d901",
   "metadata": {},
   "source": [
    "Cuando desarrollamos funciones, nuestra forma de irlas asimilando en todos sus aspectos puede  ser de forma gradual, es posible simplificar su declaración de modoa a que sean compresnibles sus components."
   ]
  },
  {
   "cell_type": "code",
   "execution_count": 9,
   "id": "ec9e5f10-44a7-4509-9058-11445cb2c592",
   "metadata": {
    "tags": []
   },
   "outputs": [],
   "source": [
    "# Simplifiquemos la declaración reduciendo el proceso a declararla y ejecutar una sencilla sentencia.\n",
    "def hola_mundo(): # No recibe argumentos, no regresa ningún valor, y sólo tiene una línea de sentencia.\n",
    "    print(\"Hola, mundo!\")"
   ]
  },
  {
   "cell_type": "code",
   "execution_count": 10,
   "id": "459d0b85-dbb7-4065-a919-da224722e706",
   "metadata": {
    "tags": []
   },
   "outputs": [
    {
     "name": "stdout",
     "output_type": "stream",
     "text": [
      "Hola, mundo!\n"
     ]
    }
   ],
   "source": [
    "hola_mundo() # Aunque no lleve argumentos, siempre lleva paréntesis"
   ]
  },
  {
   "cell_type": "code",
   "execution_count": 13,
   "id": "6287e14b-5cc4-4ba0-91d9-b788b42cc720",
   "metadata": {
    "tags": []
   },
   "outputs": [
    {
     "data": {
      "text/plain": [
       "<function __main__.hola_mundo()>"
      ]
     },
     "execution_count": 13,
     "metadata": {},
     "output_type": "execute_result"
    }
   ],
   "source": [
    "# Si se ejecuta sin paréntesis\n",
    "hola_mundo"
   ]
  },
  {
   "cell_type": "code",
   "execution_count": 15,
   "id": "8d170814-1c3e-4816-b0c7-90e53c3c3c41",
   "metadata": {
    "tags": []
   },
   "outputs": [
    {
     "data": {
      "text/plain": [
       "\u001b[0;31mSignature:\u001b[0m \u001b[0mhola_mundo\u001b[0m\u001b[0;34m(\u001b[0m\u001b[0;34m)\u001b[0m\u001b[0;34m\u001b[0m\u001b[0;34m\u001b[0m\u001b[0m\n",
       "\u001b[0;31mDocstring:\u001b[0m <no docstring>\n",
       "\u001b[0;31mFile:\u001b[0m      /tmp/ipykernel_85911/2419364320.py\n",
       "\u001b[0;31mType:\u001b[0m      function\n"
      ]
     },
     "metadata": {},
     "output_type": "display_data"
    }
   ],
   "source": [
    "# Para ver cómo se declara\n",
    "hola_mundo?"
   ]
  },
  {
   "cell_type": "code",
   "execution_count": 24,
   "id": "15c06fde-6b38-4585-ac15-b27a44dadd79",
   "metadata": {
    "tags": []
   },
   "outputs": [
    {
     "data": {
      "text/plain": [
       "\u001b[0;31mSignature:\u001b[0m \u001b[0mhola_mundo\u001b[0m\u001b[0;34m(\u001b[0m\u001b[0;34m)\u001b[0m\u001b[0;34m\u001b[0m\u001b[0;34m\u001b[0m\u001b[0m\n",
       "\u001b[0;31mDocstring:\u001b[0m <no docstring>\n",
       "\u001b[0;31mSource:\u001b[0m   \n",
       "\u001b[0;32mdef\u001b[0m \u001b[0mhola_mundo\u001b[0m\u001b[0;34m(\u001b[0m\u001b[0;34m)\u001b[0m\u001b[0;34m:\u001b[0m \u001b[0;31m# No recibe argumentos, no regresa ningún valor, y sólo tiene una línea de sentencia.\u001b[0m\u001b[0;34m\u001b[0m\n",
       "\u001b[0;34m\u001b[0m    \u001b[0mprint\u001b[0m\u001b[0;34m(\u001b[0m\u001b[0;34m\"Hola, mundo!\"\u001b[0m\u001b[0;34m)\u001b[0m\u001b[0;34m\u001b[0m\u001b[0;34m\u001b[0m\u001b[0m\n",
       "\u001b[0;31mFile:\u001b[0m      /tmp/ipykernel_85911/2419364320.py\n",
       "\u001b[0;31mType:\u001b[0m      function\n"
      ]
     },
     "metadata": {},
     "output_type": "display_data"
    }
   ],
   "source": [
    "hola_mundo??"
   ]
  },
  {
   "cell_type": "markdown",
   "id": "d0f2374f-ee7d-48a4-b3bd-6abc67e287b3",
   "metadata": {},
   "source": [
    "## Devolución de variables (`return`)\n",
    "\n",
    "Por el momento hemos conseguido que nuestra función devuelva un valor en pantalla, sin embargo, no quiere decir que lo mostrado a través de la función `print` sea información que podamos utilizar."
   ]
  },
  {
   "cell_type": "code",
   "execution_count": 25,
   "id": "77de150f-3aee-4ca3-8d20-7dceedcb50bb",
   "metadata": {
    "tags": []
   },
   "outputs": [
    {
     "name": "stdout",
     "output_type": "stream",
     "text": [
      "Hola, mundo\n"
     ]
    }
   ],
   "source": [
    "saludo = print(\"Hola, mundo\") # Con la intención (erronea) de declarar la variable saludo"
   ]
  },
  {
   "cell_type": "code",
   "execution_count": 28,
   "id": "fe07190a-5b98-4c89-b37d-189a1b220111",
   "metadata": {
    "tags": []
   },
   "outputs": [
    {
     "name": "stdout",
     "output_type": "stream",
     "text": [
      "None\n"
     ]
    }
   ],
   "source": [
    "print(saludo) # Donde esperaríamos que nos regresara \"Hola, mundo\", nos regresa un None\n",
    "# Saludo no fue declarado, porque print no hace eso"
   ]
  },
  {
   "cell_type": "markdown",
   "id": "af4bbc88-657b-4532-a32a-f0fa70326fa1",
   "metadata": {},
   "source": [
    "**NOTA**: La partícula None básicamente nos indica la ausencia de valor."
   ]
  },
  {
   "cell_type": "code",
   "execution_count": 31,
   "id": "aa47e09f-e566-4a14-ab40-831ad6f43403",
   "metadata": {
    "tags": []
   },
   "outputs": [
    {
     "name": "stdout",
     "output_type": "stream",
     "text": [
      "Hola, mundo!\n"
     ]
    }
   ],
   "source": [
    "saludo = hola_mundo() # Hola mundo sólo imprime, no regresa ningún valor"
   ]
  },
  {
   "cell_type": "code",
   "execution_count": 32,
   "id": "6206afbf-cca1-4366-9daa-108bf415a2f4",
   "metadata": {
    "tags": []
   },
   "outputs": [
    {
     "name": "stdout",
     "output_type": "stream",
     "text": [
      "None\n"
     ]
    }
   ],
   "source": [
    "print(saludo)"
   ]
  },
  {
   "cell_type": "code",
   "execution_count": 33,
   "id": "8ce52632-411b-4bda-96a3-856c73bad2a6",
   "metadata": {
    "tags": []
   },
   "outputs": [],
   "source": [
    "# La forma correcta de regresa un valor\n",
    "def hola_mundo():\n",
    "    return \"Hola, mundo\""
   ]
  },
  {
   "cell_type": "code",
   "execution_count": 36,
   "id": "2d0fcb6e-cb16-4edc-92ae-98e3ab9d1265",
   "metadata": {
    "tags": []
   },
   "outputs": [],
   "source": [
    "saludo = hola_mundo() # La variable saludo sí es declarada, ya que hola_mundo() si tiene return"
   ]
  },
  {
   "cell_type": "code",
   "execution_count": 37,
   "id": "41c7b51f-36c5-4d7e-897c-3069b8e937f9",
   "metadata": {
    "tags": []
   },
   "outputs": [
    {
     "name": "stdout",
     "output_type": "stream",
     "text": [
      "Hola, mundo\n"
     ]
    }
   ],
   "source": [
    "print(saludo)"
   ]
  },
  {
   "cell_type": "code",
   "execution_count": null,
   "id": "7eec9072-6a24-4771-bb7f-e92f116b48ba",
   "metadata": {},
   "outputs": [],
   "source": []
  }
 ],
 "metadata": {
  "kernelspec": {
   "display_name": "Python 3 (ipykernel)",
   "language": "python",
   "name": "python3"
  },
  "language_info": {
   "codemirror_mode": {
    "name": "ipython",
    "version": 3
   },
   "file_extension": ".py",
   "mimetype": "text/x-python",
   "name": "python",
   "nbconvert_exporter": "python",
   "pygments_lexer": "ipython3",
   "version": "3.10.6"
  }
 },
 "nbformat": 4,
 "nbformat_minor": 5
}
