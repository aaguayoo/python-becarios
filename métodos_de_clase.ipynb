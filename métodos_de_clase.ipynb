{
 "cells": [
  {
   "cell_type": "markdown",
   "id": "5cfc5b9e-fa4f-4770-8094-15ad64da3948",
   "metadata": {},
   "source": [
    "# Métodos en clases\n",
    "\n",
    "Hemos visto que podemos crear estructuras de datos a través de las clases, sin embargo, el declarar clases tiene alcances mayores, uno de esos alcnaces es determinar capacidades del objeto a través de _métodos_"
   ]
  },
  {
   "cell_type": "code",
   "execution_count": 7,
   "id": "b68a8a98-19a1-41b4-8b3d-fbf304125500",
   "metadata": {
    "tags": []
   },
   "outputs": [],
   "source": [
    "# Ejemplo\n",
    "class Bicicleta:\n",
    "    \"\"\"Clase Bicicleta\n",
    "    \n",
    "    Attributes:\n",
    "        numero_de_ruedas (int):\n",
    "            Es el número de ruedas de la bicicleta\n",
    "    \"\"\"\n",
    "    numero_de_ruedas = 2 # Atributo de clase\n",
    "    \n",
    "    def __init__(self, color: str, rodada: str | int) -> None:\n",
    "        \"\"\"Método mágico de inicialización de la clase Bicicleta\n",
    "        \n",
    "        Parameters:\n",
    "            color (str):\n",
    "                Color de la bicicleta definido por el usuario.\n",
    "                \n",
    "            rodada (str | int):\n",
    "                Tipo de rodada de la bicicleta, ya sea el nombre\n",
    "                de rodada o su valor en entero.\n",
    "        \"\"\"\n",
    "        self.color = color\n",
    "        self.rodada = rodada # Haciendo esto se guardan los parámetros de inicio como atributos\n",
    "        \n",
    "    def __str__(self):\n",
    "        \"\"\"Método mágico para imprimir info de la clase.\"\"\"\n",
    "        return f\"Bicicleta de {self.rodada}, color {self.color}\""
   ]
  },
  {
   "cell_type": "code",
   "execution_count": 11,
   "id": "d5f00f33-dd48-4585-8ffd-1875be2a0328",
   "metadata": {
    "tags": []
   },
   "outputs": [],
   "source": [
    "# Instanciamos la clase creando el objeto de Bicicleta\n",
    "bicicleta_ruta = Bicicleta(\n",
    "    color = \"gris\",\n",
    "    rodada = \"ruta\",\n",
    ")"
   ]
  },
  {
   "cell_type": "code",
   "execution_count": 12,
   "id": "576fef47-975a-4ca2-88c1-424af1959446",
   "metadata": {
    "tags": []
   },
   "outputs": [
    {
     "name": "stdout",
     "output_type": "stream",
     "text": [
      "Bicicleta de ruta, color gris\n"
     ]
    }
   ],
   "source": [
    "print(bicicleta_ruta)"
   ]
  },
  {
   "cell_type": "markdown",
   "id": "76c37ae2-55c2-4b59-8a41-33f0e503aa6e",
   "metadata": {
    "jp-MarkdownHeadingCollapsed": true,
    "tags": []
   },
   "source": [
    "Al inspeccionarlo veremos que solo tiene atributos, recordar que para inspeccionar se escribe .<TAB>\n",
    "Presionando tab después de .\n",
    "bicicleta_ruta.TAB\n",
    "    \n",
    "    | i  color              instance # O dict, int, list, tuple, ...\n",
    "    | i  número_de_ruedas   instance \n",
    "    | i  tipo               instance "
   ]
  },
  {
   "cell_type": "code",
   "execution_count": 13,
   "id": "79ebd4af-2758-41b6-b652-10404db62f78",
   "metadata": {
    "tags": []
   },
   "outputs": [
    {
     "data": {
      "text/plain": [
       "<__main__.Bicicleta at 0x7f1077d60a60>"
      ]
     },
     "execution_count": 13,
     "metadata": {},
     "output_type": "execute_result"
    }
   ],
   "source": [
    "bicicleta_ruta."
   ]
  },
  {
   "cell_type": "markdown",
   "id": "41ed6542-647c-472e-9a76-09831e497f96",
   "metadata": {},
   "source": [
    "Si bien la clase `Bicicleta` nos permite guardar información sobre el color, el número de ruedas y el tipo de rodada, la clase no tiene ninguna capacidad. Para agregar capacidades a la clase es necesario declarar métodos dentro de ella\n",
    "```python\n",
    "class NombreClase:\n",
    "    \n",
    "    ···\n",
    "    \n",
    "    def metodo_1(self):\n",
    "        \"\"\"Docstring\"\"\"\n",
    "        sentencias\n",
    "        \n",
    "    def metodo_2(self):\n",
    "        sentencias\n",
    "```"
   ]
  },
  {
   "cell_type": "markdown",
   "id": "cdceee5a-470e-444e-bdc8-e0e2ccb921e7",
   "metadata": {},
   "source": [
    "**Nota**: El primer argumento de los métodos siempre es `self`, esto permite que el objeto `self` y su contenido sean accesibles dentro del método. El objeto `self` basicamente es todo lo que tiene la clase."
   ]
  },
  {
   "cell_type": "code",
   "execution_count": 14,
   "id": "9496a4f3-ccef-4f63-a474-5b25c041ae6e",
   "metadata": {
    "tags": []
   },
   "outputs": [],
   "source": [
    "# Ejemplo de clase con método\n",
    "\n",
    "class Bicicleta:\n",
    "    \n",
    "    numero_de_ruedas = 2\n",
    "    \n",
    "    def __init__(self, color: str, rodada: str | int) -> None:\n",
    "        self.color = color\n",
    "        self.rodada = rodada\n",
    "        \n",
    "    def __str__(self) -> str:\n",
    "        return f\"Bicicleta de {self.rodada}, color {self.color}\"\n",
    "    \n",
    "    # Un de los métodos de la clase\n",
    "    def avanzar(self):\n",
    "        print(\"La bicicleta está avanzando\")"
   ]
  },
  {
   "cell_type": "code",
   "execution_count": 15,
   "id": "9d31177b-24d2-42f2-924d-76afd0d63e78",
   "metadata": {
    "tags": []
   },
   "outputs": [],
   "source": [
    "bicicleta_ruta = Bicicleta(\"rojo\", \"ruta\")"
   ]
  },
  {
   "cell_type": "code",
   "execution_count": null,
   "id": "b9145b6f-3216-4a21-89e1-d33635ff6eae",
   "metadata": {},
   "outputs": [],
   "source": [
    "bicicleta_ruta."
   ]
  },
  {
   "cell_type": "markdown",
   "id": "82b769f5-1e98-447e-8e70-94ef179119ee",
   "metadata": {
    "jp-MarkdownHeadingCollapsed": true,
    "tags": []
   },
   "source": [
    "Al inspeccionarlo veremos que solo tiene atributos, recordar que para inspeccionar se escribe .<TAB>\n",
    "Presionando tab después de .\n",
    "bicicleta_ruta.TAB\n",
    "    \n",
    "    | f  avanzar            function\n",
    "    | i  color              instance # O dict, int, list, tuple, ...\n",
    "    | i  número_de_ruedas   instance \n",
    "    | i  tipo               instance "
   ]
  },
  {
   "cell_type": "code",
   "execution_count": 16,
   "id": "6992de51-7896-46b4-90b7-d5d6d3a394c8",
   "metadata": {
    "tags": []
   },
   "outputs": [
    {
     "name": "stdout",
     "output_type": "stream",
     "text": [
      "La bicicleta está avanzando\n"
     ]
    }
   ],
   "source": [
    "bicicleta_ruta.avanzar() # Como se comporta como función, ponemos los paréntesis"
   ]
  },
  {
   "cell_type": "markdown",
   "id": "7ed10f67-a3ce-4ebc-8ade-6734c6b474cf",
   "metadata": {},
   "source": [
    "**NOTA MUY IMPORTANTE**: Aunque el método `avanzar` tenía como argumento a `self`, durante la invocación del método, no fue enviado ningún valor para dicho argumento. Esto es porque la inicialización de la clase ya crea el objeto que será suministrado a ese argumento, por lo tanto, nunca es necesario pasar valores para el argumento `self`."
   ]
  },
  {
   "cell_type": "markdown",
   "id": "1007e0cd-14ce-4453-ac6e-32d3b1db7e6e",
   "metadata": {},
   "source": [
    "## Argumentos en métodos"
   ]
  },
  {
   "cell_type": "markdown",
   "id": "de55b4c5-95de-4289-860a-e4090a84c21b",
   "metadata": {},
   "source": [
    "Al igual que en las funciones (anónimas o definidas), es posible introducir argumentos  de entrada dentro de los métodos de una clase, yua que son en sí funciones ligadas a la clase"
   ]
  },
  {
   "cell_type": "markdown",
   "id": "d0a29641-c38e-44a6-85c2-97d300e584b7",
   "metadata": {},
   "source": [
    "```python\n",
    "class NombreClase:\n",
    "\t\n",
    "\t...\n",
    "\n",
    "\tdef método_1(self, argumentos):\n",
    "\t\tsentencias\n",
    "\n",
    "\tdef método_2(self, argumentos):\n",
    "\t\tsentencias\n",
    "```"
   ]
  },
  {
   "cell_type": "code",
   "execution_count": 19,
   "id": "6042842b-4822-49aa-8c5e-620c5a869613",
   "metadata": {
    "tags": []
   },
   "outputs": [],
   "source": [
    "class Bicicleta:\n",
    "    \n",
    "\tnumero_de_ruedas = 2\n",
    "\n",
    "\tdef __init__(self, color, rodada):\n",
    "\t\tself.color = color\n",
    "\t\tself.rodada = rodada\n",
    "\n",
    "\tdef __str__(self):\n",
    "\t\treturn f\"Bicicleta de {self.rodada}, color {self.color}\"\n",
    "\n",
    "    # Método sin argumentos\n",
    "\tdef avanzar(self) -> None:\n",
    "\t\tprint(\"La bicicleta está avanzando\")\n",
    "\n",
    "    # Método con un argumento posicional\n",
    "\tdef encender_luces(self, luces: bool) -> None:\n",
    "\t\tif luces:\n",
    "\t\t\tprint(\"Luces encendidas\")\n",
    "\t\telse:\n",
    "\t\t\tprint(\"Imposible activar luces, la bicicleta no cuenta con luces\")\n",
    "    \n",
    "    # Método con un argumento pre-definido\n",
    "\tdef activar_amortiguador(self, amortiguador:bool=False):\n",
    "\t\tif amortiguador:\n",
    "\t\t\tprint(\"Amortiguador activado\")\n",
    "\t\telse:\n",
    "\t\t\tprint(\"Imposible activar amortiguador, la bicicleta no cuenta con amortiguador\")"
   ]
  },
  {
   "cell_type": "markdown",
   "id": "bef1edf7-68f4-44eb-9cbe-d363072fdce0",
   "metadata": {},
   "source": [
    "## Uso de atributos dentro de métodos\n",
    "\n",
    "Al dar `self` como primer argumento a nuestros métodos, nos permite hacer uso de todo lo declarado dentro de ese objeto, por lo que los atributos declarados al momento de inicializar la clase serán accesibles desde cualquier método que contenga `self` en sus argumentos."
   ]
  },
  {
   "cell_type": "code",
   "execution_count": 52,
   "id": "418528cb-148a-4391-a782-bb42ba81e67f",
   "metadata": {
    "tags": []
   },
   "outputs": [],
   "source": [
    "class Bicicleta:\n",
    "    \n",
    "    numero_de_ruedas = 2\n",
    "\n",
    "    def __init__(self, color, rodada):\n",
    "        self.color = color\n",
    "        self.rodada = rodada\n",
    "        self.estaAvanzando = False\n",
    "\n",
    "    def __str__(self):\n",
    "        return f\"Bicicleta de {self.rodada}, color {self.color}\"\n",
    "\n",
    "    # Método sin argumentos\n",
    "    def avanzar(self) -> None:\n",
    "        self.estaAvanzando = True\n",
    "        print(\"La bicicleta está avanzando\")\n",
    "\n",
    "    # Método con un argumento posicional\n",
    "    def encender_luces(self, luces: bool) -> None:\n",
    "        if luces:\n",
    "            print(\"Luces encendidas\")\n",
    "        else:\n",
    "            print(\"Imposible activar luces, la bicicleta no cuenta con luces\")\n",
    "  \n",
    "  # Método con un argumento pre-definido\n",
    "    def activar_amortiguadores(self, amortiguador:bool=False):\n",
    "        if amortiguador:\n",
    "            print(\"Amortiguador activado\")\n",
    "        else:\n",
    "            print(\"Imposible activar amortiguador, la bicicleta no cuenta con amortiguador\")\n",
    "  \n",
    "  # Método sin argumentos, pero usando los atributos de self\n",
    "  # Para saber a qué atributos de self podemos acceder, aplicamos el .<TAB>\n",
    "    def frenar(self):\n",
    "        return f\"La bicicleta color {self.color} está frenando\"\n",
    "\n",
    "  # Método con dos argumentos pre-definidos, y usando además los atributos de self\n",
    "  # Buena práctica: las variables booleanas deben tener esta forma:\n",
    "    def viaje(self, tieneLuces:bool=False, activarAmortiguadores:bool=False):\n",
    "        print(\"Iniciar el viaje\")\n",
    "        self.activar_amortiguadores(amortiguador=activarAmortiguadores)\n",
    "        self.encender_luces(luces=tieneLuces)\n",
    "        print(\"Finalizando viaje\")"
   ]
  },
  {
   "cell_type": "code",
   "execution_count": 53,
   "id": "bdec99c5-b99f-4135-be68-b503a20de5ee",
   "metadata": {
    "tags": []
   },
   "outputs": [],
   "source": [
    "bicicleta_ruta = Bicicleta(color=\"rojo\", rodada=\"ruta\")"
   ]
  },
  {
   "cell_type": "code",
   "execution_count": 54,
   "id": "b3a17530-bdb8-4cc2-8c4e-f463b6de26b6",
   "metadata": {
    "tags": []
   },
   "outputs": [
    {
     "data": {
      "text/plain": [
       "False"
      ]
     },
     "execution_count": 54,
     "metadata": {},
     "output_type": "execute_result"
    }
   ],
   "source": [
    "bicicleta_ruta.estaAvanzando"
   ]
  },
  {
   "cell_type": "code",
   "execution_count": 55,
   "id": "57f05152-83bc-4ab1-9aa7-1a6bbb36cd8e",
   "metadata": {
    "tags": []
   },
   "outputs": [
    {
     "name": "stdout",
     "output_type": "stream",
     "text": [
      "La bicicleta está avanzando\n"
     ]
    }
   ],
   "source": [
    "bicicleta_ruta.avanzar()"
   ]
  },
  {
   "cell_type": "code",
   "execution_count": 56,
   "id": "729fbf59-d3ea-4abb-9c8e-81d0f534c29e",
   "metadata": {
    "tags": []
   },
   "outputs": [
    {
     "data": {
      "text/plain": [
       "True"
      ]
     },
     "execution_count": 56,
     "metadata": {},
     "output_type": "execute_result"
    }
   ],
   "source": [
    "bicicleta_ruta.estaAvanzando"
   ]
  },
  {
   "cell_type": "code",
   "execution_count": 57,
   "id": "5865fc9b-03b7-4d61-a248-f45bc351fe2b",
   "metadata": {
    "tags": []
   },
   "outputs": [],
   "source": [
    "string_frenado = bicicleta_ruta.frenar()"
   ]
  },
  {
   "cell_type": "code",
   "execution_count": 58,
   "id": "189561c7-c762-44e5-b9e4-ebc0b330d0b9",
   "metadata": {
    "tags": []
   },
   "outputs": [
    {
     "name": "stdout",
     "output_type": "stream",
     "text": [
      "La bicicleta color rojo está frenando\n"
     ]
    }
   ],
   "source": [
    "print(string_frenado)"
   ]
  },
  {
   "cell_type": "code",
   "execution_count": 59,
   "id": "b78a3e5e-2559-4343-9e97-ab5a29179150",
   "metadata": {
    "tags": []
   },
   "outputs": [
    {
     "name": "stdout",
     "output_type": "stream",
     "text": [
      "Iniciar el viaje\n",
      "Imposible activar amortiguador, la bicicleta no cuenta con amortiguador\n",
      "Imposible activar luces, la bicicleta no cuenta con luces\n",
      "Finalizando viaje\n"
     ]
    }
   ],
   "source": [
    "bicicleta_ruta.viaje()"
   ]
  },
  {
   "cell_type": "code",
   "execution_count": 60,
   "id": "0367fe74-5cca-46ef-bc2b-c3a71099d1b2",
   "metadata": {
    "tags": []
   },
   "outputs": [
    {
     "name": "stdout",
     "output_type": "stream",
     "text": [
      "Iniciar el viaje\n",
      "Imposible activar amortiguador, la bicicleta no cuenta con amortiguador\n",
      "Luces encendidas\n",
      "Finalizando viaje\n"
     ]
    }
   ],
   "source": [
    "bicicleta_ruta.viaje(tieneLuces=True)"
   ]
  },
  {
   "cell_type": "code",
   "execution_count": null,
   "id": "892088e7-c714-446b-9659-5e6a8087fc7b",
   "metadata": {},
   "outputs": [],
   "source": [
    "bicicleta_ruta."
   ]
  }
 ],
 "metadata": {
  "kernelspec": {
   "display_name": "Python 3 (ipykernel)",
   "language": "python",
   "name": "python3"
  },
  "language_info": {
   "codemirror_mode": {
    "name": "ipython",
    "version": 3
   },
   "file_extension": ".py",
   "mimetype": "text/x-python",
   "name": "python",
   "nbconvert_exporter": "python",
   "pygments_lexer": "ipython3",
   "version": "3.10.6"
  }
 },
 "nbformat": 4,
 "nbformat_minor": 5
}
